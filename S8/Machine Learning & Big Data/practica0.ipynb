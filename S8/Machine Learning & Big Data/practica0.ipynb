{
 "cells": [
  {
   "cell_type": "markdown",
   "id": "6154c149-d233-48e8-8401-dae1e10b5eba",
   "metadata": {},
   "source": [
    "# Práctica 0: Python\n",
    "\n",
    "Greta y Héloïse"
   ]
  },
  {
   "cell_type": "markdown",
   "id": "407ae4b0-0769-4546-99c3-53fb49b3d706",
   "metadata": {},
   "source": [
    "# Calcula integral"
   ]
  },
  {
   "cell_type": "code",
   "execution_count": 88,
   "id": "17dc2012-0498-44a0-8ae7-92f1010c788f",
   "metadata": {},
   "outputs": [],
   "source": [
    "import numpy as np\n",
    "\n",
    "def integra_mc_iter(fun, a, b, num_puntos=10000):\n",
    "    #Calcula la integral de f un entre a y b por el método de Monte Carlo, version iterativa\n",
    "    M = max(fun(x) for x in np.linspace(a, b, num=100))\n",
    "    min_f = min(fun(x) for x in np.linspace(a, b, num=100))\n",
    "    n_debajo = 0\n",
    "    \n",
    "    for i in range(num_puntos):\n",
    "        px = np.random.uniform(a, b)\n",
    "        py = np.random.uniform(min_f, M)\n",
    "        if py < fun(px) :\n",
    "            n_debajo += 1\n",
    "            \n",
    "    I = (n_debajo / num_puntos) * (b - a) * M\n",
    "    return I"
   ]
  },
  {
   "cell_type": "code",
   "execution_count": 89,
   "id": "241a4f64",
   "metadata": {},
   "outputs": [],
   "source": [
    "import numpy as np\n",
    "\n",
    "def integra_mc_vect(fun, a, b, num_puntos=10000):\n",
    "    #Calcula la integral de f un entre a y b por el método de Monte Carlo, version vectorizada\n",
    "    M = max(fun(x) for x in np.linspace(a, b, num=100))\n",
    "    min_f = min(fun(x) for x in np.linspace(a, b, num=100))\n",
    "    px = np.random.uniform(a, b, num_puntos)\n",
    "    py = np.random.uniform(min_f, M, num_puntos)\n",
    "    num_debajo = np.sum(py < fun(px))\n",
    "    I = num_debajo / num_puntos * (b - a) * M\n",
    "    return I\n"
   ]
  },
  {
   "cell_type": "code",
   "execution_count": 90,
   "id": "5ed6aae0",
   "metadata": {},
   "outputs": [
    {
     "name": "stdout",
     "output_type": "stream",
     "text": [
      "Resultado método Monte Carlo, iterativo: 2.0031414633772058\n",
      "Resultado método Monte Carlo, vectorial: 1.9921472731281535\n",
      "Resultado método scipy.integrate.quad: 2.0\n"
     ]
    }
   ],
   "source": [
    "import numpy as np\n",
    "from scipy.integrate import quad\n",
    "\n",
    "# Ejemplo de uso\n",
    "def f(x):\n",
    "    return np.sin(x)\n",
    "\n",
    "a, b = 0, np.pi\n",
    "resultado_mc_iter = integra_mc_iter(f, a, b, 10000)\n",
    "resultado_mc_vect = integra_mc_iter(f, a, b, 10000)\n",
    "resultado_quad, _ = quad(f, a, b)\n",
    "\n",
    "print(\"Resultado método Monte Carlo, iterativo:\", resultado_mc_iter)\n",
    "print(\"Resultado método Monte Carlo, vectorial:\", resultado_mc_vect)\n",
    "print(\"Resultado método scipy.integrate.quad:\", resultado_quad)"
   ]
  },
  {
   "cell_type": "markdown",
   "id": "053db0f4-1795-4241-9020-4fc818c73dd3",
   "metadata": {},
   "source": [
    "# Comparativa de las dos versiones"
   ]
  },
  {
   "cell_type": "code",
   "execution_count": 91,
   "id": "da2ead30-8d69-4888-8631-e90767e341e7",
   "metadata": {},
   "outputs": [],
   "source": [
    "import matplotlib.pyplot as plt\n",
    "import time\n",
    "\n",
    "def compara_tiempos():\n",
    "    sizes = np.linspace(100, 10000000, 20)\n",
    "    \n",
    "    times_iter = []\n",
    "    times_vect = []\n",
    "    \n",
    "    a, b = 0, np.pi\n",
    "\n",
    "    for size in sizes:\n",
    "        tic = time.process_time()\n",
    "        iter = integra_mc_iter(f, a, b, 10000)\n",
    "        toc = time.process_time()\n",
    "        times_iter += [1000 * (toc - tic)]\n",
    "        \n",
    "        tic = time.process_time()\n",
    "        vect = integra_mc_vect(f, a, b, 10000)\n",
    "        toc = time.process_time()\n",
    "        times_vect += [1000 * (toc - tic)]\n",
    "        \n",
    "    plt.figure()\n",
    "    plt.scatter(sizes, times_iter, c='red', label='bucle')\n",
    "    plt.scatter(sizes, times_vect, c='blue', label='vector')\n",
    "    plt.legend()\n",
    "    #plt.savefig(\"compara_tiempos.png\")\n",
    "    plt.show()"
   ]
  },
  {
   "cell_type": "code",
   "execution_count": 92,
   "id": "c01ccf2e",
   "metadata": {},
   "outputs": [
    {
     "data": {
      "image/png": "[encoded data removed]",
      "text/plain": [
       "<Figure size 640x480 with 1 Axes>"
      ]
     },
     "metadata": {},
     "output_type": "display_data"
    }
   ],
   "source": [
    "compara_tiempos()"
   ]
  }
 ],
 "metadata": {
  "kernelspec": {
   "display_name": "Python 3 (ipykernel)",
   "language": "python",
   "name": "python3"
  },
  "language_info": {
   "codemirror_mode": {
    "name": "ipython",
    "version": 3
   },
   "file_extension": ".py",
   "mimetype": "text/x-python",
   "name": "python",
   "nbconvert_exporter": "python",
   "pygments_lexer": "ipython3",
   "version": "3.9.16"
  }
 },
 "nbformat": 4,
 "nbformat_minor": 5
}

{
 "cells": [
  {
   "cell_type": "markdown",
   "metadata": {},
   "source": [
    "<center>\n",
    "<h1> TP-Projet d'optimisation numérique </h1>\n",
    "<h1> Algorithme des Régions de Confiance </h1>\n",
    "</center>"
   ]
  },
  {
   "cell_type": "markdown",
   "metadata": {},
   "source": [
    "# Régions de confiance avec Pas de Cauchy \n",
    "\n",
    "## Implémentation \n",
    "\n",
    "1. Coder l'algorithme du pas de Cauchy d’un sous-problème de\n",
    "régions de confiance (fichier `Pas_De_Cauchy.jl`). La spécification de cet algorithme est donnée ci-dessous."
   ]
  },
  {
   "cell_type": "code",
   "execution_count": 1,
   "metadata": {},
   "outputs": [
    {
     "data": {
      "text/plain": [
       "Pas_De_Cauchy"
      ]
     },
     "execution_count": 1,
     "metadata": {},
     "output_type": "execute_result"
    }
   ],
   "source": [
    "using LinearAlgebra\n",
    "using Documenter\n",
    "using Markdown  \n",
    "include(\"Pas_De_Cauchy.jl\")\n",
    "# @doc Pas_De_Cauchy"
   ]
  },
  {
   "cell_type": "markdown",
   "metadata": {},
   "source": [
    "2. Ecrire des tests exhaustifs (qui testent tous les cas de figure possibles) pour votre algorithme du Pas de Cauchy. Vous créerez pour cela un fichier `tester_pas_de_Cauchy.jl` dans le répertoire `test` sur le modèle des autres fichiers de tests et vous exécuterez dans la cellule de code ci-après ces tests."
   ]
  },
  {
   "cell_type": "code",
   "execution_count": 2,
   "metadata": {},
   "outputs": [
    {
     "name": "stdout",
     "output_type": "stream",
     "text": [
      "\u001b[0m\u001b[1mTest Summary:      | \u001b[22m\u001b[32m\u001b[1mPass  \u001b[22m\u001b[39m\u001b[36m\u001b[1mTotal  \u001b[22m\u001b[39m\u001b[0m\u001b[1mTime\u001b[22m\n",
      "Test Pas de Cauchy | \u001b[32m  11  \u001b[39m\u001b[36m   11  \u001b[39m\u001b[0m1.1s\n"
     ]
    }
   ],
   "source": [
    "using Test\n",
    "\n",
    "include(\"../test/tester_pas_de_cauchy.jl\")\n",
    "include(\"../src/Pas_De_Cauchy.jl\")\n",
    "\n",
    "afficher = true\n",
    "\n",
    "@testset \"Test Pas de Cauchy\" begin\n",
    "    tester_pas_de_cauchy(afficher,Pas_De_Cauchy)\n",
    "end;"
   ]
  },
  {
   "cell_type": "markdown",
   "metadata": {},
   "source": [
    "3. Coder l'algorithme des Régions de Confiance (fichier `Regions_De_Confiance.jl`). Sa spécification est donnée ci-dessous."
   ]
  },
  {
   "cell_type": "code",
   "execution_count": 3,
   "metadata": {},
   "outputs": [
    {
     "data": {
      "text/plain": [
       "Regions_De_Confiance"
      ]
     },
     "execution_count": 3,
     "metadata": {},
     "output_type": "execute_result"
    }
   ],
   "source": [
    "include(\"Regions_De_Confiance.jl\")\n",
    "# @doc Regions_De_Confiance"
   ]
  },
  {
   "cell_type": "markdown",
   "metadata": {},
   "source": [
    "4. Vérifier que les tests ci-dessous passent."
   ]
  },
  {
   "cell_type": "code",
   "execution_count": 4,
   "metadata": {},
   "outputs": [
    {
     "name": "stdout",
     "output_type": "stream",
     "text": [
      "iters = 864\n",
      "\u001b[0m\u001b[1mTest Summary:       | \u001b[22m\u001b[32m\u001b[1mPass  \u001b[22m\u001b[39m\u001b[36m\u001b[1mTotal  \u001b[22m\u001b[39m\u001b[0m\u001b[1mTime\u001b[22m\n",
      "Test rc avec cauchy | \u001b[32m  30  \u001b[39m\u001b[36m   30  \u001b[39m\u001b[0m2.4s\n"
     ]
    }
   ],
   "source": [
    "using Test\n",
    "\n",
    "# Tolérance pour les tests d'égalité\n",
    "tol_erreur = sqrt(eps())\n",
    "\n",
    "## ajouter les fonctions de test\n",
    "include(\"../test/fonctions_de_tests.jl\")\n",
    "include(\"../test/tester_regions_de_confiance.jl\")\n",
    "include(\"../src/Pas_De_Cauchy.jl\")\n",
    "include(\"../src/Regions_De_Confiance.jl\")\n",
    "\n",
    "include(\"Gradient_Conjugue_Tronque.jl\") # pour ne pas afficher les erreurs dues au gct car on a décommenté les lignes de test du gct\n",
    "\n",
    "afficher = false\n",
    "\n",
    "@testset \"Test rc avec cauchy\" begin\n",
    "\ttester_regions_de_confiance(afficher,Regions_De_Confiance)\n",
    "end;"
   ]
  },
  {
   "cell_type": "markdown",
   "metadata": {},
   "source": [
    "## Interprétation \n",
    "\n",
    "<!-- Pour ces questions, des représentations graphiques sont attendues pour corroborer vos réponses. -->\n",
    "\n",
    "1. Soit $$ f_{1} : \\mathbf{R}^3 \\rightarrow \\mathbf{R}$$ $$ (x_1,x_2, x_3) \\mapsto  2 (x_1 +x_2 + x_3 -3)^2 + (x_1-x_2)^2 + (x_2 - x_3)^2$$ Quelle relation lie la fonction $f_1$ et son modèle de Taylor à l’ordre 2 ? Comparer alors les performances de Newton et RC-Pas de Cauchy sur cette fonction.\n",
    "\n",
    "2.  Le rayon initial de la région de confiance est un paramètre important dans l’analyse\n",
    "de la performance de l’algorithme. Sur quel(s) autre(s) paramètre(s) peut-on jouer\n",
    "pour essayer d’améliorer cette performance ? Étudier l’influence d’au moins deux de\n",
    "ces paramètres. Pour cela vous ferez des tests numériques et donnerez les résultats sous forme de tableaux et de graphiques."
   ]
  },
  {
   "cell_type": "markdown",
   "metadata": {},
   "source": [
    "### Réponses\n",
    "\n",
    "    Question 1.\n",
    "\n",
    "La fonction $f_1$ est de la forme $f(x) = \\frac{1}{2} x^T H x + g^T x + b$ et son gradient est de la forme $\\nabla f(x) = Hx + g$.\n",
    "\n",
    "La formule de Taylor à l'ordre 2 appliquée à f pour  $y \\in \\Re^3$ nous donne $f(x + y) = f(x) + \\nabla f(x)^T y + \\frac{1}{2} y^T \\nabla ^2 f(x) y$.\n",
    "\n",
    "Ainsi, $f(x + y) = f(x) + (Hx + g)^T y + \\frac{1}{2} y^T H y$.\n",
    "\n",
    "Ici, pour les fonctions quadratiques d'ordre 2, l'algorithme de Newton est plus adapté car comme on a vu précédemment, il permet de trouver le point minimal dès la première itération, alors que l'algorithme du pas de Cauchy permet de s'en rapprocher à la 32e itération par exemple avec x011 comme point initial.\n"
   ]
  },
  {
   "cell_type": "code",
   "execution_count": 5,
   "metadata": {},
   "outputs": [
    {
     "name": "stdout",
     "output_type": "stream",
     "text": [
      "-------------------------------------------------------------------------\n",
      "\u001b[34m\u001b[1mRésultats de : Newton appliqué à f1 au point initial [1, 0, 0]:\u001b[22m\u001b[39m\n",
      "  * xsol = [1.0, 1.0, 0.9999999999999999]\n",
      "  * f(xsol) = 1.232595164407831e-32\n",
      "  * nb_iters = 1\n",
      "  * flag = 0\n",
      "  * sol_exacte : [1, 1, 1]\n",
      "-------------------------------------------------------------------------\n",
      "\u001b[34m\u001b[1mRésultats de : Cauchy appliqué à f1 au point initial [1, 0, 0]:\u001b[22m\u001b[39m\n",
      "  * xsol = [1.0000072386475123, 0.999999018224437, 0.9999907978013619]\n",
      "  * f(xsol) = 1.5250060967729277e-10\n",
      "  * nb_iters = 32\n",
      "  * flag = 2\n",
      "  * sol_exacte : [1, 1, 1]\n"
     ]
    }
   ],
   "source": [
    "include(\"../test/fonctions_de_tests.jl\")\n",
    "include(\"../src/Algorithme_De_Newton.jl\")\n",
    "\n",
    "# Affichage les sorties de l'algorithme des Régions de confiance\n",
    "function my_afficher_resultats(algo,nom_fct,point_init,xmin,fxmin,flag,sol_exacte,nbiters)\n",
    "\tprintln(\"-------------------------------------------------------------------------\")\n",
    "\tprintstyled(\"Résultats de : \",algo, \" appliqué à \",nom_fct, \" au point initial \", point_init, \":\\n\",bold=true,color=:blue)\n",
    "\tprintln(\"  * xsol = \",xmin)\n",
    "\tprintln(\"  * f(xsol) = \",fxmin)\n",
    "\tprintln(\"  * nb_iters = \",nbiters)\n",
    "\tprintln(\"  * flag = \",flag)\n",
    "\tprintln(\"  * sol_exacte : \", sol_exacte)\n",
    "end\n",
    "\n",
    "xmin,f_min,flag,nb_iters = Algorithme_De_Newton(fct1,grad_fct1,hess_fct1,x011,[])\n",
    "my_afficher_resultats(\"Newton\",\"f1\",x011,xmin,f_min,flag,sol_exacte_fct1,nb_iters)\n",
    "\n",
    "xmin,f_min,flag,nb_iters = Regions_De_Confiance(\"cauchy\", fct1,grad_fct1,hess_fct1,x011,[])\n",
    "my_afficher_resultats(\"Cauchy\",\"f1\",x011,xmin,f_min,flag,sol_exacte_fct1,nb_iters)\n"
   ]
  },
  {
   "cell_type": "markdown",
   "metadata": {},
   "source": [
    "Autrement, l'algorithme du Pas de Cauchy est plus performant en général car il permet de considérer toutes les directions autour de x. Il permet de considérer tous les cas car on travaille dans un rayon $\\delta_k$ autour de x, en étant proche de x, et pas seulement la direction du gradient. L'algorithme de Newton est moins efficace si le gradient coupe l'axe des abcisses en un point trop éloigné de la solution du problème de minimisation, il diverge."
   ]
  },
  {
   "cell_type": "markdown",
   "metadata": {},
   "source": [
    "\n",
    "    Question 2.\n",
    "\n",
    "Pour améliorer les performances de l'algorithme, on peut jouer sur $\\gamma_1$, $\\gamma_2$, $\\eta_1$, $\\eta_2$, $\\Delta_{max}$ et $max\\_iter$. \n",
    "\n",
    "Tableau des tests pour f2 et x021 :\n",
    "\n",
    "| $\\gamma_1$ | $\\gamma_2$ | $\\eta_1$ | $\\eta_2$ | nbiters | xsol |\n",
    "| ---------- | ---------- | -------- |  ------- | ------- | ---- |\n",
    "|0.5 | 2.00 | 0.25 | 0.75 | 3988 | [0.9975992881487654, 0.9951970760634036] |\n",
    "|0.1 | 2.00 | 0.25 | 0.75 | 1809 | [0.9980294787896887, 0.9960656900170906] |\n",
    "|0.5 | 3.00 | 0.25 | 0.75 | 4016 | [0.9975836964880894, 0.9951659468630973] | \n",
    "|0.5 | 2.00 | 0.60 | 0.75 | 1923 | [0.9978904652398627, 0.9957752199741595] |\n",
    "|0.5 | 2.00 | 0.25 | 0.90 | 3985 | [0.9975992881487654, 0.9951970760634036] |"
   ]
  },
  {
   "cell_type": "markdown",
   "metadata": {},
   "source": [
    "En effet, la mise à jour de $\\delta_k$ dépend de $\\gamma_1$ et $\\gamma_2$, ces deux paramètres permettent de réduire ou d'augmenter la région de confiance avec le modèle de Taylor de 𝑓. Ainsi, si on diminue $\\gamma_1$, on réduit la région de confiance et donc on arrive à une solution plus précise. (lignes 2-3 du tableau)"
   ]
  },
  {
   "cell_type": "markdown",
   "metadata": {},
   "source": [
    "$\\Delta_{max}$ permet aussi de jouer sur la région de confiance."
   ]
  },
  {
   "cell_type": "markdown",
   "metadata": {},
   "source": [
    "Et $\\eta_1$ et $\\eta_2$ permettent de déterminer si l'approximation de 𝑓 par sa série de Taylor est assez bonne ou non. Augmenter $\\eta_1$ et/ou $\\eta_2$ permet donc de converger plus vite car il faut moins d'itérations pour arriver à la valeur optimale. (lignes 4-5 du tableau)"
   ]
  },
  {
   "cell_type": "markdown",
   "metadata": {},
   "source": [
    "En augmentant $max\\_iter$, la solution est sera plus précise car on fait plus d'itérations."
   ]
  },
  {
   "cell_type": "code",
   "execution_count": 6,
   "metadata": {},
   "outputs": [
    {
     "name": "stdout",
     "output_type": "stream",
     "text": [
      "-------------------------------------------------------------------------\n",
      "\u001b[34m\u001b[1mRésultats de : régions de confiance avec Cauchy appliqué à fonction 2 au point initial x021 :\u001b[22m\u001b[39m\n",
      "  * xsol = [0.9975992881487654, 0.9951970760634036]\n",
      "  * f(xsol) = 5.768693455998473e-6\n",
      "  * nb_iters = 3988\n",
      "  * flag = 2\n",
      "  * sol_exacte : [1, 1, 1]\n",
      "-------------------------------------------------------------------------\n",
      "\u001b[34m\u001b[1mRésultats de : régions de confiance avec Cauchy appliqué à fonction 2 au point initial x021, en augmentant gamma1 :\u001b[22m\u001b[39m\n",
      "  * xsol = [0.9980294787896887, 0.9960656900170906]\n",
      "  * f(xsol) = 3.883765796120765e-6\n",
      "  * nb_iters = 1809\n",
      "  * flag = 2\n",
      "  * sol_exacte : [1, 1, 1]\n",
      "-------------------------------------------------------------------------\n",
      "\u001b[34m\u001b[1mRésultats de : régions de confiance avec Cauchy appliqué à fonction 2 au point initial x021, en augmentant eta1 :\u001b[22m\u001b[39m\n",
      "  * xsol = [0.9978904652398627, 0.9957752199741595]\n",
      "  * f(xsol) = 4.460460769768015e-6\n",
      "  * nb_iters = 1923\n",
      "  * flag = 2\n",
      "  * sol_exacte : [1, 1, 1]\n"
     ]
    }
   ],
   "source": [
    "\t# La tolérance utilisée dans les tests\n",
    "\ttol_erreur = 1e-2\n",
    "\t# initialisation des variables de l'algorithme\n",
    "\tgamma1 = 0.5\n",
    "\tgamma2 = 2.00\n",
    "\teta1 = 0.25\n",
    "\teta2 = 0.75\n",
    "\tdeltaMax = 10\n",
    "\tTol_abs = sqrt(eps())\n",
    "\tTol_rel = 1e-8\n",
    "    epsilon = 1\n",
    "\tmaxits = 5000\n",
    "\tdelta0_1 = 2\n",
    "\tdelta0_2 = 2\n",
    "\n",
    "options1 =[deltaMax,gamma1,gamma2,eta1,eta2,delta0_1,maxits,Tol_abs,Tol_rel,epsilon]\n",
    "options2 =[deltaMax,gamma1,gamma2,eta1,eta2,delta0_2,maxits,Tol_abs,Tol_rel,epsilon]\n",
    "\n",
    "## Résultat de référence\n",
    "x_min21, fmin21, flag21, nb_iters21 = Regions_De_Confiance(\"cauchy\",fct2,grad_fct2,hess_fct2,pts1.x021,options2)\n",
    "afficher_resultats(\"régions de confiance avec \"*\"Cauchy\",\"fonction 2\",\"x021\",x_min21,fmin21, flag21,sol_exacte_fct1,nb_iters21)\n",
    "\n",
    "## Influence des gamma\n",
    "options_gamma =[deltaMax,0.1,gamma2,eta1,eta2,delta0_1,maxits,Tol_abs,Tol_rel,epsilon]\n",
    "x_min21, fmin21, flag21, nb_iters21 = Regions_De_Confiance(\"cauchy\",fct2,grad_fct2,hess_fct2,pts1.x021,options_gamma)\n",
    "afficher_resultats(\"régions de confiance avec \"*\"Cauchy\",\"fonction 2\",\"x021, en augmentant gamma1\",x_min21,fmin21, flag21,sol_exacte_fct1,nb_iters21)\n",
    "\n",
    "## Influence des eta\n",
    "options_eta =[deltaMax,gamma1,gamma2,0.6,eta2,delta0_1,maxits,Tol_abs,Tol_rel,epsilon]\n",
    "x_min21, fmin21, flag21, nb_iters21 = Regions_De_Confiance(\"cauchy\",fct2,grad_fct2,hess_fct2,pts1.x021,options_eta)\n",
    "afficher_resultats(\"régions de confiance avec \"*\"Cauchy\",\"fonction 2\",\"x021, en augmentant eta1\",x_min21,fmin21, flag21,sol_exacte_fct1,nb_iters21)\n"
   ]
  },
  {
   "cell_type": "markdown",
   "metadata": {},
   "source": [
    "# Régions de confiance avec Gradient Conjugué\n",
    "## Implémentation \n",
    "\n",
    "1. Implémenter l’algorithme du Gradient Conjugué Tronqué (fichier `Gradient_Conjugue_Tronque.jl`). Sa spécification est donnée ci-dessous."
   ]
  },
  {
   "cell_type": "code",
   "execution_count": 7,
   "metadata": {},
   "outputs": [
    {
     "data": {
      "text/plain": [
       "Gradient_Conjugue_Tronque"
      ]
     },
     "execution_count": 7,
     "metadata": {},
     "output_type": "execute_result"
    }
   ],
   "source": [
    "include(\"Gradient_Conjugue_Tronque.jl\")\n",
    "# @doc Gradient_Conjugue_Tronque"
   ]
  },
  {
   "cell_type": "markdown",
   "metadata": {},
   "source": [
    "2. Vérifier que les tests ci-dessous passent."
   ]
  },
  {
   "cell_type": "code",
   "execution_count": 8,
   "metadata": {},
   "outputs": [
    {
     "name": "stdout",
     "output_type": "stream",
     "text": [
      "\u001b[0m\u001b[1mTest Summary: | \u001b[22m\u001b[32m\u001b[1mPass  \u001b[22m\u001b[39m\u001b[36m\u001b[1mTotal  \u001b[22m\u001b[39m\u001b[0m\u001b[1mTime\u001b[22m\n",
      "Test gct      | \u001b[32m   9  \u001b[39m\u001b[36m    9  \u001b[39m\u001b[0m0.2s\n"
     ]
    }
   ],
   "source": [
    "using Test\n",
    "\n",
    "# Tolérance pour les tests d'égalité\n",
    "tol_erreur = sqrt(eps())\n",
    "\n",
    "## ajouter les fonctions de test\n",
    "include(\"../test/fonctions_de_tests.jl\")\n",
    "include(\"../test/tester_gct.jl\")\n",
    "include(\"../src/Gradient_Conjugue_Tronque.jl\")\n",
    "\n",
    "affiche = false\n",
    "\n",
    "@testset \"Test gct\" begin\n",
    "\ttester_gct(affiche,Gradient_Conjugue_Tronque)\n",
    "end;"
   ]
  },
  {
   "cell_type": "markdown",
   "metadata": {},
   "source": [
    "3. Intégrer l’algorithme du Gradient Conjugué Tronqué dans le code de régions de confiance (fichier `Regions_De_Confiance.jl`).\n",
    "\n",
    "4. Décommenter les tests avec le gradient conjugué dans `tester_regions_de_confiance.jl` et vérifier que les tests passent."
   ]
  },
  {
   "cell_type": "code",
   "execution_count": 9,
   "metadata": {},
   "outputs": [
    {
     "name": "stdout",
     "output_type": "stream",
     "text": [
      "iters = 864\n",
      "\u001b[0m\u001b[1mTest Summary:              | \u001b[22m\u001b[32m\u001b[1mPass  \u001b[22m\u001b[39m\u001b[36m\u001b[1mTotal  \u001b[22m\u001b[39m\u001b[0m\u001b[1mTime\u001b[22m\n",
      "Test rc avec cauchy et gct | \u001b[32m  30  \u001b[39m\u001b[36m   30  \u001b[39m\u001b[0m1.2s\n"
     ]
    }
   ],
   "source": [
    "using Test\n",
    "\n",
    "# Tolérance pour les tests d'égalité\n",
    "tol_erreur = sqrt(eps())\n",
    "\n",
    "## ajouter les fonctions de test\n",
    "include(\"../test/fonctions_de_tests.jl\")\n",
    "include(\"../test/tester_regions_de_confiance.jl\")\n",
    "include(\"../src/Pas_De_Cauchy.jl\")\n",
    "include(\"../src/Gradient_Conjugue_Tronque.jl\")\n",
    "include(\"../src/Regions_De_Confiance.jl\")\n",
    "\n",
    "affiche = false\n",
    "\n",
    "@testset \"Test rc avec cauchy et gct\" begin\n",
    "\ttester_regions_de_confiance(affiche,Regions_De_Confiance)\n",
    "end;"
   ]
  },
  {
   "cell_type": "markdown",
   "metadata": {},
   "source": [
    "## Interprétation  \n",
    "\n",
    "1. Comparer la décroissance obtenue avec celle du pas de Cauchy, en imposant la sortie\n",
    "dans l’algorithme au bout d’une itération seulement. Vous donnerez ci-après des résultats numériques. \n",
    "    1. Que remarquez vous ?\n",
    "    2. Comparer la décroissance obtenue avec celle du pas de Cauchy dans le cas général.\n",
    "\n",
    "3. Quels sont les avantages et inconvénients des deux approches ?"
   ]
  },
  {
   "cell_type": "markdown",
   "metadata": {},
   "source": [
    "### Réponses\n",
    "\n",
    "    Question 1.\n",
    "    \n",
    "A. Pour une itération, la décroissance correspond à l'évolution de $\\rho_k$. On décide de tracer le numérateur de $\\rho_k$, cela suffit pour donner une idée de l'évolutionde $\\rho_k$. Or le numérateur dépend de $\\delta_k$ donc on peut jouer sur ce paramètre pour regarder les résultats.\n",
    "\n",
    "Ainsi, on obtient des résultats équivalents pour la fonction f1 avec les deux algorithmes et pour f2, le Pas de Cauchy permet d'obtenir un résultat plus précis que le Gradient conjugué tronqué.\n"
   ]
  },
  {
   "cell_type": "code",
   "execution_count": 10,
   "metadata": {},
   "outputs": [
    {
     "name": "stdout",
     "output_type": "stream",
     "text": [
      "[8.532423208191126, 146.5637187323805, 19.63221788549697, 803677.8552526012, 0.04937499999548001][9.0, 197.72, 19.468115674733383, 846282.988264899, 0.0]"
     ]
    },
    {
     "data": {
      "image/svg+xml": [
       "<?xml version=\"1.0\" encoding=\"utf-8\"?>\n",
       "<svg xmlns=\"http://www.w3.org/2000/svg\" xmlns:xlink=\"http://www.w3.org/1999/xlink\" width=\"600\" height=\"400\" viewBox=\"0 0 2400 1600\">\n",
       "<defs>\n",
       "  <clipPath id=\"clip610\">\n",
       "    <rect x=\"0\" y=\"0\" width=\"2400\" height=\"1600\"/>\n",
       "  </clipPath>\n",
       "</defs>\n",
       "<path clip-path=\"url(#clip610)\" d=\"\n",
       "M0 1600 L2400 1600 L2400 0 L0 0  Z\n",
       "  \" fill=\"#ffffff\" fill-rule=\"evenodd\" fill-opacity=\"1\"/>\n",
       "<defs>\n",
       "  <clipPath id=\"clip611\">\n",
       "    <rect x=\"480\" y=\"0\" width=\"1681\" height=\"1600\"/>\n",
       "  </clipPath>\n",
       "</defs>\n",
       "<path clip-path=\"url(#clip610)\" d=\"\n",
       "M275.136 1486.45 L2352.76 1486.45 L2352.76 123.472 L275.136 123.472  Z\n",
       "  \" fill=\"#ffffff\" fill-rule=\"evenodd\" fill-opacity=\"1\"/>\n",
       "<defs>\n",
       "  <clipPath id=\"clip612\">\n",
       "    <rect x=\"275\" y=\"123\" width=\"2079\" height=\"1364\"/>\n",
       "  </clipPath>\n",
       "</defs>\n",
       "<polyline clip-path=\"url(#clip612)\" style=\"stroke:#000000; stroke-linecap:round; stroke-linejoin:round; stroke-width:2; stroke-opacity:0.1; fill:none\" points=\"\n",
       "  333.937,1486.45 333.937,123.472 \n",
       "  \"/>\n",
       "<polyline clip-path=\"url(#clip612)\" style=\"stroke:#000000; stroke-linecap:round; stroke-linejoin:round; stroke-width:2; stroke-opacity:0.1; fill:none\" points=\"\n",
       "  823.942,1486.45 823.942,123.472 \n",
       "  \"/>\n",
       "<polyline clip-path=\"url(#clip612)\" style=\"stroke:#000000; stroke-linecap:round; stroke-linejoin:round; stroke-width:2; stroke-opacity:0.1; fill:none\" points=\"\n",
       "  1313.95,1486.45 1313.95,123.472 \n",
       "  \"/>\n",
       "<polyline clip-path=\"url(#clip612)\" style=\"stroke:#000000; stroke-linecap:round; stroke-linejoin:round; stroke-width:2; stroke-opacity:0.1; fill:none\" points=\"\n",
       "  1803.95,1486.45 1803.95,123.472 \n",
       "  \"/>\n",
       "<polyline clip-path=\"url(#clip612)\" style=\"stroke:#000000; stroke-linecap:round; stroke-linejoin:round; stroke-width:2; stroke-opacity:0.1; fill:none\" points=\"\n",
       "  2293.96,1486.45 2293.96,123.472 \n",
       "  \"/>\n",
       "<polyline clip-path=\"url(#clip610)\" style=\"stroke:#000000; stroke-linecap:round; stroke-linejoin:round; stroke-width:4; stroke-opacity:1; fill:none\" points=\"\n",
       "  275.136,1486.45 2352.76,1486.45 \n",
       "  \"/>\n",
       "<polyline clip-path=\"url(#clip610)\" style=\"stroke:#000000; stroke-linecap:round; stroke-linejoin:round; stroke-width:4; stroke-opacity:1; fill:none\" points=\"\n",
       "  333.937,1486.45 333.937,1467.55 \n",
       "  \"/>\n",
       "<polyline clip-path=\"url(#clip610)\" style=\"stroke:#000000; stroke-linecap:round; stroke-linejoin:round; stroke-width:4; stroke-opacity:1; fill:none\" points=\"\n",
       "  823.942,1486.45 823.942,1467.55 \n",
       "  \"/>\n",
       "<polyline clip-path=\"url(#clip610)\" style=\"stroke:#000000; stroke-linecap:round; stroke-linejoin:round; stroke-width:4; stroke-opacity:1; fill:none\" points=\"\n",
       "  1313.95,1486.45 1313.95,1467.55 \n",
       "  \"/>\n",
       "<polyline clip-path=\"url(#clip610)\" style=\"stroke:#000000; stroke-linecap:round; stroke-linejoin:round; stroke-width:4; stroke-opacity:1; fill:none\" points=\"\n",
       "  1803.95,1486.45 1803.95,1467.55 \n",
       "  \"/>\n",
       "<polyline clip-path=\"url(#clip610)\" style=\"stroke:#000000; stroke-linecap:round; stroke-linejoin:round; stroke-width:4; stroke-opacity:1; fill:none\" points=\"\n",
       "  2293.96,1486.45 2293.96,1467.55 \n",
       "  \"/>\n",
       "<path clip-path=\"url(#clip610)\" d=\"M302.189 1522.92 L292.814 1535.54 L302.676 1548.85 L297.652 1548.85 L290.106 1538.66 L282.56 1548.85 L277.537 1548.85 L287.606 1535.28 L278.393 1522.92 L283.416 1522.92 L290.291 1532.16 L297.166 1522.92 L302.189 1522.92 Z\" fill=\"#000000\" fill-rule=\"evenodd\" fill-opacity=\"1\" /><path clip-path=\"url(#clip610)\" d=\"M319.296 1517.37 Q315.685 1517.37 313.856 1520.93 Q312.05 1524.47 312.05 1531.6 Q312.05 1538.71 313.856 1542.27 Q315.685 1545.82 319.296 1545.82 Q322.93 1545.82 324.736 1542.27 Q326.564 1538.71 326.564 1531.6 Q326.564 1524.47 324.736 1520.93 Q322.93 1517.37 319.296 1517.37 M319.296 1513.66 Q325.106 1513.66 328.161 1518.27 Q331.24 1522.85 331.24 1531.6 Q331.24 1540.33 328.161 1544.94 Q325.106 1549.52 319.296 1549.52 Q313.486 1549.52 310.407 1544.94 Q307.351 1540.33 307.351 1531.6 Q307.351 1522.85 310.407 1518.27 Q313.486 1513.66 319.296 1513.66 Z\" fill=\"#000000\" fill-rule=\"evenodd\" fill-opacity=\"1\" /><path clip-path=\"url(#clip610)\" d=\"M340.268 1544.91 L347.907 1544.91 L347.907 1518.55 L339.597 1520.21 L339.597 1515.95 L347.86 1514.29 L352.536 1514.29 L352.536 1544.91 L360.175 1544.91 L360.175 1548.85 L340.268 1548.85 L340.268 1544.91 Z\" fill=\"#000000\" fill-rule=\"evenodd\" fill-opacity=\"1\" /><path clip-path=\"url(#clip610)\" d=\"M370.43 1544.91 L378.069 1544.91 L378.069 1518.55 L369.758 1520.21 L369.758 1515.95 L378.022 1514.29 L382.698 1514.29 L382.698 1544.91 L390.337 1544.91 L390.337 1548.85 L370.43 1548.85 L370.43 1544.91 Z\" fill=\"#000000\" fill-rule=\"evenodd\" fill-opacity=\"1\" /><path clip-path=\"url(#clip610)\" d=\"M792.379 1522.92 L783.004 1535.54 L792.865 1548.85 L787.842 1548.85 L780.296 1538.66 L772.75 1548.85 L767.727 1548.85 L777.796 1535.28 L768.583 1522.92 L773.606 1522.92 L780.481 1532.16 L787.356 1522.92 L792.379 1522.92 Z\" fill=\"#000000\" fill-rule=\"evenodd\" fill-opacity=\"1\" /><path clip-path=\"url(#clip610)\" d=\"M809.486 1517.37 Q805.874 1517.37 804.046 1520.93 Q802.24 1524.47 802.24 1531.6 Q802.24 1538.71 804.046 1542.27 Q805.874 1545.82 809.486 1545.82 Q813.12 1545.82 814.925 1542.27 Q816.754 1538.71 816.754 1531.6 Q816.754 1524.47 814.925 1520.93 Q813.12 1517.37 809.486 1517.37 M809.486 1513.66 Q815.296 1513.66 818.351 1518.27 Q821.43 1522.85 821.43 1531.6 Q821.43 1540.33 818.351 1544.94 Q815.296 1549.52 809.486 1549.52 Q803.675 1549.52 800.597 1544.94 Q797.541 1540.33 797.541 1531.6 Q797.541 1522.85 800.597 1518.27 Q803.675 1513.66 809.486 1513.66 Z\" fill=\"#000000\" fill-rule=\"evenodd\" fill-opacity=\"1\" /><path clip-path=\"url(#clip610)\" d=\"M830.458 1544.91 L838.097 1544.91 L838.097 1518.55 L829.786 1520.21 L829.786 1515.95 L838.05 1514.29 L842.726 1514.29 L842.726 1544.91 L850.365 1544.91 L850.365 1548.85 L830.458 1548.85 L830.458 1544.91 Z\" fill=\"#000000\" fill-rule=\"evenodd\" fill-opacity=\"1\" /><path clip-path=\"url(#clip610)\" d=\"M863.837 1544.91 L880.157 1544.91 L880.157 1548.85 L858.212 1548.85 L858.212 1544.91 Q860.874 1542.16 865.458 1537.53 Q870.064 1532.88 871.245 1531.53 Q873.49 1529.01 874.37 1527.27 Q875.272 1525.51 875.272 1523.82 Q875.272 1521.07 873.328 1519.33 Q871.407 1517.6 868.305 1517.6 Q866.106 1517.6 863.652 1518.36 Q861.221 1519.13 858.444 1520.68 L858.444 1515.95 Q861.268 1514.82 863.721 1514.24 Q866.175 1513.66 868.212 1513.66 Q873.582 1513.66 876.777 1516.35 Q879.971 1519.03 879.971 1523.52 Q879.971 1525.65 879.161 1527.57 Q878.374 1529.47 876.268 1532.07 Q875.689 1532.74 872.587 1535.95 Q869.485 1539.15 863.837 1544.91 Z\" fill=\"#000000\" fill-rule=\"evenodd\" fill-opacity=\"1\" /><path clip-path=\"url(#clip610)\" d=\"M1282.2 1522.92 L1272.82 1535.54 L1282.68 1548.85 L1277.66 1548.85 L1270.12 1538.66 L1262.57 1548.85 L1257.55 1548.85 L1267.62 1535.28 L1258.4 1522.92 L1263.43 1522.92 L1270.3 1532.16 L1277.18 1522.92 L1282.2 1522.92 Z\" fill=\"#000000\" fill-rule=\"evenodd\" fill-opacity=\"1\" /><path clip-path=\"url(#clip610)\" d=\"M1299.31 1517.37 Q1295.69 1517.37 1293.87 1520.93 Q1292.06 1524.47 1292.06 1531.6 Q1292.06 1538.71 1293.87 1542.27 Q1295.69 1545.82 1299.31 1545.82 Q1302.94 1545.82 1304.74 1542.27 Q1306.57 1538.71 1306.57 1531.6 Q1306.57 1524.47 1304.74 1520.93 Q1302.94 1517.37 1299.31 1517.37 M1299.31 1513.66 Q1305.12 1513.66 1308.17 1518.27 Q1311.25 1522.85 1311.25 1531.6 Q1311.25 1540.33 1308.17 1544.94 Q1305.12 1549.52 1299.31 1549.52 Q1293.49 1549.52 1290.42 1544.94 Q1287.36 1540.33 1287.36 1531.6 Q1287.36 1522.85 1290.42 1518.27 Q1293.49 1513.66 1299.31 1513.66 Z\" fill=\"#000000\" fill-rule=\"evenodd\" fill-opacity=\"1\" /><path clip-path=\"url(#clip610)\" d=\"M1323.49 1544.91 L1339.81 1544.91 L1339.81 1548.85 L1317.87 1548.85 L1317.87 1544.91 Q1320.53 1542.16 1325.12 1537.53 Q1329.72 1532.88 1330.9 1531.53 Q1333.15 1529.01 1334.03 1527.27 Q1334.93 1525.51 1334.93 1523.82 Q1334.93 1521.07 1332.99 1519.33 Q1331.06 1517.6 1327.96 1517.6 Q1325.76 1517.6 1323.31 1518.36 Q1320.88 1519.13 1318.1 1520.68 L1318.1 1515.95 Q1320.93 1514.82 1323.38 1514.24 Q1325.83 1513.66 1327.87 1513.66 Q1333.24 1513.66 1336.43 1516.35 Q1339.63 1519.03 1339.63 1523.52 Q1339.63 1525.65 1338.82 1527.57 Q1338.03 1529.47 1335.93 1532.07 Q1335.35 1532.74 1332.24 1535.95 Q1329.14 1539.15 1323.49 1544.91 Z\" fill=\"#000000\" fill-rule=\"evenodd\" fill-opacity=\"1\" /><path clip-path=\"url(#clip610)\" d=\"M1350.44 1544.91 L1358.08 1544.91 L1358.08 1518.55 L1349.77 1520.21 L1349.77 1515.95 L1358.03 1514.29 L1362.71 1514.29 L1362.71 1544.91 L1370.35 1544.91 L1370.35 1548.85 L1350.44 1548.85 L1350.44 1544.91 Z\" fill=\"#000000\" fill-rule=\"evenodd\" fill-opacity=\"1\" /><path clip-path=\"url(#clip610)\" d=\"M1772.39 1522.92 L1763.01 1535.54 L1772.87 1548.85 L1767.85 1548.85 L1760.31 1538.66 L1752.76 1548.85 L1747.74 1548.85 L1757.81 1535.28 L1748.59 1522.92 L1753.62 1522.92 L1760.49 1532.16 L1767.37 1522.92 L1772.39 1522.92 Z\" fill=\"#000000\" fill-rule=\"evenodd\" fill-opacity=\"1\" /><path clip-path=\"url(#clip610)\" d=\"M1789.49 1517.37 Q1785.88 1517.37 1784.06 1520.93 Q1782.25 1524.47 1782.25 1531.6 Q1782.25 1538.71 1784.06 1542.27 Q1785.88 1545.82 1789.49 1545.82 Q1793.13 1545.82 1794.93 1542.27 Q1796.76 1538.71 1796.76 1531.6 Q1796.76 1524.47 1794.93 1520.93 Q1793.13 1517.37 1789.49 1517.37 M1789.49 1513.66 Q1795.3 1513.66 1798.36 1518.27 Q1801.44 1522.85 1801.44 1531.6 Q1801.44 1540.33 1798.36 1544.94 Q1795.3 1549.52 1789.49 1549.52 Q1783.68 1549.52 1780.61 1544.94 Q1777.55 1540.33 1777.55 1531.6 Q1777.55 1522.85 1780.61 1518.27 Q1783.68 1513.66 1789.49 1513.66 Z\" fill=\"#000000\" fill-rule=\"evenodd\" fill-opacity=\"1\" /><path clip-path=\"url(#clip610)\" d=\"M1813.68 1544.91 L1830 1544.91 L1830 1548.85 L1808.06 1548.85 L1808.06 1544.91 Q1810.72 1542.16 1815.3 1537.53 Q1819.91 1532.88 1821.09 1531.53 Q1823.34 1529.01 1824.22 1527.27 Q1825.12 1525.51 1825.12 1523.82 Q1825.12 1521.07 1823.18 1519.33 Q1821.25 1517.6 1818.15 1517.6 Q1815.95 1517.6 1813.5 1518.36 Q1811.07 1519.13 1808.29 1520.68 L1808.29 1515.95 Q1811.12 1514.82 1813.57 1514.24 Q1816.02 1513.66 1818.06 1513.66 Q1823.43 1513.66 1826.62 1516.35 Q1829.82 1519.03 1829.82 1523.52 Q1829.82 1525.65 1829.01 1527.57 Q1828.22 1529.47 1826.11 1532.07 Q1825.54 1532.74 1822.43 1535.95 Q1819.33 1539.15 1813.68 1544.91 Z\" fill=\"#000000\" fill-rule=\"evenodd\" fill-opacity=\"1\" /><path clip-path=\"url(#clip610)\" d=\"M1843.85 1544.91 L1860.17 1544.91 L1860.17 1548.85 L1838.22 1548.85 L1838.22 1544.91 Q1840.88 1542.16 1845.47 1537.53 Q1850.07 1532.88 1851.25 1531.53 Q1853.5 1529.01 1854.38 1527.27 Q1855.28 1525.51 1855.28 1523.82 Q1855.28 1521.07 1853.34 1519.33 Q1851.42 1517.6 1848.31 1517.6 Q1846.11 1517.6 1843.66 1518.36 Q1841.23 1519.13 1838.45 1520.68 L1838.45 1515.95 Q1841.28 1514.82 1843.73 1514.24 Q1846.18 1513.66 1848.22 1513.66 Q1853.59 1513.66 1856.79 1516.35 Q1859.98 1519.03 1859.98 1523.52 Q1859.98 1525.65 1859.17 1527.57 Q1858.38 1529.47 1856.28 1532.07 Q1855.7 1532.74 1852.6 1535.95 Q1849.49 1539.15 1843.85 1544.91 Z\" fill=\"#000000\" fill-rule=\"evenodd\" fill-opacity=\"1\" /><path clip-path=\"url(#clip610)\" d=\"M2261.92 1522.92 L2252.54 1535.54 L2262.4 1548.85 L2257.38 1548.85 L2249.84 1538.66 L2242.29 1548.85 L2237.27 1548.85 L2247.34 1535.28 L2238.12 1522.92 L2243.15 1522.92 L2250.02 1532.16 L2256.9 1522.92 L2261.92 1522.92 Z\" fill=\"#000000\" fill-rule=\"evenodd\" fill-opacity=\"1\" /><path clip-path=\"url(#clip610)\" d=\"M2279.02 1517.37 Q2275.41 1517.37 2273.59 1520.93 Q2271.78 1524.47 2271.78 1531.6 Q2271.78 1538.71 2273.59 1542.27 Q2275.41 1545.82 2279.02 1545.82 Q2282.66 1545.82 2284.46 1542.27 Q2286.29 1538.71 2286.29 1531.6 Q2286.29 1524.47 2284.46 1520.93 Q2282.66 1517.37 2279.02 1517.37 M2279.02 1513.66 Q2284.84 1513.66 2287.89 1518.27 Q2290.97 1522.85 2290.97 1531.6 Q2290.97 1540.33 2287.89 1544.94 Q2284.84 1549.52 2279.02 1549.52 Q2273.21 1549.52 2270.14 1544.94 Q2267.08 1540.33 2267.08 1531.6 Q2267.08 1522.85 2270.14 1518.27 Q2273.21 1513.66 2279.02 1513.66 Z\" fill=\"#000000\" fill-rule=\"evenodd\" fill-opacity=\"1\" /><path clip-path=\"url(#clip610)\" d=\"M2303.21 1544.91 L2319.53 1544.91 L2319.53 1548.85 L2297.59 1548.85 L2297.59 1544.91 Q2300.25 1542.16 2304.83 1537.53 Q2309.44 1532.88 2310.62 1531.53 Q2312.87 1529.01 2313.75 1527.27 Q2314.65 1525.51 2314.65 1523.82 Q2314.65 1521.07 2312.71 1519.33 Q2310.78 1517.6 2307.68 1517.6 Q2305.48 1517.6 2303.03 1518.36 Q2300.6 1519.13 2297.82 1520.68 L2297.82 1515.95 Q2300.65 1514.82 2303.1 1514.24 Q2305.55 1513.66 2307.59 1513.66 Q2312.96 1513.66 2316.15 1516.35 Q2319.35 1519.03 2319.35 1523.52 Q2319.35 1525.65 2318.54 1527.57 Q2317.75 1529.47 2315.65 1532.07 Q2315.07 1532.74 2311.96 1535.95 Q2308.86 1539.15 2303.21 1544.91 Z\" fill=\"#000000\" fill-rule=\"evenodd\" fill-opacity=\"1\" /><path clip-path=\"url(#clip610)\" d=\"M2343.52 1530.21 Q2346.87 1530.93 2348.75 1533.2 Q2350.64 1535.47 2350.64 1538.8 Q2350.64 1543.92 2347.13 1546.72 Q2343.61 1549.52 2337.13 1549.52 Q2334.95 1549.52 2332.64 1549.08 Q2330.34 1548.66 2327.89 1547.81 L2327.89 1543.29 Q2329.83 1544.43 2332.15 1545.01 Q2334.46 1545.58 2336.99 1545.58 Q2341.39 1545.58 2343.68 1543.85 Q2345.99 1542.11 2345.99 1538.8 Q2345.99 1535.75 2343.84 1534.03 Q2341.71 1532.3 2337.89 1532.3 L2333.86 1532.3 L2333.86 1528.45 L2338.08 1528.45 Q2341.52 1528.45 2343.35 1527.09 Q2345.18 1525.7 2345.18 1523.11 Q2345.18 1520.45 2343.28 1519.03 Q2341.41 1517.6 2337.89 1517.6 Q2335.97 1517.6 2333.77 1518.01 Q2331.57 1518.43 2328.93 1519.31 L2328.93 1515.14 Q2331.59 1514.4 2333.91 1514.03 Q2336.25 1513.66 2338.31 1513.66 Q2343.63 1513.66 2346.73 1516.09 Q2349.83 1518.5 2349.83 1522.62 Q2349.83 1525.49 2348.19 1527.48 Q2346.55 1529.45 2343.52 1530.21 Z\" fill=\"#000000\" fill-rule=\"evenodd\" fill-opacity=\"1\" /><polyline clip-path=\"url(#clip612)\" style=\"stroke:#000000; stroke-linecap:round; stroke-linejoin:round; stroke-width:2; stroke-opacity:0.1; fill:none\" points=\"\n",
       "  275.136,1447.87 2352.76,1447.87 \n",
       "  \"/>\n",
       "<polyline clip-path=\"url(#clip612)\" style=\"stroke:#000000; stroke-linecap:round; stroke-linejoin:round; stroke-width:2; stroke-opacity:0.1; fill:none\" points=\"\n",
       "  275.136,1144 2352.76,1144 \n",
       "  \"/>\n",
       "<polyline clip-path=\"url(#clip612)\" style=\"stroke:#000000; stroke-linecap:round; stroke-linejoin:round; stroke-width:2; stroke-opacity:0.1; fill:none\" points=\"\n",
       "  275.136,840.121 2352.76,840.121 \n",
       "  \"/>\n",
       "<polyline clip-path=\"url(#clip612)\" style=\"stroke:#000000; stroke-linecap:round; stroke-linejoin:round; stroke-width:2; stroke-opacity:0.1; fill:none\" points=\"\n",
       "  275.136,536.245 2352.76,536.245 \n",
       "  \"/>\n",
       "<polyline clip-path=\"url(#clip612)\" style=\"stroke:#000000; stroke-linecap:round; stroke-linejoin:round; stroke-width:2; stroke-opacity:0.1; fill:none\" points=\"\n",
       "  275.136,232.368 2352.76,232.368 \n",
       "  \"/>\n",
       "<polyline clip-path=\"url(#clip610)\" style=\"stroke:#000000; stroke-linecap:round; stroke-linejoin:round; stroke-width:4; stroke-opacity:1; fill:none\" points=\"\n",
       "  275.136,1486.45 275.136,123.472 \n",
       "  \"/>\n",
       "<polyline clip-path=\"url(#clip610)\" style=\"stroke:#000000; stroke-linecap:round; stroke-linejoin:round; stroke-width:4; stroke-opacity:1; fill:none\" points=\"\n",
       "  275.136,1447.87 294.034,1447.87 \n",
       "  \"/>\n",
       "<polyline clip-path=\"url(#clip610)\" style=\"stroke:#000000; stroke-linecap:round; stroke-linejoin:round; stroke-width:4; stroke-opacity:1; fill:none\" points=\"\n",
       "  275.136,1144 294.034,1144 \n",
       "  \"/>\n",
       "<polyline clip-path=\"url(#clip610)\" style=\"stroke:#000000; stroke-linecap:round; stroke-linejoin:round; stroke-width:4; stroke-opacity:1; fill:none\" points=\"\n",
       "  275.136,840.121 294.034,840.121 \n",
       "  \"/>\n",
       "<polyline clip-path=\"url(#clip610)\" style=\"stroke:#000000; stroke-linecap:round; stroke-linejoin:round; stroke-width:4; stroke-opacity:1; fill:none\" points=\"\n",
       "  275.136,536.245 294.034,536.245 \n",
       "  \"/>\n",
       "<polyline clip-path=\"url(#clip610)\" style=\"stroke:#000000; stroke-linecap:round; stroke-linejoin:round; stroke-width:4; stroke-opacity:1; fill:none\" points=\"\n",
       "  275.136,232.368 294.034,232.368 \n",
       "  \"/>\n",
       "<path clip-path=\"url(#clip610)\" d=\"M227.192 1433.67 Q223.581 1433.67 221.752 1437.24 Q219.947 1440.78 219.947 1447.91 Q219.947 1455.01 221.752 1458.58 Q223.581 1462.12 227.192 1462.12 Q230.826 1462.12 232.632 1458.58 Q234.46 1455.01 234.46 1447.91 Q234.46 1440.78 232.632 1437.24 Q230.826 1433.67 227.192 1433.67 M227.192 1429.97 Q233.002 1429.97 236.058 1434.57 Q239.136 1439.16 239.136 1447.91 Q239.136 1456.63 236.058 1461.24 Q233.002 1465.82 227.192 1465.82 Q221.382 1465.82 218.303 1461.24 Q215.248 1456.63 215.248 1447.91 Q215.248 1439.16 218.303 1434.57 Q221.382 1429.97 227.192 1429.97 Z\" fill=\"#000000\" fill-rule=\"evenodd\" fill-opacity=\"1\" /><path clip-path=\"url(#clip610)\" d=\"M57.7745 1163.79 L74.0939 1163.79 L74.0939 1167.72 L52.1495 1167.72 L52.1495 1163.79 Q54.8115 1161.03 59.3949 1156.41 Q64.0013 1151.75 65.1819 1150.41 Q67.4272 1147.89 68.3068 1146.15 Q69.2096 1144.39 69.2096 1142.7 Q69.2096 1139.95 67.2652 1138.21 Q65.3439 1136.47 62.2421 1136.47 Q60.043 1136.47 57.5893 1137.24 Q55.1588 1138 52.381 1139.55 L52.381 1134.83 Q55.2051 1133.7 57.6588 1133.12 Q60.1124 1132.54 62.1495 1132.54 Q67.5198 1132.54 70.7142 1135.22 Q73.9087 1137.91 73.9087 1142.4 Q73.9087 1144.53 73.0985 1146.45 Q72.3115 1148.35 70.205 1150.94 Q69.6263 1151.61 66.5245 1154.83 Q63.4226 1158.03 57.7745 1163.79 Z\" fill=\"#000000\" fill-rule=\"evenodd\" fill-opacity=\"1\" /><path clip-path=\"url(#clip610)\" d=\"M83.9086 1161.84 L88.7928 1161.84 L88.7928 1167.72 L83.9086 1167.72 L83.9086 1161.84 Z\" fill=\"#000000\" fill-rule=\"evenodd\" fill-opacity=\"1\" /><path clip-path=\"url(#clip610)\" d=\"M108.978 1136.24 Q105.367 1136.24 103.538 1139.81 Q101.733 1143.35 101.733 1150.48 Q101.733 1157.59 103.538 1161.15 Q105.367 1164.69 108.978 1164.69 Q112.612 1164.69 114.418 1161.15 Q116.246 1157.59 116.246 1150.48 Q116.246 1143.35 114.418 1139.81 Q112.612 1136.24 108.978 1136.24 M108.978 1132.54 Q114.788 1132.54 117.844 1137.15 Q120.922 1141.73 120.922 1150.48 Q120.922 1159.21 117.844 1163.81 Q114.788 1168.4 108.978 1168.4 Q103.168 1168.4 100.089 1163.81 Q97.0335 1159.21 97.0335 1150.48 Q97.0335 1141.73 100.089 1137.15 Q103.168 1132.54 108.978 1132.54 Z\" fill=\"#000000\" fill-rule=\"evenodd\" fill-opacity=\"1\" /><path clip-path=\"url(#clip610)\" d=\"M157.311 1142.26 L146.732 1152.89 L157.311 1163.47 L154.556 1166.27 L143.931 1155.64 L133.306 1166.27 L130.575 1163.47 L141.131 1152.89 L130.575 1142.26 L133.306 1139.46 L143.931 1150.09 L154.556 1139.46 L157.311 1142.26 Z\" fill=\"#000000\" fill-rule=\"evenodd\" fill-opacity=\"1\" /><path clip-path=\"url(#clip610)\" d=\"M169.672 1163.79 L177.311 1163.79 L177.311 1137.42 L169.001 1139.09 L169.001 1134.83 L177.265 1133.16 L181.94 1133.16 L181.94 1163.79 L189.579 1163.79 L189.579 1167.72 L169.672 1167.72 L169.672 1163.79 Z\" fill=\"#000000\" fill-rule=\"evenodd\" fill-opacity=\"1\" /><path clip-path=\"url(#clip610)\" d=\"M209.024 1136.24 Q205.413 1136.24 203.584 1139.81 Q201.778 1143.35 201.778 1150.48 Q201.778 1157.59 203.584 1161.15 Q205.413 1164.69 209.024 1164.69 Q212.658 1164.69 214.463 1161.15 Q216.292 1157.59 216.292 1150.48 Q216.292 1143.35 214.463 1139.81 Q212.658 1136.24 209.024 1136.24 M209.024 1132.54 Q214.834 1132.54 217.889 1137.15 Q220.968 1141.73 220.968 1150.48 Q220.968 1159.21 217.889 1163.81 Q214.834 1168.4 209.024 1168.4 Q203.214 1168.4 200.135 1163.81 Q197.079 1159.21 197.079 1150.48 Q197.079 1141.73 200.135 1137.15 Q203.214 1132.54 209.024 1132.54 Z\" fill=\"#000000\" fill-rule=\"evenodd\" fill-opacity=\"1\" /><path clip-path=\"url(#clip610)\" d=\"M222.153 1112.23 L237.068 1112.23 L237.068 1115.43 L225.632 1115.43 L225.632 1122.32 Q226.46 1122.03 227.287 1121.9 Q228.115 1121.75 228.943 1121.75 Q233.645 1121.75 236.39 1124.33 Q239.136 1126.9 239.136 1131.31 Q239.136 1135.84 236.315 1138.36 Q233.494 1140.86 228.36 1140.86 Q226.592 1140.86 224.748 1140.56 Q222.924 1140.26 220.968 1139.66 L220.968 1135.84 Q222.661 1136.76 224.466 1137.21 Q226.272 1137.66 228.284 1137.66 Q231.538 1137.66 233.438 1135.95 Q235.337 1134.24 235.337 1131.31 Q235.337 1128.37 233.438 1126.66 Q231.538 1124.95 228.284 1124.95 Q226.761 1124.95 225.237 1125.29 Q223.733 1125.63 222.153 1126.34 L222.153 1112.23 Z\" fill=\"#000000\" fill-rule=\"evenodd\" fill-opacity=\"1\" /><path clip-path=\"url(#clip610)\" d=\"M66.5939 833.362 L54.7884 851.811 L66.5939 851.811 L66.5939 833.362 M65.367 829.288 L71.2466 829.288 L71.2466 851.811 L76.1772 851.811 L76.1772 855.7 L71.2466 855.7 L71.2466 863.848 L66.5939 863.848 L66.5939 855.7 L50.9921 855.7 L50.9921 851.186 L65.367 829.288 Z\" fill=\"#000000\" fill-rule=\"evenodd\" fill-opacity=\"1\" /><path clip-path=\"url(#clip610)\" d=\"M83.9086 857.969 L88.7928 857.969 L88.7928 863.848 L83.9086 863.848 L83.9086 857.969 Z\" fill=\"#000000\" fill-rule=\"evenodd\" fill-opacity=\"1\" /><path clip-path=\"url(#clip610)\" d=\"M108.978 832.367 Q105.367 832.367 103.538 835.932 Q101.733 839.473 101.733 846.603 Q101.733 853.71 103.538 857.274 Q105.367 860.816 108.978 860.816 Q112.612 860.816 114.418 857.274 Q116.246 853.71 116.246 846.603 Q116.246 839.473 114.418 835.932 Q112.612 832.367 108.978 832.367 M108.978 828.663 Q114.788 828.663 117.844 833.27 Q120.922 837.853 120.922 846.603 Q120.922 855.33 117.844 859.936 Q114.788 864.52 108.978 864.52 Q103.168 864.52 100.089 859.936 Q97.0335 855.33 97.0335 846.603 Q97.0335 837.853 100.089 833.27 Q103.168 828.663 108.978 828.663 Z\" fill=\"#000000\" fill-rule=\"evenodd\" fill-opacity=\"1\" /><path clip-path=\"url(#clip610)\" d=\"M157.311 838.386 L146.732 849.01 L157.311 859.589 L154.556 862.39 L143.931 851.765 L133.306 862.39 L130.575 859.589 L141.131 849.01 L130.575 838.386 L133.306 835.585 L143.931 846.21 L154.556 835.585 L157.311 838.386 Z\" fill=\"#000000\" fill-rule=\"evenodd\" fill-opacity=\"1\" /><path clip-path=\"url(#clip610)\" d=\"M169.672 859.913 L177.311 859.913 L177.311 833.548 L169.001 835.214 L169.001 830.955 L177.265 829.288 L181.94 829.288 L181.94 859.913 L189.579 859.913 L189.579 863.848 L169.672 863.848 L169.672 859.913 Z\" fill=\"#000000\" fill-rule=\"evenodd\" fill-opacity=\"1\" /><path clip-path=\"url(#clip610)\" d=\"M209.024 832.367 Q205.413 832.367 203.584 835.932 Q201.778 839.473 201.778 846.603 Q201.778 853.71 203.584 857.274 Q205.413 860.816 209.024 860.816 Q212.658 860.816 214.463 857.274 Q216.292 853.71 216.292 846.603 Q216.292 839.473 214.463 835.932 Q212.658 832.367 209.024 832.367 M209.024 828.663 Q214.834 828.663 217.889 833.27 Q220.968 837.853 220.968 846.603 Q220.968 855.33 217.889 859.936 Q214.834 864.52 209.024 864.52 Q203.214 864.52 200.135 859.936 Q197.079 855.33 197.079 846.603 Q197.079 837.853 200.135 833.27 Q203.214 828.663 209.024 828.663 Z\" fill=\"#000000\" fill-rule=\"evenodd\" fill-opacity=\"1\" /><path clip-path=\"url(#clip610)\" d=\"M222.153 808.358 L237.068 808.358 L237.068 811.555 L225.632 811.555 L225.632 818.439 Q226.46 818.157 227.287 818.025 Q228.115 817.875 228.943 817.875 Q233.645 817.875 236.39 820.451 Q239.136 823.028 239.136 827.429 Q239.136 831.962 236.315 834.482 Q233.494 836.983 228.36 836.983 Q226.592 836.983 224.748 836.682 Q222.924 836.382 220.968 835.78 L220.968 831.962 Q222.661 832.883 224.466 833.335 Q226.272 833.786 228.284 833.786 Q231.538 833.786 233.438 832.075 Q235.337 830.363 235.337 827.429 Q235.337 824.495 233.438 822.784 Q231.538 821.072 228.284 821.072 Q226.761 821.072 225.237 821.411 Q223.733 821.749 222.153 822.464 L222.153 808.358 Z\" fill=\"#000000\" fill-rule=\"evenodd\" fill-opacity=\"1\" /><path clip-path=\"url(#clip610)\" d=\"M64.3254 540.829 Q61.1773 540.829 59.3254 542.982 Q57.4967 545.134 57.4967 548.884 Q57.4967 552.611 59.3254 554.787 Q61.1773 556.94 64.3254 556.94 Q67.4735 556.94 69.3022 554.787 Q71.1541 552.611 71.1541 548.884 Q71.1541 545.134 69.3022 542.982 Q67.4735 540.829 64.3254 540.829 M73.6077 526.176 L73.6077 530.435 Q71.8485 529.602 70.0429 529.162 Q68.2606 528.722 66.5013 528.722 Q61.8717 528.722 59.418 531.847 Q56.9875 534.972 56.6402 541.292 Q58.006 539.278 60.0662 538.213 Q62.1263 537.125 64.6032 537.125 Q69.8115 537.125 72.8207 540.296 Q75.8531 543.444 75.8531 548.884 Q75.8531 554.208 72.705 557.426 Q69.5568 560.643 64.3254 560.643 Q58.33 560.643 55.1588 556.06 Q51.9875 551.454 51.9875 542.727 Q51.9875 534.532 55.8764 529.671 Q59.7652 524.787 66.3161 524.787 Q68.0754 524.787 69.8578 525.134 Q71.6633 525.482 73.6077 526.176 Z\" fill=\"#000000\" fill-rule=\"evenodd\" fill-opacity=\"1\" /><path clip-path=\"url(#clip610)\" d=\"M83.9086 554.093 L88.7928 554.093 L88.7928 559.972 L83.9086 559.972 L83.9086 554.093 Z\" fill=\"#000000\" fill-rule=\"evenodd\" fill-opacity=\"1\" /><path clip-path=\"url(#clip610)\" d=\"M108.978 528.491 Q105.367 528.491 103.538 532.056 Q101.733 535.597 101.733 542.727 Q101.733 549.833 103.538 553.398 Q105.367 556.94 108.978 556.94 Q112.612 556.94 114.418 553.398 Q116.246 549.833 116.246 542.727 Q116.246 535.597 114.418 532.056 Q112.612 528.491 108.978 528.491 M108.978 524.787 Q114.788 524.787 117.844 529.394 Q120.922 533.977 120.922 542.727 Q120.922 551.454 117.844 556.06 Q114.788 560.643 108.978 560.643 Q103.168 560.643 100.089 556.06 Q97.0335 551.454 97.0335 542.727 Q97.0335 533.977 100.089 529.394 Q103.168 524.787 108.978 524.787 Z\" fill=\"#000000\" fill-rule=\"evenodd\" fill-opacity=\"1\" /><path clip-path=\"url(#clip610)\" d=\"M157.311 534.509 L146.732 545.134 L157.311 555.713 L154.556 558.514 L143.931 547.889 L133.306 558.514 L130.575 555.713 L141.131 545.134 L130.575 534.509 L133.306 531.708 L143.931 542.333 L154.556 531.708 L157.311 534.509 Z\" fill=\"#000000\" fill-rule=\"evenodd\" fill-opacity=\"1\" /><path clip-path=\"url(#clip610)\" d=\"M169.672 556.037 L177.311 556.037 L177.311 529.671 L169.001 531.338 L169.001 527.079 L177.265 525.412 L181.94 525.412 L181.94 556.037 L189.579 556.037 L189.579 559.972 L169.672 559.972 L169.672 556.037 Z\" fill=\"#000000\" fill-rule=\"evenodd\" fill-opacity=\"1\" /><path clip-path=\"url(#clip610)\" d=\"M209.024 528.491 Q205.413 528.491 203.584 532.056 Q201.778 535.597 201.778 542.727 Q201.778 549.833 203.584 553.398 Q205.413 556.94 209.024 556.94 Q212.658 556.94 214.463 553.398 Q216.292 549.833 216.292 542.727 Q216.292 535.597 214.463 532.056 Q212.658 528.491 209.024 528.491 M209.024 524.787 Q214.834 524.787 217.889 529.394 Q220.968 533.977 220.968 542.727 Q220.968 551.454 217.889 556.06 Q214.834 560.643 209.024 560.643 Q203.214 560.643 200.135 556.06 Q197.079 551.454 197.079 542.727 Q197.079 533.977 200.135 529.394 Q203.214 524.787 209.024 524.787 Z\" fill=\"#000000\" fill-rule=\"evenodd\" fill-opacity=\"1\" /><path clip-path=\"url(#clip610)\" d=\"M222.153 504.482 L237.068 504.482 L237.068 507.679 L225.632 507.679 L225.632 514.563 Q226.46 514.281 227.287 514.149 Q228.115 513.999 228.943 513.999 Q233.645 513.999 236.39 516.575 Q239.136 519.152 239.136 523.553 Q239.136 528.086 236.315 530.606 Q233.494 533.107 228.36 533.107 Q226.592 533.107 224.748 532.806 Q222.924 532.505 220.968 531.903 L220.968 528.086 Q222.661 529.007 224.466 529.458 Q226.272 529.91 228.284 529.91 Q231.538 529.91 233.438 528.198 Q235.337 526.487 235.337 523.553 Q235.337 520.619 233.438 518.907 Q231.538 517.196 228.284 517.196 Q226.761 517.196 225.237 517.534 Q223.733 517.873 222.153 518.588 L222.153 504.482 Z\" fill=\"#000000\" fill-rule=\"evenodd\" fill-opacity=\"1\" /><path clip-path=\"url(#clip610)\" d=\"M63.7467 239.684 Q60.4134 239.684 58.4921 241.466 Q56.5939 243.249 56.5939 246.374 Q56.5939 249.499 58.4921 251.281 Q60.4134 253.064 63.7467 253.064 Q67.08 253.064 69.0013 251.281 Q70.9226 249.476 70.9226 246.374 Q70.9226 243.249 69.0013 241.466 Q67.1032 239.684 63.7467 239.684 M59.0708 237.693 Q56.0615 236.953 54.3717 234.892 Q52.7051 232.832 52.7051 229.869 Q52.7051 225.726 55.6449 223.318 Q58.6078 220.911 63.7467 220.911 Q68.9087 220.911 71.8485 223.318 Q74.7883 225.726 74.7883 229.869 Q74.7883 232.832 73.0985 234.892 Q71.4318 236.953 68.4457 237.693 Q71.8253 238.48 73.7003 240.772 Q75.5985 243.064 75.5985 246.374 Q75.5985 251.397 72.5198 254.082 Q69.4642 256.767 63.7467 256.767 Q58.0291 256.767 54.9504 254.082 Q51.8949 251.397 51.8949 246.374 Q51.8949 243.064 53.793 240.772 Q55.6912 238.48 59.0708 237.693 M57.3578 230.309 Q57.3578 232.994 59.0245 234.499 Q60.7143 236.004 63.7467 236.004 Q66.7559 236.004 68.4457 234.499 Q70.1587 232.994 70.1587 230.309 Q70.1587 227.624 68.4457 226.119 Q66.7559 224.615 63.7467 224.615 Q60.7143 224.615 59.0245 226.119 Q57.3578 227.624 57.3578 230.309 Z\" fill=\"#000000\" fill-rule=\"evenodd\" fill-opacity=\"1\" /><path clip-path=\"url(#clip610)\" d=\"M83.9086 250.216 L88.7928 250.216 L88.7928 256.096 L83.9086 256.096 L83.9086 250.216 Z\" fill=\"#000000\" fill-rule=\"evenodd\" fill-opacity=\"1\" /><path clip-path=\"url(#clip610)\" d=\"M108.978 224.615 Q105.367 224.615 103.538 228.179 Q101.733 231.721 101.733 238.851 Q101.733 245.957 103.538 249.522 Q105.367 253.064 108.978 253.064 Q112.612 253.064 114.418 249.522 Q116.246 245.957 116.246 238.851 Q116.246 231.721 114.418 228.179 Q112.612 224.615 108.978 224.615 M108.978 220.911 Q114.788 220.911 117.844 225.517 Q120.922 230.101 120.922 238.851 Q120.922 247.578 117.844 252.184 Q114.788 256.767 108.978 256.767 Q103.168 256.767 100.089 252.184 Q97.0335 247.578 97.0335 238.851 Q97.0335 230.101 100.089 225.517 Q103.168 220.911 108.978 220.911 Z\" fill=\"#000000\" fill-rule=\"evenodd\" fill-opacity=\"1\" /><path clip-path=\"url(#clip610)\" d=\"M157.311 230.633 L146.732 241.258 L157.311 251.837 L154.556 254.638 L143.931 244.013 L133.306 254.638 L130.575 251.837 L141.131 241.258 L130.575 230.633 L133.306 227.832 L143.931 238.457 L154.556 227.832 L157.311 230.633 Z\" fill=\"#000000\" fill-rule=\"evenodd\" fill-opacity=\"1\" /><path clip-path=\"url(#clip610)\" d=\"M169.672 252.161 L177.311 252.161 L177.311 225.795 L169.001 227.462 L169.001 223.203 L177.265 221.536 L181.94 221.536 L181.94 252.161 L189.579 252.161 L189.579 256.096 L169.672 256.096 L169.672 252.161 Z\" fill=\"#000000\" fill-rule=\"evenodd\" fill-opacity=\"1\" /><path clip-path=\"url(#clip610)\" d=\"M209.024 224.615 Q205.413 224.615 203.584 228.179 Q201.778 231.721 201.778 238.851 Q201.778 245.957 203.584 249.522 Q205.413 253.064 209.024 253.064 Q212.658 253.064 214.463 249.522 Q216.292 245.957 216.292 238.851 Q216.292 231.721 214.463 228.179 Q212.658 224.615 209.024 224.615 M209.024 220.911 Q214.834 220.911 217.889 225.517 Q220.968 230.101 220.968 238.851 Q220.968 247.578 217.889 252.184 Q214.834 256.767 209.024 256.767 Q203.214 256.767 200.135 252.184 Q197.079 247.578 197.079 238.851 Q197.079 230.101 200.135 225.517 Q203.214 220.911 209.024 220.911 Z\" fill=\"#000000\" fill-rule=\"evenodd\" fill-opacity=\"1\" /><path clip-path=\"url(#clip610)\" d=\"M222.153 200.606 L237.068 200.606 L237.068 203.803 L225.632 203.803 L225.632 210.687 Q226.46 210.404 227.287 210.273 Q228.115 210.122 228.943 210.122 Q233.645 210.122 236.39 212.699 Q239.136 215.276 239.136 219.677 Q239.136 224.209 236.315 226.73 Q233.494 229.231 228.36 229.231 Q226.592 229.231 224.748 228.93 Q222.924 228.629 220.968 228.027 L220.968 224.209 Q222.661 225.131 224.466 225.582 Q226.272 226.034 228.284 226.034 Q231.538 226.034 233.438 224.322 Q235.337 222.611 235.337 219.677 Q235.337 216.743 233.438 215.031 Q231.538 213.32 228.284 213.32 Q226.761 213.32 225.237 213.658 Q223.733 213.997 222.153 214.711 L222.153 200.606 Z\" fill=\"#000000\" fill-rule=\"evenodd\" fill-opacity=\"1\" /><path clip-path=\"url(#clip610)\" d=\"M496.19 18.8205 L496.19 65.8515 L506.074 65.8515 Q518.592 65.8515 524.384 60.1802 Q530.218 54.509 530.218 42.2752 Q530.218 30.1225 524.384 24.4918 Q518.592 18.8205 506.074 18.8205 L496.19 18.8205 M488.007 12.096 L504.819 12.096 Q522.399 12.096 530.623 19.4281 Q538.846 26.7198 538.846 42.2752 Q538.846 57.9117 530.582 65.2439 Q522.318 72.576 504.819 72.576 L488.007 72.576 L488.007 12.096 Z\" fill=\"#000000\" fill-rule=\"evenodd\" fill-opacity=\"1\" /><path clip-path=\"url(#clip610)\" d=\"M590.374 48.0275 L590.374 51.6733 L556.103 51.6733 Q556.589 59.3701 560.721 63.421 Q564.893 67.4314 572.307 67.4314 Q576.601 67.4314 580.611 66.3781 Q584.662 65.3249 588.632 63.2184 L588.632 70.267 Q584.621 71.9684 580.408 72.8596 Q576.195 73.7508 571.861 73.7508 Q561.005 73.7508 554.645 67.4314 Q548.325 61.1119 548.325 50.3365 Q548.325 39.1965 554.321 32.6746 Q560.356 26.1121 570.565 26.1121 Q579.72 26.1121 585.026 32.0264 Q590.374 37.9003 590.374 48.0275 M582.92 45.84 Q582.839 39.7232 579.477 36.0774 Q576.155 32.4315 570.646 32.4315 Q564.407 32.4315 560.64 35.9558 Q556.913 39.4801 556.346 45.8805 L582.92 45.84 M575.75 6.22219 L583.811 6.22219 L570.605 21.4536 L564.407 21.4536 L575.75 6.22219 Z\" fill=\"#000000\" fill-rule=\"evenodd\" fill-opacity=\"1\" /><path clip-path=\"url(#clip610)\" d=\"M635.258 28.9478 L635.258 35.9153 Q632.098 34.1734 628.898 33.3227 Q625.738 32.4315 622.497 32.4315 Q615.246 32.4315 611.236 37.0496 Q607.225 41.6271 607.225 49.9314 Q607.225 58.2358 611.236 62.8538 Q615.246 67.4314 622.497 67.4314 Q625.738 67.4314 628.898 66.5807 Q632.098 65.6895 635.258 63.9476 L635.258 70.8341 Q632.138 72.2924 628.776 73.0216 Q625.454 73.7508 621.687 73.7508 Q611.438 73.7508 605.402 67.3098 Q599.367 60.8689 599.367 49.9314 Q599.367 38.832 605.443 32.472 Q611.56 26.1121 622.173 26.1121 Q625.616 26.1121 628.898 26.8413 Q632.179 27.5299 635.258 28.9478 Z\" fill=\"#000000\" fill-rule=\"evenodd\" fill-opacity=\"1\" /><path clip-path=\"url(#clip610)\" d=\"M674.511 34.1734 Q673.255 33.4443 671.756 33.1202 Q670.298 32.7556 668.516 32.7556 Q662.196 32.7556 658.793 36.8875 Q655.431 40.9789 655.431 48.6757 L655.431 72.576 L647.937 72.576 L647.937 27.2059 L655.431 27.2059 L655.431 34.2544 Q657.781 30.1225 661.548 28.1376 Q665.315 26.1121 670.703 26.1121 Q671.473 26.1121 672.404 26.2337 Q673.336 26.3147 674.47 26.5172 L674.511 34.1734 Z\" fill=\"#000000\" fill-rule=\"evenodd\" fill-opacity=\"1\" /><path clip-path=\"url(#clip610)\" d=\"M698.087 32.4315 Q692.092 32.4315 688.608 37.1306 Q685.124 41.7891 685.124 49.9314 Q685.124 58.0738 688.568 62.7728 Q692.051 67.4314 698.087 67.4314 Q704.042 67.4314 707.526 62.7323 Q711.01 58.0333 711.01 49.9314 Q711.01 41.8701 707.526 37.1711 Q704.042 32.4315 698.087 32.4315 M698.087 26.1121 Q707.809 26.1121 713.359 32.4315 Q718.909 38.7509 718.909 49.9314 Q718.909 61.0714 713.359 67.4314 Q707.809 73.7508 698.087 73.7508 Q688.324 73.7508 682.775 67.4314 Q677.266 61.0714 677.266 49.9314 Q677.266 38.7509 682.775 32.4315 Q688.324 26.1121 698.087 26.1121 Z\" fill=\"#000000\" fill-rule=\"evenodd\" fill-opacity=\"1\" /><path clip-path=\"url(#clip610)\" d=\"M731.264 27.2059 L738.718 27.2059 L738.718 72.576 L731.264 72.576 L731.264 27.2059 M731.264 9.54393 L738.718 9.54393 L738.718 18.9825 L731.264 18.9825 L731.264 9.54393 Z\" fill=\"#000000\" fill-rule=\"evenodd\" fill-opacity=\"1\" /><path clip-path=\"url(#clip610)\" d=\"M783.237 28.5427 L783.237 35.5912 Q780.077 33.9709 776.675 33.1607 Q773.272 32.3505 769.626 32.3505 Q764.076 32.3505 761.281 34.0519 Q758.527 35.7533 758.527 39.156 Q758.527 41.7486 760.512 43.2475 Q762.497 44.7058 768.492 46.0426 L771.044 46.6097 Q778.984 48.3111 782.305 51.4303 Q785.668 54.509 785.668 60.0587 Q785.668 66.3781 780.645 70.0644 Q775.662 73.7508 766.912 73.7508 Q763.266 73.7508 759.296 73.0216 Q755.367 72.3329 750.992 70.9151 L750.992 63.2184 Q755.124 65.3654 759.134 66.4591 Q763.145 67.5124 767.074 67.5124 Q772.34 67.5124 775.176 65.73 Q778.012 63.9071 778.012 60.6258 Q778.012 57.5877 775.946 55.9673 Q773.92 54.3469 766.993 52.8481 L764.4 52.2405 Q757.473 50.7821 754.395 47.7845 Q751.316 44.7463 751.316 39.4801 Q751.316 33.0797 755.853 29.5959 Q760.39 26.1121 768.735 26.1121 Q772.867 26.1121 776.513 26.7198 Q780.158 27.3274 783.237 28.5427 Z\" fill=\"#000000\" fill-rule=\"evenodd\" fill-opacity=\"1\" /><path clip-path=\"url(#clip610)\" d=\"M826.46 28.5427 L826.46 35.5912 Q823.301 33.9709 819.898 33.1607 Q816.495 32.3505 812.849 32.3505 Q807.3 32.3505 804.504 34.0519 Q801.75 35.7533 801.75 39.156 Q801.75 41.7486 803.735 43.2475 Q805.72 44.7058 811.715 46.0426 L814.267 46.6097 Q822.207 48.3111 825.529 51.4303 Q828.891 54.509 828.891 60.0587 Q828.891 66.3781 823.868 70.0644 Q818.885 73.7508 810.135 73.7508 Q806.489 73.7508 802.519 73.0216 Q798.59 72.3329 794.215 70.9151 L794.215 63.2184 Q798.347 65.3654 802.357 66.4591 Q806.368 67.5124 810.297 67.5124 Q815.563 67.5124 818.399 65.73 Q821.235 63.9071 821.235 60.6258 Q821.235 57.5877 819.169 55.9673 Q817.143 54.3469 810.216 52.8481 L807.624 52.2405 Q800.697 50.7821 797.618 47.7845 Q794.539 44.7463 794.539 39.4801 Q794.539 33.0797 799.076 29.5959 Q803.613 26.1121 811.958 26.1121 Q816.09 26.1121 819.736 26.7198 Q823.382 27.3274 826.46 28.5427 Z\" fill=\"#000000\" fill-rule=\"evenodd\" fill-opacity=\"1\" /><path clip-path=\"url(#clip610)\" d=\"M861.379 49.7694 Q852.346 49.7694 848.862 51.8354 Q845.378 53.9013 845.378 58.8839 Q845.378 62.8538 847.971 65.2034 Q850.604 67.5124 855.1 67.5124 Q861.298 67.5124 865.025 63.1374 Q868.792 58.7219 868.792 51.4303 L868.792 49.7694 L861.379 49.7694 M876.246 46.6907 L876.246 72.576 L868.792 72.576 L868.792 65.6895 Q866.24 69.8214 862.432 71.8063 Q858.625 73.7508 853.115 73.7508 Q846.148 73.7508 842.016 69.8619 Q837.924 65.9325 837.924 59.3701 Q837.924 51.7138 843.029 47.825 Q848.173 43.9361 858.341 43.9361 L868.792 43.9361 L868.792 43.2069 Q868.792 38.0623 865.39 35.2672 Q862.027 32.4315 855.91 32.4315 Q852.022 32.4315 848.335 33.3632 Q844.649 34.295 841.246 36.1584 L841.246 29.2718 Q845.338 27.692 849.186 26.9223 Q853.034 26.1121 856.68 26.1121 Q866.524 26.1121 871.385 31.2163 Q876.246 36.3204 876.246 46.6907 Z\" fill=\"#000000\" fill-rule=\"evenodd\" fill-opacity=\"1\" /><path clip-path=\"url(#clip610)\" d=\"M929.313 45.1919 L929.313 72.576 L921.859 72.576 L921.859 45.4349 Q921.859 38.994 919.348 35.7938 Q916.836 32.5936 911.813 32.5936 Q905.777 32.5936 902.293 36.4419 Q898.809 40.2903 898.809 46.9338 L898.809 72.576 L891.315 72.576 L891.315 27.2059 L898.809 27.2059 L898.809 34.2544 Q901.483 30.163 905.088 28.1376 Q908.734 26.1121 913.474 26.1121 Q921.292 26.1121 925.302 30.9732 Q929.313 35.7938 929.313 45.1919 Z\" fill=\"#000000\" fill-rule=\"evenodd\" fill-opacity=\"1\" /><path clip-path=\"url(#clip610)\" d=\"M976.83 28.9478 L976.83 35.9153 Q973.67 34.1734 970.47 33.3227 Q967.31 32.4315 964.07 32.4315 Q956.818 32.4315 952.808 37.0496 Q948.798 41.6271 948.798 49.9314 Q948.798 58.2358 952.808 62.8538 Q956.818 67.4314 964.07 67.4314 Q967.31 67.4314 970.47 66.5807 Q973.67 65.6895 976.83 63.9476 L976.83 70.8341 Q973.711 72.2924 970.348 73.0216 Q967.027 73.7508 963.259 73.7508 Q953.011 73.7508 946.975 67.3098 Q940.939 60.8689 940.939 49.9314 Q940.939 38.832 947.015 32.472 Q953.132 26.1121 963.745 26.1121 Q967.189 26.1121 970.47 26.8413 Q973.751 27.5299 976.83 28.9478 Z\" fill=\"#000000\" fill-rule=\"evenodd\" fill-opacity=\"1\" /><path clip-path=\"url(#clip610)\" d=\"M1028.6 48.0275 L1028.6 51.6733 L994.33 51.6733 Q994.816 59.3701 998.948 63.421 Q1003.12 67.4314 1010.53 67.4314 Q1014.83 67.4314 1018.84 66.3781 Q1022.89 65.3249 1026.86 63.2184 L1026.86 70.267 Q1022.85 71.9684 1018.64 72.8596 Q1014.42 73.7508 1010.09 73.7508 Q999.231 73.7508 992.871 67.4314 Q986.552 61.1119 986.552 50.3365 Q986.552 39.1965 992.547 32.6746 Q998.583 26.1121 1008.79 26.1121 Q1017.95 26.1121 1023.25 32.0264 Q1028.6 37.9003 1028.6 48.0275 M1021.15 45.84 Q1021.07 39.7232 1017.7 36.0774 Q1014.38 32.4315 1008.87 32.4315 Q1002.63 32.4315 998.867 35.9558 Q995.14 39.4801 994.573 45.8805 L1021.15 45.84 Z\" fill=\"#000000\" fill-rule=\"evenodd\" fill-opacity=\"1\" /><path clip-path=\"url(#clip610)\" d=\"M1099.86 28.9478 L1099.86 35.9153 Q1096.7 34.1734 1093.5 33.3227 Q1090.34 32.4315 1087.1 32.4315 Q1079.84 32.4315 1075.83 37.0496 Q1071.82 41.6271 1071.82 49.9314 Q1071.82 58.2358 1075.83 62.8538 Q1079.84 67.4314 1087.1 67.4314 Q1090.34 67.4314 1093.5 66.5807 Q1096.7 65.6895 1099.86 63.9476 L1099.86 70.8341 Q1096.74 72.2924 1093.37 73.0216 Q1090.05 73.7508 1086.29 73.7508 Q1076.04 73.7508 1070 67.3098 Q1063.96 60.8689 1063.96 49.9314 Q1063.96 38.832 1070.04 32.472 Q1076.16 26.1121 1086.77 26.1121 Q1090.21 26.1121 1093.5 26.8413 Q1096.78 27.5299 1099.86 28.9478 Z\" fill=\"#000000\" fill-rule=\"evenodd\" fill-opacity=\"1\" /><path clip-path=\"url(#clip610)\" d=\"M1130.4 32.4315 Q1124.4 32.4315 1120.92 37.1306 Q1117.44 41.7891 1117.44 49.9314 Q1117.44 58.0738 1120.88 62.7728 Q1124.36 67.4314 1130.4 67.4314 Q1136.35 67.4314 1139.84 62.7323 Q1143.32 58.0333 1143.32 49.9314 Q1143.32 41.8701 1139.84 37.1711 Q1136.35 32.4315 1130.4 32.4315 M1130.4 26.1121 Q1140.12 26.1121 1145.67 32.4315 Q1151.22 38.7509 1151.22 49.9314 Q1151.22 61.0714 1145.67 67.4314 Q1140.12 73.7508 1130.4 73.7508 Q1120.64 73.7508 1115.09 67.4314 Q1109.58 61.0714 1109.58 49.9314 Q1109.58 38.7509 1115.09 32.4315 Q1120.64 26.1121 1130.4 26.1121 Z\" fill=\"#000000\" fill-rule=\"evenodd\" fill-opacity=\"1\" /><path clip-path=\"url(#clip610)\" d=\"M1198.9 35.9153 Q1201.7 30.8922 1205.58 28.5022 Q1209.47 26.1121 1214.74 26.1121 Q1221.83 26.1121 1225.68 31.0947 Q1229.53 36.0368 1229.53 45.1919 L1229.53 72.576 L1222.03 72.576 L1222.03 45.4349 Q1222.03 38.913 1219.72 35.7533 Q1217.41 32.5936 1212.67 32.5936 Q1206.88 32.5936 1203.52 36.4419 Q1200.16 40.2903 1200.16 46.9338 L1200.16 72.576 L1192.66 72.576 L1192.66 45.4349 Q1192.66 38.8725 1190.35 35.7533 Q1188.04 32.5936 1183.22 32.5936 Q1177.51 32.5936 1174.15 36.4824 Q1170.79 40.3308 1170.79 46.9338 L1170.79 72.576 L1163.29 72.576 L1163.29 27.2059 L1170.79 27.2059 L1170.79 34.2544 Q1173.34 30.082 1176.9 28.0971 Q1180.47 26.1121 1185.37 26.1121 Q1190.31 26.1121 1193.76 28.6237 Q1197.24 31.1352 1198.9 35.9153 Z\" fill=\"#000000\" fill-rule=\"evenodd\" fill-opacity=\"1\" /><path clip-path=\"url(#clip610)\" d=\"M1251.6 65.7705 L1251.6 89.8329 L1244.11 89.8329 L1244.11 27.2059 L1251.6 27.2059 L1251.6 34.0924 Q1253.95 30.0415 1257.52 28.0971 Q1261.12 26.1121 1266.1 26.1121 Q1274.37 26.1121 1279.51 32.6746 Q1284.7 39.2371 1284.7 49.9314 Q1284.7 60.6258 1279.51 67.1883 Q1274.37 73.7508 1266.1 73.7508 Q1261.12 73.7508 1257.52 71.8063 Q1253.95 69.8214 1251.6 65.7705 M1276.96 49.9314 Q1276.96 41.7081 1273.56 37.0496 Q1270.2 32.3505 1264.28 32.3505 Q1258.37 32.3505 1254.96 37.0496 Q1251.6 41.7081 1251.6 49.9314 Q1251.6 58.1548 1254.96 62.8538 Q1258.37 67.5124 1264.28 67.5124 Q1270.2 67.5124 1273.56 62.8538 Q1276.96 58.1548 1276.96 49.9314 Z\" fill=\"#000000\" fill-rule=\"evenodd\" fill-opacity=\"1\" /><path clip-path=\"url(#clip610)\" d=\"M1317.67 49.7694 Q1308.64 49.7694 1305.16 51.8354 Q1301.67 53.9013 1301.67 58.8839 Q1301.67 62.8538 1304.26 65.2034 Q1306.9 67.5124 1311.39 67.5124 Q1317.59 67.5124 1321.32 63.1374 Q1325.09 58.7219 1325.09 51.4303 L1325.09 49.7694 L1317.67 49.7694 M1332.54 46.6907 L1332.54 72.576 L1325.09 72.576 L1325.09 65.6895 Q1322.53 69.8214 1318.73 71.8063 Q1314.92 73.7508 1309.41 73.7508 Q1302.44 73.7508 1298.31 69.8619 Q1294.22 65.9325 1294.22 59.3701 Q1294.22 51.7138 1299.32 47.825 Q1304.47 43.9361 1314.63 43.9361 L1325.09 43.9361 L1325.09 43.2069 Q1325.09 38.0623 1321.68 35.2672 Q1318.32 32.4315 1312.2 32.4315 Q1308.32 32.4315 1304.63 33.3632 Q1300.94 34.295 1297.54 36.1584 L1297.54 29.2718 Q1301.63 27.692 1305.48 26.9223 Q1309.33 26.1121 1312.97 26.1121 Q1322.82 26.1121 1327.68 31.2163 Q1332.54 36.3204 1332.54 46.6907 Z\" fill=\"#000000\" fill-rule=\"evenodd\" fill-opacity=\"1\" /><path clip-path=\"url(#clip610)\" d=\"M1374.18 34.1734 Q1372.93 33.4443 1371.43 33.1202 Q1369.97 32.7556 1368.19 32.7556 Q1361.87 32.7556 1358.47 36.8875 Q1355.1 40.9789 1355.1 48.6757 L1355.1 72.576 L1347.61 72.576 L1347.61 27.2059 L1355.1 27.2059 L1355.1 34.2544 Q1357.45 30.1225 1361.22 28.1376 Q1364.99 26.1121 1370.38 26.1121 Q1371.14 26.1121 1372.08 26.2337 Q1373.01 26.3147 1374.14 26.5172 L1374.18 34.1734 Z\" fill=\"#000000\" fill-rule=\"evenodd\" fill-opacity=\"1\" /><path clip-path=\"url(#clip610)\" d=\"M1418.99 48.0275 L1418.99 51.6733 L1384.72 51.6733 Q1385.2 59.3701 1389.33 63.421 Q1393.51 67.4314 1400.92 67.4314 Q1405.21 67.4314 1409.22 66.3781 Q1413.27 65.3249 1417.24 63.2184 L1417.24 70.267 Q1413.23 71.9684 1409.02 72.8596 Q1404.81 73.7508 1400.47 73.7508 Q1389.62 73.7508 1383.26 67.4314 Q1376.94 61.1119 1376.94 50.3365 Q1376.94 39.1965 1382.93 32.6746 Q1388.97 26.1121 1399.18 26.1121 Q1408.33 26.1121 1413.64 32.0264 Q1418.99 37.9003 1418.99 48.0275 M1411.53 45.84 Q1411.45 39.7232 1408.09 36.0774 Q1404.77 32.4315 1399.26 32.4315 Q1393.02 32.4315 1389.25 35.9558 Q1385.53 39.4801 1384.96 45.8805 L1411.53 45.84 M1404.36 6.22219 L1412.42 6.22219 L1399.22 21.4536 L1393.02 21.4536 L1404.36 6.22219 Z\" fill=\"#000000\" fill-rule=\"evenodd\" fill-opacity=\"1\" /><path clip-path=\"url(#clip610)\" d=\"M1470.03 48.0275 L1470.03 51.6733 L1435.76 51.6733 Q1436.24 59.3701 1440.37 63.421 Q1444.55 67.4314 1451.96 67.4314 Q1456.25 67.4314 1460.26 66.3781 Q1464.32 65.3249 1468.29 63.2184 L1468.29 70.267 Q1464.28 71.9684 1460.06 72.8596 Q1455.85 73.7508 1451.51 73.7508 Q1440.66 73.7508 1434.3 67.4314 Q1427.98 61.1119 1427.98 50.3365 Q1427.98 39.1965 1433.97 32.6746 Q1440.01 26.1121 1450.22 26.1121 Q1459.37 26.1121 1464.68 32.0264 Q1470.03 37.9003 1470.03 48.0275 M1462.57 45.84 Q1462.49 39.7232 1459.13 36.0774 Q1455.81 32.4315 1450.3 32.4315 Q1444.06 32.4315 1440.29 35.9558 Q1436.57 39.4801 1436 45.8805 L1462.57 45.84 Z\" fill=\"#000000\" fill-rule=\"evenodd\" fill-opacity=\"1\" /><path clip-path=\"url(#clip610)\" d=\"M1515.84 65.7705 L1515.84 89.8329 L1508.35 89.8329 L1508.35 27.2059 L1515.84 27.2059 L1515.84 34.0924 Q1518.19 30.0415 1521.76 28.0971 Q1525.36 26.1121 1530.35 26.1121 Q1538.61 26.1121 1543.75 32.6746 Q1548.94 39.2371 1548.94 49.9314 Q1548.94 60.6258 1543.75 67.1883 Q1538.61 73.7508 1530.35 73.7508 Q1525.36 73.7508 1521.76 71.8063 Q1518.19 69.8214 1515.84 65.7705 M1541.2 49.9314 Q1541.2 41.7081 1537.8 37.0496 Q1534.44 32.3505 1528.52 32.3505 Q1522.61 32.3505 1519.21 37.0496 Q1515.84 41.7081 1515.84 49.9314 Q1515.84 58.1548 1519.21 62.8538 Q1522.61 67.5124 1528.52 67.5124 Q1534.44 67.5124 1537.8 62.8538 Q1541.2 58.1548 1541.2 49.9314 Z\" fill=\"#000000\" fill-rule=\"evenodd\" fill-opacity=\"1\" /><path clip-path=\"url(#clip610)\" d=\"M1578.88 32.4315 Q1572.88 32.4315 1569.4 37.1306 Q1565.91 41.7891 1565.91 49.9314 Q1565.91 58.0738 1569.36 62.7728 Q1572.84 67.4314 1578.88 67.4314 Q1584.83 67.4314 1588.31 62.7323 Q1591.8 58.0333 1591.8 49.9314 Q1591.8 41.8701 1588.31 37.1711 Q1584.83 32.4315 1578.88 32.4315 M1578.88 26.1121 Q1588.6 26.1121 1594.15 32.4315 Q1599.7 38.7509 1599.7 49.9314 Q1599.7 61.0714 1594.15 67.4314 Q1588.6 73.7508 1578.88 73.7508 Q1569.11 73.7508 1563.56 67.4314 Q1558.05 61.0714 1558.05 49.9314 Q1558.05 38.7509 1563.56 32.4315 Q1569.11 26.1121 1578.88 26.1121 Z\" fill=\"#000000\" fill-rule=\"evenodd\" fill-opacity=\"1\" /><path clip-path=\"url(#clip610)\" d=\"M1611.28 54.671 L1611.28 27.2059 L1618.74 27.2059 L1618.74 54.3874 Q1618.74 60.8284 1621.25 64.0691 Q1623.76 67.2693 1628.78 67.2693 Q1634.82 67.2693 1638.3 63.421 Q1641.83 59.5726 1641.83 52.9291 L1641.83 27.2059 L1649.28 27.2059 L1649.28 72.576 L1641.83 72.576 L1641.83 65.6084 Q1639.11 69.7404 1635.51 71.7658 Q1631.94 73.7508 1627.2 73.7508 Q1619.38 73.7508 1615.33 68.8897 Q1611.28 64.0286 1611.28 54.671 M1630.04 26.1121 L1630.04 26.1121 Z\" fill=\"#000000\" fill-rule=\"evenodd\" fill-opacity=\"1\" /><path clip-path=\"url(#clip610)\" d=\"M1690.92 34.1734 Q1689.67 33.4443 1688.17 33.1202 Q1686.71 32.7556 1684.93 32.7556 Q1678.61 32.7556 1675.21 36.8875 Q1671.84 40.9789 1671.84 48.6757 L1671.84 72.576 L1664.35 72.576 L1664.35 27.2059 L1671.84 27.2059 L1671.84 34.2544 Q1674.19 30.1225 1677.96 28.1376 Q1681.73 26.1121 1687.12 26.1121 Q1687.89 26.1121 1688.82 26.2337 Q1689.75 26.3147 1690.88 26.5172 L1690.92 34.1734 Z\" fill=\"#000000\" fill-rule=\"evenodd\" fill-opacity=\"1\" /><path clip-path=\"url(#clip610)\" d=\"M1727.58 65.6895 L1740.95 65.6895 L1740.95 19.5497 L1726.41 22.4663 L1726.41 15.0127 L1740.87 12.096 L1749.05 12.096 L1749.05 65.6895 L1762.42 65.6895 L1762.42 72.576 L1727.58 72.576 L1727.58 65.6895 Z\" fill=\"#000000\" fill-rule=\"evenodd\" fill-opacity=\"1\" /><path clip-path=\"url(#clip610)\" d=\"M1804.27 27.2059 L1811.72 27.2059 L1811.72 72.576 L1804.27 72.576 L1804.27 27.2059 M1804.27 9.54393 L1811.72 9.54393 L1811.72 18.9825 L1804.27 18.9825 L1804.27 9.54393 Z\" fill=\"#000000\" fill-rule=\"evenodd\" fill-opacity=\"1\" /><path clip-path=\"url(#clip610)\" d=\"M1834.69 14.324 L1834.69 27.2059 L1850.04 27.2059 L1850.04 32.9987 L1834.69 32.9987 L1834.69 57.6282 Q1834.69 63.1779 1836.19 64.7578 Q1837.73 66.3376 1842.39 66.3376 L1850.04 66.3376 L1850.04 72.576 L1842.39 72.576 Q1833.76 72.576 1830.48 69.3758 Q1827.2 66.1351 1827.2 57.6282 L1827.2 32.9987 L1821.73 32.9987 L1821.73 27.2059 L1827.2 27.2059 L1827.2 14.324 L1834.69 14.324 Z\" fill=\"#000000\" fill-rule=\"evenodd\" fill-opacity=\"1\" /><path clip-path=\"url(#clip610)\" d=\"M1898.65 48.0275 L1898.65 51.6733 L1864.38 51.6733 Q1864.87 59.3701 1869 63.421 Q1873.17 67.4314 1880.59 67.4314 Q1884.88 67.4314 1888.89 66.3781 Q1892.94 65.3249 1896.91 63.2184 L1896.91 70.267 Q1892.9 71.9684 1888.69 72.8596 Q1884.48 73.7508 1880.14 73.7508 Q1869.28 73.7508 1862.92 67.4314 Q1856.61 61.1119 1856.61 50.3365 Q1856.61 39.1965 1862.6 32.6746 Q1868.64 26.1121 1878.84 26.1121 Q1888 26.1121 1893.31 32.0264 Q1898.65 37.9003 1898.65 48.0275 M1891.2 45.84 Q1891.12 39.7232 1887.76 36.0774 Q1884.43 32.4315 1878.93 32.4315 Q1872.69 32.4315 1868.92 35.9558 Q1865.19 39.4801 1864.63 45.8805 L1891.2 45.84 M1884.03 6.22219 L1892.09 6.22219 L1878.89 21.4536 L1872.69 21.4536 L1884.03 6.22219 Z\" fill=\"#000000\" fill-rule=\"evenodd\" fill-opacity=\"1\" /><path clip-path=\"url(#clip610)\" d=\"M1937.18 34.1734 Q1935.92 33.4443 1934.42 33.1202 Q1932.96 32.7556 1931.18 32.7556 Q1924.86 32.7556 1921.46 36.8875 Q1918.1 40.9789 1918.1 48.6757 L1918.1 72.576 L1910.6 72.576 L1910.6 27.2059 L1918.1 27.2059 L1918.1 34.2544 Q1920.45 30.1225 1924.21 28.1376 Q1927.98 26.1121 1933.37 26.1121 Q1934.14 26.1121 1935.07 26.2337 Q1936 26.3147 1937.14 26.5172 L1937.18 34.1734 Z\" fill=\"#000000\" fill-rule=\"evenodd\" fill-opacity=\"1\" /><path clip-path=\"url(#clip610)\" d=\"M1965.62 49.7694 Q1956.58 49.7694 1953.1 51.8354 Q1949.61 53.9013 1949.61 58.8839 Q1949.61 62.8538 1952.21 65.2034 Q1954.84 67.5124 1959.34 67.5124 Q1965.53 67.5124 1969.26 63.1374 Q1973.03 58.7219 1973.03 51.4303 L1973.03 49.7694 L1965.62 49.7694 M1980.48 46.6907 L1980.48 72.576 L1973.03 72.576 L1973.03 65.6895 Q1970.48 69.8214 1966.67 71.8063 Q1962.86 73.7508 1957.35 73.7508 Q1950.38 73.7508 1946.25 69.8619 Q1942.16 65.9325 1942.16 59.3701 Q1942.16 51.7138 1947.26 47.825 Q1952.41 43.9361 1962.58 43.9361 L1973.03 43.9361 L1973.03 43.2069 Q1973.03 38.0623 1969.63 35.2672 Q1966.26 32.4315 1960.15 32.4315 Q1956.26 32.4315 1952.57 33.3632 Q1948.88 34.295 1945.48 36.1584 L1945.48 29.2718 Q1949.57 27.692 1953.42 26.9223 Q1957.27 26.1121 1960.92 26.1121 Q1970.76 26.1121 1975.62 31.2163 Q1980.48 36.3204 1980.48 46.6907 Z\" fill=\"#000000\" fill-rule=\"evenodd\" fill-opacity=\"1\" /><path clip-path=\"url(#clip610)\" d=\"M2003.21 14.324 L2003.21 27.2059 L2018.56 27.2059 L2018.56 32.9987 L2003.21 32.9987 L2003.21 57.6282 Q2003.21 63.1779 2004.71 64.7578 Q2006.25 66.3376 2010.9 66.3376 L2018.56 66.3376 L2018.56 72.576 L2010.9 72.576 Q2002.28 72.576 1998.99 69.3758 Q1995.71 66.1351 1995.71 57.6282 L1995.71 32.9987 L1990.24 32.9987 L1990.24 27.2059 L1995.71 27.2059 L1995.71 14.324 L2003.21 14.324 Z\" fill=\"#000000\" fill-rule=\"evenodd\" fill-opacity=\"1\" /><path clip-path=\"url(#clip610)\" d=\"M2028.36 27.2059 L2035.82 27.2059 L2035.82 72.576 L2028.36 72.576 L2028.36 27.2059 M2028.36 9.54393 L2035.82 9.54393 L2035.82 18.9825 L2028.36 18.9825 L2028.36 9.54393 Z\" fill=\"#000000\" fill-rule=\"evenodd\" fill-opacity=\"1\" /><path clip-path=\"url(#clip610)\" d=\"M2068.99 32.4315 Q2063 32.4315 2059.52 37.1306 Q2056.03 41.7891 2056.03 49.9314 Q2056.03 58.0738 2059.47 62.7728 Q2062.96 67.4314 2068.99 67.4314 Q2074.95 67.4314 2078.43 62.7323 Q2081.92 58.0333 2081.92 49.9314 Q2081.92 41.8701 2078.43 37.1711 Q2074.95 32.4315 2068.99 32.4315 M2068.99 26.1121 Q2078.72 26.1121 2084.27 32.4315 Q2089.82 38.7509 2089.82 49.9314 Q2089.82 61.0714 2084.27 67.4314 Q2078.72 73.7508 2068.99 73.7508 Q2059.23 73.7508 2053.68 67.4314 Q2048.17 61.0714 2048.17 49.9314 Q2048.17 38.7509 2053.68 32.4315 Q2059.23 26.1121 2068.99 26.1121 Z\" fill=\"#000000\" fill-rule=\"evenodd\" fill-opacity=\"1\" /><path clip-path=\"url(#clip610)\" d=\"M2139.89 45.1919 L2139.89 72.576 L2132.43 72.576 L2132.43 45.4349 Q2132.43 38.994 2129.92 35.7938 Q2127.41 32.5936 2122.39 32.5936 Q2116.35 32.5936 2112.87 36.4419 Q2109.38 40.2903 2109.38 46.9338 L2109.38 72.576 L2101.89 72.576 L2101.89 27.2059 L2109.38 27.2059 L2109.38 34.2544 Q2112.06 30.163 2115.66 28.1376 Q2119.31 26.1121 2124.05 26.1121 Q2131.86 26.1121 2135.87 30.9732 Q2139.89 35.7938 2139.89 45.1919 Z\" fill=\"#000000\" fill-rule=\"evenodd\" fill-opacity=\"1\" /><polyline clip-path=\"url(#clip612)\" style=\"stroke:#009af9; stroke-linecap:round; stroke-linejoin:round; stroke-width:4; stroke-opacity:1; fill:none\" points=\"\n",
       "  333.937,1447.86 823.942,1447.65 1313.95,1447.84 1803.95,226.78 2293.96,1447.87 \n",
       "  \"/>\n",
       "<polyline clip-path=\"url(#clip612)\" style=\"stroke:#e26f46; stroke-linecap:round; stroke-linejoin:round; stroke-width:4; stroke-opacity:1; fill:none\" points=\"\n",
       "  333.937,1447.86 823.942,1447.57 1313.95,1447.84 1803.95,162.047 2293.96,1447.87 \n",
       "  \"/>\n",
       "<path clip-path=\"url(#clip610)\" d=\"\n",
       "M344.39 324.425 L1053.61 324.425 L1053.61 168.905 L344.39 168.905  Z\n",
       "  \" fill=\"#ffffff\" fill-rule=\"evenodd\" fill-opacity=\"1\"/>\n",
       "<polyline clip-path=\"url(#clip610)\" style=\"stroke:#000000; stroke-linecap:round; stroke-linejoin:round; stroke-width:4; stroke-opacity:1; fill:none\" points=\"\n",
       "  344.39,324.425 1053.61,324.425 1053.61,168.905 344.39,168.905 344.39,324.425 \n",
       "  \"/>\n",
       "<polyline clip-path=\"url(#clip610)\" style=\"stroke:#009af9; stroke-linecap:round; stroke-linejoin:round; stroke-width:4; stroke-opacity:1; fill:none\" points=\"\n",
       "  367.475,220.745 505.983,220.745 \n",
       "  \"/>\n",
       "<path clip-path=\"url(#clip610)\" d=\"M533.744 207.307 L533.744 234.182 L539.392 234.182 Q546.544 234.182 549.855 230.941 Q553.188 227.701 553.188 220.71 Q553.188 213.766 549.855 210.548 Q546.544 207.307 539.392 207.307 L533.744 207.307 M529.068 203.465 L538.674 203.465 Q548.72 203.465 553.419 207.654 Q558.118 211.821 558.118 220.71 Q558.118 229.645 553.396 233.835 Q548.674 238.025 538.674 238.025 L529.068 238.025 L529.068 203.465 Z\" fill=\"#000000\" fill-rule=\"evenodd\" fill-opacity=\"1\" /><path clip-path=\"url(#clip610)\" d=\"M587.563 223.997 L587.563 226.08 L567.979 226.08 Q568.257 230.478 570.618 232.793 Q573.003 235.085 577.239 235.085 Q579.692 235.085 581.984 234.483 Q584.299 233.881 586.567 232.677 L586.567 236.705 Q584.276 237.677 581.868 238.187 Q579.461 238.696 576.984 238.696 Q570.78 238.696 567.146 235.085 Q563.535 231.474 563.535 225.316 Q563.535 218.951 566.961 215.224 Q570.41 211.474 576.243 211.474 Q581.475 211.474 584.507 214.853 Q587.563 218.21 587.563 223.997 M583.303 222.747 Q583.257 219.252 581.336 217.168 Q579.438 215.085 576.29 215.085 Q572.725 215.085 570.572 217.099 Q568.442 219.113 568.118 222.77 L583.303 222.747 M579.206 200.108 L583.813 200.108 L576.266 208.812 L572.725 208.812 L579.206 200.108 Z\" fill=\"#000000\" fill-rule=\"evenodd\" fill-opacity=\"1\" /><path clip-path=\"url(#clip610)\" d=\"M613.211 213.094 L613.211 217.076 Q611.405 216.08 609.576 215.594 Q607.771 215.085 605.919 215.085 Q601.776 215.085 599.484 217.724 Q597.192 220.34 597.192 225.085 Q597.192 229.83 599.484 232.469 Q601.776 235.085 605.919 235.085 Q607.771 235.085 609.576 234.599 Q611.405 234.089 613.211 233.094 L613.211 237.029 Q611.428 237.863 609.507 238.279 Q607.609 238.696 605.456 238.696 Q599.6 238.696 596.151 235.015 Q592.702 231.335 592.702 225.085 Q592.702 218.742 596.174 215.108 Q599.669 211.474 605.734 211.474 Q607.701 211.474 609.576 211.891 Q611.451 212.284 613.211 213.094 Z\" fill=\"#000000\" fill-rule=\"evenodd\" fill-opacity=\"1\" /><path clip-path=\"url(#clip610)\" d=\"M635.641 216.08 Q634.924 215.664 634.067 215.478 Q633.234 215.27 632.215 215.27 Q628.604 215.27 626.66 217.631 Q624.738 219.969 624.738 224.367 L624.738 238.025 L620.456 238.025 L620.456 212.099 L624.738 212.099 L624.738 216.127 Q626.081 213.766 628.234 212.631 Q630.387 211.474 633.465 211.474 Q633.905 211.474 634.437 211.543 Q634.97 211.59 635.618 211.705 L635.641 216.08 Z\" fill=\"#000000\" fill-rule=\"evenodd\" fill-opacity=\"1\" /><path clip-path=\"url(#clip610)\" d=\"M649.113 215.085 Q645.687 215.085 643.697 217.77 Q641.706 220.432 641.706 225.085 Q641.706 229.738 643.674 232.423 Q645.664 235.085 649.113 235.085 Q652.516 235.085 654.507 232.4 Q656.498 229.715 656.498 225.085 Q656.498 220.478 654.507 217.793 Q652.516 215.085 649.113 215.085 M649.113 211.474 Q654.669 211.474 657.84 215.085 Q661.011 218.696 661.011 225.085 Q661.011 231.451 657.84 235.085 Q654.669 238.696 649.113 238.696 Q643.535 238.696 640.363 235.085 Q637.215 231.451 637.215 225.085 Q637.215 218.696 640.363 215.085 Q643.535 211.474 649.113 211.474 Z\" fill=\"#000000\" fill-rule=\"evenodd\" fill-opacity=\"1\" /><path clip-path=\"url(#clip610)\" d=\"M668.072 212.099 L672.331 212.099 L672.331 238.025 L668.072 238.025 L668.072 212.099 M668.072 202.006 L672.331 202.006 L672.331 207.4 L668.072 207.4 L668.072 202.006 Z\" fill=\"#000000\" fill-rule=\"evenodd\" fill-opacity=\"1\" /><path clip-path=\"url(#clip610)\" d=\"M697.77 212.863 L697.77 216.891 Q695.965 215.965 694.02 215.502 Q692.076 215.039 689.993 215.039 Q686.821 215.039 685.224 216.011 Q683.65 216.983 683.65 218.928 Q683.65 220.409 684.784 221.265 Q685.919 222.099 689.345 222.863 L690.803 223.187 Q695.34 224.159 697.238 225.941 Q699.159 227.701 699.159 230.872 Q699.159 234.483 696.289 236.589 Q693.442 238.696 688.442 238.696 Q686.358 238.696 684.09 238.279 Q681.845 237.886 679.345 237.076 L679.345 232.677 Q681.706 233.904 683.997 234.529 Q686.289 235.131 688.534 235.131 Q691.544 235.131 693.164 234.113 Q694.784 233.071 694.784 231.196 Q694.784 229.46 693.604 228.534 Q692.446 227.608 688.488 226.752 L687.007 226.404 Q683.048 225.571 681.289 223.858 Q679.53 222.122 679.53 219.113 Q679.53 215.455 682.122 213.465 Q684.715 211.474 689.483 211.474 Q691.845 211.474 693.928 211.821 Q696.011 212.168 697.77 212.863 Z\" fill=\"#000000\" fill-rule=\"evenodd\" fill-opacity=\"1\" /><path clip-path=\"url(#clip610)\" d=\"M722.469 212.863 L722.469 216.891 Q720.664 215.965 718.719 215.502 Q716.775 215.039 714.692 215.039 Q711.52 215.039 709.923 216.011 Q708.349 216.983 708.349 218.928 Q708.349 220.409 709.483 221.265 Q710.618 222.099 714.044 222.863 L715.502 223.187 Q720.039 224.159 721.937 225.941 Q723.858 227.701 723.858 230.872 Q723.858 234.483 720.988 236.589 Q718.141 238.696 713.141 238.696 Q711.057 238.696 708.789 238.279 Q706.544 237.886 704.044 237.076 L704.044 232.677 Q706.405 233.904 708.696 234.529 Q710.988 235.131 713.233 235.131 Q716.243 235.131 717.863 234.113 Q719.483 233.071 719.483 231.196 Q719.483 229.46 718.303 228.534 Q717.145 227.608 713.187 226.752 L711.706 226.404 Q707.747 225.571 705.988 223.858 Q704.229 222.122 704.229 219.113 Q704.229 215.455 706.821 213.465 Q709.414 211.474 714.182 211.474 Q716.543 211.474 718.627 211.821 Q720.71 212.168 722.469 212.863 Z\" fill=\"#000000\" fill-rule=\"evenodd\" fill-opacity=\"1\" /><path clip-path=\"url(#clip610)\" d=\"M742.423 224.992 Q737.261 224.992 735.27 226.173 Q733.28 227.353 733.28 230.201 Q733.28 232.469 734.761 233.812 Q736.266 235.131 738.835 235.131 Q742.377 235.131 744.506 232.631 Q746.659 230.108 746.659 225.941 L746.659 224.992 L742.423 224.992 M750.918 223.233 L750.918 238.025 L746.659 238.025 L746.659 234.089 Q745.201 236.451 743.025 237.585 Q740.849 238.696 737.701 238.696 Q733.719 238.696 731.358 236.474 Q729.02 234.228 729.02 230.478 Q729.02 226.103 731.937 223.881 Q734.877 221.659 740.687 221.659 L746.659 221.659 L746.659 221.242 Q746.659 218.303 744.715 216.705 Q742.793 215.085 739.298 215.085 Q737.076 215.085 734.969 215.617 Q732.863 216.15 730.918 217.215 L730.918 213.279 Q733.256 212.377 735.455 211.937 Q737.654 211.474 739.738 211.474 Q745.363 211.474 748.141 214.391 Q750.918 217.307 750.918 223.233 Z\" fill=\"#000000\" fill-rule=\"evenodd\" fill-opacity=\"1\" /><path clip-path=\"url(#clip610)\" d=\"M781.242 222.377 L781.242 238.025 L776.983 238.025 L776.983 222.515 Q776.983 218.835 775.548 217.006 Q774.113 215.178 771.242 215.178 Q767.793 215.178 765.802 217.377 Q763.812 219.576 763.812 223.372 L763.812 238.025 L759.529 238.025 L759.529 212.099 L763.812 212.099 L763.812 216.127 Q765.34 213.789 767.4 212.631 Q769.483 211.474 772.191 211.474 Q776.659 211.474 778.951 214.252 Q781.242 217.006 781.242 222.377 Z\" fill=\"#000000\" fill-rule=\"evenodd\" fill-opacity=\"1\" /><path clip-path=\"url(#clip610)\" d=\"M808.395 213.094 L808.395 217.076 Q806.589 216.08 804.761 215.594 Q802.955 215.085 801.103 215.085 Q796.96 215.085 794.668 217.724 Q792.376 220.34 792.376 225.085 Q792.376 229.83 794.668 232.469 Q796.96 235.085 801.103 235.085 Q802.955 235.085 804.761 234.599 Q806.589 234.089 808.395 233.094 L808.395 237.029 Q806.612 237.863 804.691 238.279 Q802.793 238.696 800.64 238.696 Q794.784 238.696 791.335 235.015 Q787.886 231.335 787.886 225.085 Q787.886 218.742 791.358 215.108 Q794.853 211.474 800.918 211.474 Q802.886 211.474 804.761 211.891 Q806.636 212.284 808.395 213.094 Z\" fill=\"#000000\" fill-rule=\"evenodd\" fill-opacity=\"1\" /><path clip-path=\"url(#clip610)\" d=\"M837.978 223.997 L837.978 226.08 L818.395 226.08 Q818.673 230.478 821.034 232.793 Q823.418 235.085 827.654 235.085 Q830.108 235.085 832.399 234.483 Q834.714 233.881 836.983 232.677 L836.983 236.705 Q834.691 237.677 832.284 238.187 Q829.876 238.696 827.399 238.696 Q821.196 238.696 817.561 235.085 Q813.95 231.474 813.95 225.316 Q813.95 218.951 817.376 215.224 Q820.825 211.474 826.659 211.474 Q831.89 211.474 834.922 214.853 Q837.978 218.21 837.978 223.997 M833.719 222.747 Q833.672 219.252 831.751 217.168 Q829.853 215.085 826.705 215.085 Q823.14 215.085 820.987 217.099 Q818.858 219.113 818.534 222.77 L833.719 222.747 Z\" fill=\"#000000\" fill-rule=\"evenodd\" fill-opacity=\"1\" /><path clip-path=\"url(#clip610)\" d=\"M886.103 206.127 L886.103 211.057 Q883.742 208.858 881.057 207.77 Q878.394 206.682 875.385 206.682 Q869.459 206.682 866.311 210.316 Q863.163 213.928 863.163 220.779 Q863.163 227.608 866.311 231.242 Q869.459 234.853 875.385 234.853 Q878.394 234.853 881.057 233.765 Q883.742 232.677 886.103 230.478 L886.103 235.363 Q883.649 237.029 880.894 237.863 Q878.163 238.696 875.107 238.696 Q867.26 238.696 862.746 233.904 Q858.233 229.09 858.233 220.779 Q858.233 212.446 862.746 207.654 Q867.26 202.84 875.107 202.84 Q878.209 202.84 880.941 203.673 Q883.695 204.483 886.103 206.127 Z\" fill=\"#000000\" fill-rule=\"evenodd\" fill-opacity=\"1\" /><path clip-path=\"url(#clip610)\" d=\"M904.922 224.992 Q899.76 224.992 897.769 226.173 Q895.779 227.353 895.779 230.201 Q895.779 232.469 897.26 233.812 Q898.765 235.131 901.334 235.131 Q904.876 235.131 907.005 232.631 Q909.158 230.108 909.158 225.941 L909.158 224.992 L904.922 224.992 M913.417 223.233 L913.417 238.025 L909.158 238.025 L909.158 234.089 Q907.7 236.451 905.524 237.585 Q903.348 238.696 900.2 238.696 Q896.218 238.696 893.857 236.474 Q891.519 234.228 891.519 230.478 Q891.519 226.103 894.436 223.881 Q897.376 221.659 903.186 221.659 L909.158 221.659 L909.158 221.242 Q909.158 218.303 907.214 216.705 Q905.292 215.085 901.797 215.085 Q899.575 215.085 897.468 215.617 Q895.362 216.15 893.418 217.215 L893.418 213.279 Q895.755 212.377 897.955 211.937 Q900.154 211.474 902.237 211.474 Q907.862 211.474 910.64 214.391 Q913.417 217.307 913.417 223.233 Z\" fill=\"#000000\" fill-rule=\"evenodd\" fill-opacity=\"1\" /><path clip-path=\"url(#clip610)\" d=\"M921.751 227.793 L921.751 212.099 L926.01 212.099 L926.01 227.631 Q926.01 231.312 927.445 233.164 Q928.88 234.992 931.751 234.992 Q935.2 234.992 937.19 232.793 Q939.204 230.594 939.204 226.798 L939.204 212.099 L943.464 212.099 L943.464 238.025 L939.204 238.025 L939.204 234.043 Q937.653 236.404 935.593 237.562 Q933.556 238.696 930.848 238.696 Q926.38 238.696 924.066 235.918 Q921.751 233.14 921.751 227.793 M932.468 211.474 L932.468 211.474 Z\" fill=\"#000000\" fill-rule=\"evenodd\" fill-opacity=\"1\" /><path clip-path=\"url(#clip610)\" d=\"M970.894 213.094 L970.894 217.076 Q969.088 216.08 967.26 215.594 Q965.454 215.085 963.602 215.085 Q959.459 215.085 957.167 217.724 Q954.876 220.34 954.876 225.085 Q954.876 229.83 957.167 232.469 Q959.459 235.085 963.602 235.085 Q965.454 235.085 967.26 234.599 Q969.088 234.089 970.894 233.094 L970.894 237.029 Q969.112 237.863 967.19 238.279 Q965.292 238.696 963.139 238.696 Q957.283 238.696 953.834 235.015 Q950.385 231.335 950.385 225.085 Q950.385 218.742 953.857 215.108 Q957.352 211.474 963.417 211.474 Q965.385 211.474 967.26 211.891 Q969.135 212.284 970.894 213.094 Z\" fill=\"#000000\" fill-rule=\"evenodd\" fill-opacity=\"1\" /><path clip-path=\"url(#clip610)\" d=\"M999.852 222.377 L999.852 238.025 L995.593 238.025 L995.593 222.515 Q995.593 218.835 994.158 217.006 Q992.723 215.178 989.852 215.178 Q986.403 215.178 984.412 217.377 Q982.422 219.576 982.422 223.372 L982.422 238.025 L978.139 238.025 L978.139 202.006 L982.422 202.006 L982.422 216.127 Q983.949 213.789 986.01 212.631 Q988.093 211.474 990.801 211.474 Q995.269 211.474 997.561 214.252 Q999.852 217.006 999.852 222.377 Z\" fill=\"#000000\" fill-rule=\"evenodd\" fill-opacity=\"1\" /><path clip-path=\"url(#clip610)\" d=\"M1019.13 240.432 Q1017.33 245.062 1015.62 246.474 Q1013.9 247.886 1011.03 247.886 L1007.63 247.886 L1007.63 244.321 L1010.13 244.321 Q1011.89 244.321 1012.86 243.488 Q1013.83 242.654 1015.01 239.552 L1015.78 237.608 L1005.29 212.099 L1009.81 212.099 L1017.91 232.377 L1026.01 212.099 L1030.52 212.099 L1019.13 240.432 Z\" fill=\"#000000\" fill-rule=\"evenodd\" fill-opacity=\"1\" /><polyline clip-path=\"url(#clip610)\" style=\"stroke:#e26f46; stroke-linecap:round; stroke-linejoin:round; stroke-width:4; stroke-opacity:1; fill:none\" points=\"\n",
       "  367.475,272.585 505.983,272.585 \n",
       "  \"/>\n",
       "<path clip-path=\"url(#clip610)\" d=\"M533.744 259.147 L533.744 286.022 L539.392 286.022 Q546.544 286.022 549.855 282.781 Q553.188 279.541 553.188 272.55 Q553.188 265.606 549.855 262.388 Q546.544 259.147 539.392 259.147 L533.744 259.147 M529.068 255.305 L538.674 255.305 Q548.72 255.305 553.419 259.494 Q558.118 263.661 558.118 272.55 Q558.118 281.485 553.396 285.675 Q548.674 289.865 538.674 289.865 L529.068 289.865 L529.068 255.305 Z\" fill=\"#000000\" fill-rule=\"evenodd\" fill-opacity=\"1\" /><path clip-path=\"url(#clip610)\" d=\"M587.563 275.837 L587.563 277.92 L567.979 277.92 Q568.257 282.318 570.618 284.633 Q573.003 286.925 577.239 286.925 Q579.692 286.925 581.984 286.323 Q584.299 285.721 586.567 284.517 L586.567 288.545 Q584.276 289.517 581.868 290.027 Q579.461 290.536 576.984 290.536 Q570.78 290.536 567.146 286.925 Q563.535 283.314 563.535 277.156 Q563.535 270.791 566.961 267.064 Q570.41 263.314 576.243 263.314 Q581.475 263.314 584.507 266.693 Q587.563 270.05 587.563 275.837 M583.303 274.587 Q583.257 271.092 581.336 269.008 Q579.438 266.925 576.29 266.925 Q572.725 266.925 570.572 268.939 Q568.442 270.953 568.118 274.61 L583.303 274.587 M579.206 251.948 L583.813 251.948 L576.266 260.652 L572.725 260.652 L579.206 251.948 Z\" fill=\"#000000\" fill-rule=\"evenodd\" fill-opacity=\"1\" /><path clip-path=\"url(#clip610)\" d=\"M613.211 264.934 L613.211 268.916 Q611.405 267.92 609.576 267.434 Q607.771 266.925 605.919 266.925 Q601.776 266.925 599.484 269.564 Q597.192 272.18 597.192 276.925 Q597.192 281.67 599.484 284.309 Q601.776 286.925 605.919 286.925 Q607.771 286.925 609.576 286.439 Q611.405 285.929 613.211 284.934 L613.211 288.869 Q611.428 289.703 609.507 290.119 Q607.609 290.536 605.456 290.536 Q599.6 290.536 596.151 286.855 Q592.702 283.175 592.702 276.925 Q592.702 270.582 596.174 266.948 Q599.669 263.314 605.734 263.314 Q607.701 263.314 609.576 263.731 Q611.451 264.124 613.211 264.934 Z\" fill=\"#000000\" fill-rule=\"evenodd\" fill-opacity=\"1\" /><path clip-path=\"url(#clip610)\" d=\"M635.641 267.92 Q634.924 267.504 634.067 267.318 Q633.234 267.11 632.215 267.11 Q628.604 267.11 626.66 269.471 Q624.738 271.809 624.738 276.207 L624.738 289.865 L620.456 289.865 L620.456 263.939 L624.738 263.939 L624.738 267.967 Q626.081 265.606 628.234 264.471 Q630.387 263.314 633.465 263.314 Q633.905 263.314 634.437 263.383 Q634.97 263.43 635.618 263.545 L635.641 267.92 Z\" fill=\"#000000\" fill-rule=\"evenodd\" fill-opacity=\"1\" /><path clip-path=\"url(#clip610)\" d=\"M649.113 266.925 Q645.687 266.925 643.697 269.61 Q641.706 272.272 641.706 276.925 Q641.706 281.578 643.674 284.263 Q645.664 286.925 649.113 286.925 Q652.516 286.925 654.507 284.24 Q656.498 281.555 656.498 276.925 Q656.498 272.318 654.507 269.633 Q652.516 266.925 649.113 266.925 M649.113 263.314 Q654.669 263.314 657.84 266.925 Q661.011 270.536 661.011 276.925 Q661.011 283.291 657.84 286.925 Q654.669 290.536 649.113 290.536 Q643.535 290.536 640.363 286.925 Q637.215 283.291 637.215 276.925 Q637.215 270.536 640.363 266.925 Q643.535 263.314 649.113 263.314 Z\" fill=\"#000000\" fill-rule=\"evenodd\" fill-opacity=\"1\" /><path clip-path=\"url(#clip610)\" d=\"M668.072 263.939 L672.331 263.939 L672.331 289.865 L668.072 289.865 L668.072 263.939 M668.072 253.846 L672.331 253.846 L672.331 259.24 L668.072 259.24 L668.072 253.846 Z\" fill=\"#000000\" fill-rule=\"evenodd\" fill-opacity=\"1\" /><path clip-path=\"url(#clip610)\" d=\"M697.77 264.703 L697.77 268.731 Q695.965 267.805 694.02 267.342 Q692.076 266.879 689.993 266.879 Q686.821 266.879 685.224 267.851 Q683.65 268.823 683.65 270.768 Q683.65 272.249 684.784 273.105 Q685.919 273.939 689.345 274.703 L690.803 275.027 Q695.34 275.999 697.238 277.781 Q699.159 279.541 699.159 282.712 Q699.159 286.323 696.289 288.429 Q693.442 290.536 688.442 290.536 Q686.358 290.536 684.09 290.119 Q681.845 289.726 679.345 288.916 L679.345 284.517 Q681.706 285.744 683.997 286.369 Q686.289 286.971 688.534 286.971 Q691.544 286.971 693.164 285.953 Q694.784 284.911 694.784 283.036 Q694.784 281.3 693.604 280.374 Q692.446 279.448 688.488 278.592 L687.007 278.244 Q683.048 277.411 681.289 275.698 Q679.53 273.962 679.53 270.953 Q679.53 267.295 682.122 265.305 Q684.715 263.314 689.483 263.314 Q691.845 263.314 693.928 263.661 Q696.011 264.008 697.77 264.703 Z\" fill=\"#000000\" fill-rule=\"evenodd\" fill-opacity=\"1\" /><path clip-path=\"url(#clip610)\" d=\"M722.469 264.703 L722.469 268.731 Q720.664 267.805 718.719 267.342 Q716.775 266.879 714.692 266.879 Q711.52 266.879 709.923 267.851 Q708.349 268.823 708.349 270.768 Q708.349 272.249 709.483 273.105 Q710.618 273.939 714.044 274.703 L715.502 275.027 Q720.039 275.999 721.937 277.781 Q723.858 279.541 723.858 282.712 Q723.858 286.323 720.988 288.429 Q718.141 290.536 713.141 290.536 Q711.057 290.536 708.789 290.119 Q706.544 289.726 704.044 288.916 L704.044 284.517 Q706.405 285.744 708.696 286.369 Q710.988 286.971 713.233 286.971 Q716.243 286.971 717.863 285.953 Q719.483 284.911 719.483 283.036 Q719.483 281.3 718.303 280.374 Q717.145 279.448 713.187 278.592 L711.706 278.244 Q707.747 277.411 705.988 275.698 Q704.229 273.962 704.229 270.953 Q704.229 267.295 706.821 265.305 Q709.414 263.314 714.182 263.314 Q716.543 263.314 718.627 263.661 Q720.71 264.008 722.469 264.703 Z\" fill=\"#000000\" fill-rule=\"evenodd\" fill-opacity=\"1\" /><path clip-path=\"url(#clip610)\" d=\"M742.423 276.832 Q737.261 276.832 735.27 278.013 Q733.28 279.193 733.28 282.041 Q733.28 284.309 734.761 285.652 Q736.266 286.971 738.835 286.971 Q742.377 286.971 744.506 284.471 Q746.659 281.948 746.659 277.781 L746.659 276.832 L742.423 276.832 M750.918 275.073 L750.918 289.865 L746.659 289.865 L746.659 285.929 Q745.201 288.291 743.025 289.425 Q740.849 290.536 737.701 290.536 Q733.719 290.536 731.358 288.314 Q729.02 286.068 729.02 282.318 Q729.02 277.943 731.937 275.721 Q734.877 273.499 740.687 273.499 L746.659 273.499 L746.659 273.082 Q746.659 270.143 744.715 268.545 Q742.793 266.925 739.298 266.925 Q737.076 266.925 734.969 267.457 Q732.863 267.99 730.918 269.055 L730.918 265.119 Q733.256 264.217 735.455 263.777 Q737.654 263.314 739.738 263.314 Q745.363 263.314 748.141 266.231 Q750.918 269.147 750.918 275.073 Z\" fill=\"#000000\" fill-rule=\"evenodd\" fill-opacity=\"1\" /><path clip-path=\"url(#clip610)\" d=\"M781.242 274.217 L781.242 289.865 L776.983 289.865 L776.983 274.355 Q776.983 270.675 775.548 268.846 Q774.113 267.018 771.242 267.018 Q767.793 267.018 765.802 269.217 Q763.812 271.416 763.812 275.212 L763.812 289.865 L759.529 289.865 L759.529 263.939 L763.812 263.939 L763.812 267.967 Q765.34 265.629 767.4 264.471 Q769.483 263.314 772.191 263.314 Q776.659 263.314 778.951 266.092 Q781.242 268.846 781.242 274.217 Z\" fill=\"#000000\" fill-rule=\"evenodd\" fill-opacity=\"1\" /><path clip-path=\"url(#clip610)\" d=\"M808.395 264.934 L808.395 268.916 Q806.589 267.92 804.761 267.434 Q802.955 266.925 801.103 266.925 Q796.96 266.925 794.668 269.564 Q792.376 272.18 792.376 276.925 Q792.376 281.67 794.668 284.309 Q796.96 286.925 801.103 286.925 Q802.955 286.925 804.761 286.439 Q806.589 285.929 808.395 284.934 L808.395 288.869 Q806.612 289.703 804.691 290.119 Q802.793 290.536 800.64 290.536 Q794.784 290.536 791.335 286.855 Q787.886 283.175 787.886 276.925 Q787.886 270.582 791.358 266.948 Q794.853 263.314 800.918 263.314 Q802.886 263.314 804.761 263.731 Q806.636 264.124 808.395 264.934 Z\" fill=\"#000000\" fill-rule=\"evenodd\" fill-opacity=\"1\" /><path clip-path=\"url(#clip610)\" d=\"M837.978 275.837 L837.978 277.92 L818.395 277.92 Q818.673 282.318 821.034 284.633 Q823.418 286.925 827.654 286.925 Q830.108 286.925 832.399 286.323 Q834.714 285.721 836.983 284.517 L836.983 288.545 Q834.691 289.517 832.284 290.027 Q829.876 290.536 827.399 290.536 Q821.196 290.536 817.561 286.925 Q813.95 283.314 813.95 277.156 Q813.95 270.791 817.376 267.064 Q820.825 263.314 826.659 263.314 Q831.89 263.314 834.922 266.693 Q837.978 270.05 837.978 275.837 M833.719 274.587 Q833.672 271.092 831.751 269.008 Q829.853 266.925 826.705 266.925 Q823.14 266.925 820.987 268.939 Q818.858 270.953 818.534 274.61 L833.719 274.587 Z\" fill=\"#000000\" fill-rule=\"evenodd\" fill-opacity=\"1\" /><path clip-path=\"url(#clip610)\" d=\"M883.788 284.934 L883.788 275.652 L876.149 275.652 L876.149 271.809 L888.418 271.809 L888.418 286.647 Q885.709 288.568 882.445 289.564 Q879.182 290.536 875.478 290.536 Q867.376 290.536 862.793 285.814 Q858.233 281.068 858.233 272.619 Q858.233 264.147 862.793 259.425 Q867.376 254.68 875.478 254.68 Q878.857 254.68 881.89 255.513 Q884.945 256.346 887.515 257.967 L887.515 262.943 Q884.922 260.744 882.006 259.633 Q879.089 258.522 875.871 258.522 Q869.529 258.522 866.334 262.064 Q863.163 265.606 863.163 272.619 Q863.163 279.61 866.334 283.152 Q869.529 286.693 875.871 286.693 Q878.348 286.693 880.293 286.277 Q882.237 285.837 883.788 284.934 Z\" fill=\"#000000\" fill-rule=\"evenodd\" fill-opacity=\"1\" /><path clip-path=\"url(#clip610)\" d=\"M922.839 257.967 L922.839 262.897 Q920.478 260.698 917.792 259.61 Q915.13 258.522 912.121 258.522 Q906.195 258.522 903.047 262.156 Q899.899 265.768 899.899 272.619 Q899.899 279.448 903.047 283.082 Q906.195 286.693 912.121 286.693 Q915.13 286.693 917.792 285.605 Q920.478 284.517 922.839 282.318 L922.839 287.203 Q920.385 288.869 917.63 289.703 Q914.899 290.536 911.843 290.536 Q903.996 290.536 899.482 285.744 Q894.968 280.93 894.968 272.619 Q894.968 264.286 899.482 259.494 Q903.996 254.68 911.843 254.68 Q914.945 254.68 917.677 255.513 Q920.431 256.323 922.839 257.967 Z\" fill=\"#000000\" fill-rule=\"evenodd\" fill-opacity=\"1\" /><path clip-path=\"url(#clip610)\" d=\"M925.269 255.305 L954.505 255.305 L954.505 259.24 L942.237 259.24 L942.237 289.865 L937.538 289.865 L937.538 259.24 L925.269 259.24 L925.269 255.305 Z\" fill=\"#000000\" fill-rule=\"evenodd\" fill-opacity=\"1\" /></svg>\n"
      ]
     },
     "execution_count": 10,
     "metadata": {},
     "output_type": "execute_result"
    }
   ],
   "source": [
    "using Plots\n",
    "\n",
    "\t# La tolérance utilisée dans les tests\n",
    "\ttol_erreur = 1e-2\n",
    "\t# initialisation des variables de l'algorithme\n",
    "\tgamma1 = 0.5\n",
    "\tgamma2 = 2.00\n",
    "\teta1 = 0.25\n",
    "\teta2 = 0.75\n",
    "\tdeltaMax = 10\n",
    "\tTol_abs = sqrt(eps())\n",
    "\tTol_rel = 1e-8\n",
    "    epsilon = 1\n",
    "\tmaxits = 5000\n",
    "\tdelta0_1 = 2\n",
    "\tdelta0_2 = 2\n",
    "\n",
    "options1_it =[deltaMax,gamma1,gamma2,eta1,eta2,10,1,Tol_abs,Tol_rel,epsilon]\n",
    "options2_it =[deltaMax,gamma1,gamma2,eta1,eta2,10,1,Tol_abs,Tol_rel,epsilon]\n",
    "\n",
    "\n",
    "x_min11, fmin11, flag11, nb_iters11 = Regions_De_Confiance(\"cauchy\",fct1,grad_fct1,hess_fct1,pts1.x011,options1_it)\n",
    "x_min12, fmin12, flag12, nb_iters12  = Regions_De_Confiance(\"cauchy\",fct1,grad_fct1,hess_fct1,pts1.x012,options1_it)\n",
    "x_min21, fmin21, flag21, nb_iters21,  = Regions_De_Confiance(\"cauchy\",fct2,grad_fct2,hess_fct2,pts1.x021,options2_it)\n",
    "x_min22, fmin22, flag22, nb_iters22 = Regions_De_Confiance(\"cauchy\",fct2,grad_fct2,hess_fct2,pts1.x022,options2_it)\n",
    "x_min23, fmin23, flag23, nb_iters23 = Regions_De_Confiance(\"cauchy\",fct2,grad_fct2,hess_fct2,pts1.x023,options2_it)\n",
    "\n",
    "cauchy = [(fct1(pts1.x011) - fmin11), (fct1(pts1.x012) - fmin12), (fct2(pts1.x021) - fmin21), (fct2(pts1.x022) - fmin22), (fct2(pts1.x023) - fmin23)]\n",
    "print(cauchy)\n",
    "\n",
    "x_min11, fmin11, flag11, nb_iters11 = Regions_De_Confiance(\"gct\",fct1,grad_fct1,hess_fct1,pts1.x011,options1_it)\n",
    "x_min12, fmin12, flag12, nb_iters12  = Regions_De_Confiance(\"gct\",fct1,grad_fct1,hess_fct1,pts1.x012,options1_it)\n",
    "x_min21, fmin21, flag21, nb_iters21,  = Regions_De_Confiance(\"gct\",fct2,grad_fct2,hess_fct2,pts1.x021,options2_it)\n",
    "x_min22, fmin22, flag22, nb_iters22 = Regions_De_Confiance(\"gct\",fct2,grad_fct2,hess_fct2,pts1.x022,options2_it)\n",
    "x_min23, fmin23, flag23, nb_iters23 = Regions_De_Confiance(\"gct\",fct2,grad_fct2,hess_fct2,pts1.x023,options2_it)\n",
    "\n",
    "gct = [(fct1(pts1.x011) - fmin11), (fct1(pts1.x012) - fmin12), (fct2(pts1.x021) - fmin21), (fct2(pts1.x022) - fmin22), (fct2(pts1.x023) - fmin23)]\n",
    "print(gct)\n",
    "\n",
    "plot([\"x011\",\"x012\",\"x021\",\"x022\",\"x023\"], [cauchy, gct], title=\"Décroissance comparée pour 1 itération\", label=[\"Décroissance Cauchy\" \"Décroissance GCT\"])\n",
    "plot!(legend=:topleft)\n"
   ]
  },
  {
   "cell_type": "code",
   "execution_count": 11,
   "metadata": {},
   "outputs": [
    {
     "data": {
      "text/plain": [
       "10-element Vector{Float64}:\n",
       " 10.0\n",
       "  0.5\n",
       "  2.0\n",
       "  0.25\n",
       "  0.75\n",
       "  2.0\n",
       "  1.0\n",
       "  1.4901161193847656e-8\n",
       "  1.0e-8\n",
       "  1.0"
      ]
     },
     "execution_count": 11,
     "metadata": {},
     "output_type": "execute_result"
    }
   ],
   "source": [
    "options_maxit =[deltaMax,gamma1,gamma2,eta1,eta2,delta0_1,1,Tol_abs,Tol_rel,epsilon]\n",
    "\n"
   ]
  },
  {
   "cell_type": "markdown",
   "metadata": {},
   "source": [
    "B. Dans le cas général, la décroissance est toujours beaucoup plus rapide avec le gradient conjugué tronqué.  La différence est de l'ordre de 10 à quasiment 170 fois plus efficace.\n",
    "\n",
    "ex : pour f1 et x012, il faut 28 itérations avec Cauchy pour s'approcher de la solution exacte contre seulement 3 pour GCT qui trouve exactement la solution. \n",
    "Idem pour f2 et x023 où GCT trouve en 19 itérations une meilleure solution que Cauchy en 3198...\n",
    "\n"
   ]
  },
  {
   "cell_type": "code",
   "execution_count": 12,
   "metadata": {},
   "outputs": [
    {
     "name": "stdout",
     "output_type": "stream",
     "text": [
      "-------------------------------------------------------------------------\n",
      "\u001b[34m\u001b[1mRésultats de : régions de confiance avec cauchy appliqué à fonction 1 au point initial x012 :\u001b[22m\u001b[39m\n",
      "  * xsol = [1.000049795462743, 0.9999961002424803, 0.9999424049876057]\n",
      "  * f(xsol) = 6.0401046516733e-9\n",
      "  * nb_iters = 28\n",
      "  * flag = 2\n",
      "  * sol_exacte : [1, 1, 1]\n",
      "-------------------------------------------------------------------------\n",
      "\u001b[34m\u001b[1mRésultats de : régions de confiance avec gct appliqué à fonction 1 au point initial x012 :\u001b[22m\u001b[39m\n",
      "  * xsol = [1.0, 1.0, 1.0]\n",
      "  * f(xsol) = 0.0\n",
      "  * nb_iters = 3\n",
      "  * flag = 0\n",
      "  * sol_exacte : [1, 1, 1]\n",
      "-------------------------------------------------------------------------\n",
      "\u001b[34m\u001b[1mRésultats de : régions de confiance avec cauchy appliqué à fonction 2 au point initial x023 :\u001b[22m\u001b[39m\n",
      "  * xsol = [0.998024983312937, 0.9960352320641266]\n",
      "  * f(xsol) = 3.935418178353333e-6\n",
      "  * nb_iters = 3198\n",
      "  * flag = 2\n",
      "  * sol_exacte : [1, 1]\n",
      "-------------------------------------------------------------------------\n",
      "\u001b[34m\u001b[1mRésultats de : régions de confiance avec gct  appliqué à fonction 2 au point initial x023 :\u001b[22m\u001b[39m\n",
      "  * xsol = [0.9999999999998994, 0.9999999999996207]\n",
      "  * f(xsol) = 3.1813581453548166e-24\n",
      "  * nb_iters = 19\n",
      "  * flag = 0\n",
      "  * sol_exacte : [1, 1]\n"
     ]
    }
   ],
   "source": [
    "x_min12, fmin12, flag12, nb_iters12  = Regions_De_Confiance(\"cauchy\",fct1,grad_fct1,hess_fct1,pts1.x012,options1)\n",
    "afficher_resultats(\"régions de confiance avec \"*\"cauchy\",\"fonction 1\",\"x012\",x_min12,fmin12, flag12,sol_exacte_fct1,nb_iters12)\n",
    "\n",
    "x_min12, fmin12, flag12, nb_iters12 = Regions_De_Confiance(\"gct\",fct1,grad_fct1,hess_fct1,pts1.x012,options1)\n",
    "afficher_resultats(\"régions de confiance avec \"*\"gct\",\"fonction 1\",\"x012\",x_min12,fmin12, flag12,sol_exacte_fct1,nb_iters12)\n",
    "\n",
    "x_min23, fmin23, flag23, nb_iters23 = Regions_De_Confiance(\"cauchy\",fct2,grad_fct2,hess_fct2,pts1.x023,options2)\n",
    "afficher_resultats(\"régions de confiance avec \"*\"cauchy\",\"fonction 2\",\"x023\",x_min23,fmin23, flag23,sol_exacte_fct2,nb_iters23)\n",
    "    \n",
    "x_min23, fmin23, flag23, nb_iters23 = Regions_De_Confiance(\"gct\",fct2,grad_fct2,hess_fct2,pts1.x023,options2)\n",
    "afficher_resultats(\"régions de confiance avec \"*\"gct \",\"fonction 2\",\"x023\",x_min23,fmin23, flag23,sol_exacte_fct2,nb_iters23)\n"
   ]
  },
  {
   "cell_type": "markdown",
   "metadata": {},
   "source": [
    "Nous traçons le graphique suivant pour montrer que la décroissance est beaucoup plus forte pour le Gradient Conjugué Tronqué que pour le Pas de Cauchy.\n",
    "\n"
   ]
  },
  {
   "cell_type": "code",
   "execution_count": 13,
   "metadata": {},
   "outputs": [
    {
     "name": "stdout",
     "output_type": "stream",
     "text": [
      "[26, 28, 3988, 864, 3198][1, 3, 31, 44, 19]"
     ]
    },
    {
     "data": {
      "image/svg+xml": [
       "<?xml version=\"1.0\" encoding=\"utf-8\"?>\n",
       "<svg xmlns=\"http://www.w3.org/2000/svg\" xmlns:xlink=\"http://www.w3.org/1999/xlink\" width=\"600\" height=\"400\" viewBox=\"0 0 2400 1600\">\n",
       "<defs>\n",
       "  <clipPath id=\"clip650\">\n",
       "    <rect x=\"0\" y=\"0\" width=\"2400\" height=\"1600\"/>\n",
       "  </clipPath>\n",
       "</defs>\n",
       "<path clip-path=\"url(#clip650)\" d=\"\n",
       "M0 1600 L2400 1600 L2400 0 L0 0  Z\n",
       "  \" fill=\"#ffffff\" fill-rule=\"evenodd\" fill-opacity=\"1\"/>\n",
       "<defs>\n",
       "  <clipPath id=\"clip651\">\n",
       "    <rect x=\"480\" y=\"0\" width=\"1681\" height=\"1600\"/>\n",
       "  </clipPath>\n",
       "</defs>\n",
       "<path clip-path=\"url(#clip650)\" d=\"\n",
       "M202.177 1486.45 L2352.76 1486.45 L2352.76 123.472 L202.177 123.472  Z\n",
       "  \" fill=\"#ffffff\" fill-rule=\"evenodd\" fill-opacity=\"1\"/>\n",
       "<defs>\n",
       "  <clipPath id=\"clip652\">\n",
       "    <rect x=\"202\" y=\"123\" width=\"2152\" height=\"1364\"/>\n",
       "  </clipPath>\n",
       "</defs>\n",
       "<polyline clip-path=\"url(#clip652)\" style=\"stroke:#000000; stroke-linecap:round; stroke-linejoin:round; stroke-width:2; stroke-opacity:0.1; fill:none\" points=\"\n",
       "  263.042,1486.45 263.042,123.472 \n",
       "  \"/>\n",
       "<polyline clip-path=\"url(#clip652)\" style=\"stroke:#000000; stroke-linecap:round; stroke-linejoin:round; stroke-width:2; stroke-opacity:0.1; fill:none\" points=\"\n",
       "  770.254,1486.45 770.254,123.472 \n",
       "  \"/>\n",
       "<polyline clip-path=\"url(#clip652)\" style=\"stroke:#000000; stroke-linecap:round; stroke-linejoin:round; stroke-width:2; stroke-opacity:0.1; fill:none\" points=\"\n",
       "  1277.47,1486.45 1277.47,123.472 \n",
       "  \"/>\n",
       "<polyline clip-path=\"url(#clip652)\" style=\"stroke:#000000; stroke-linecap:round; stroke-linejoin:round; stroke-width:2; stroke-opacity:0.1; fill:none\" points=\"\n",
       "  1784.68,1486.45 1784.68,123.472 \n",
       "  \"/>\n",
       "<polyline clip-path=\"url(#clip652)\" style=\"stroke:#000000; stroke-linecap:round; stroke-linejoin:round; stroke-width:2; stroke-opacity:0.1; fill:none\" points=\"\n",
       "  2291.89,1486.45 2291.89,123.472 \n",
       "  \"/>\n",
       "<polyline clip-path=\"url(#clip650)\" style=\"stroke:#000000; stroke-linecap:round; stroke-linejoin:round; stroke-width:4; stroke-opacity:1; fill:none\" points=\"\n",
       "  202.177,1486.45 2352.76,1486.45 \n",
       "  \"/>\n",
       "<polyline clip-path=\"url(#clip650)\" style=\"stroke:#000000; stroke-linecap:round; stroke-linejoin:round; stroke-width:4; stroke-opacity:1; fill:none\" points=\"\n",
       "  263.042,1486.45 263.042,1467.55 \n",
       "  \"/>\n",
       "<polyline clip-path=\"url(#clip650)\" style=\"stroke:#000000; stroke-linecap:round; stroke-linejoin:round; stroke-width:4; stroke-opacity:1; fill:none\" points=\"\n",
       "  770.254,1486.45 770.254,1467.55 \n",
       "  \"/>\n",
       "<polyline clip-path=\"url(#clip650)\" style=\"stroke:#000000; stroke-linecap:round; stroke-linejoin:round; stroke-width:4; stroke-opacity:1; fill:none\" points=\"\n",
       "  1277.47,1486.45 1277.47,1467.55 \n",
       "  \"/>\n",
       "<polyline clip-path=\"url(#clip650)\" style=\"stroke:#000000; stroke-linecap:round; stroke-linejoin:round; stroke-width:4; stroke-opacity:1; fill:none\" points=\"\n",
       "  1784.68,1486.45 1784.68,1467.55 \n",
       "  \"/>\n",
       "<polyline clip-path=\"url(#clip650)\" style=\"stroke:#000000; stroke-linecap:round; stroke-linejoin:round; stroke-width:4; stroke-opacity:1; fill:none\" points=\"\n",
       "  2291.89,1486.45 2291.89,1467.55 \n",
       "  \"/>\n",
       "<path clip-path=\"url(#clip650)\" d=\"M231.295 1522.92 L221.92 1535.54 L231.781 1548.85 L226.758 1548.85 L219.211 1538.66 L211.665 1548.85 L206.642 1548.85 L216.711 1535.28 L207.498 1522.92 L212.522 1522.92 L219.397 1532.16 L226.272 1522.92 L231.295 1522.92 Z\" fill=\"#000000\" fill-rule=\"evenodd\" fill-opacity=\"1\" /><path clip-path=\"url(#clip650)\" d=\"M248.401 1517.37 Q244.79 1517.37 242.961 1520.93 Q241.156 1524.47 241.156 1531.6 Q241.156 1538.71 242.961 1542.27 Q244.79 1545.82 248.401 1545.82 Q252.035 1545.82 253.841 1542.27 Q255.669 1538.71 255.669 1531.6 Q255.669 1524.47 253.841 1520.93 Q252.035 1517.37 248.401 1517.37 M248.401 1513.66 Q254.211 1513.66 257.267 1518.27 Q260.345 1522.85 260.345 1531.6 Q260.345 1540.33 257.267 1544.94 Q254.211 1549.52 248.401 1549.52 Q242.591 1549.52 239.512 1544.94 Q236.457 1540.33 236.457 1531.6 Q236.457 1522.85 239.512 1518.27 Q242.591 1513.66 248.401 1513.66 Z\" fill=\"#000000\" fill-rule=\"evenodd\" fill-opacity=\"1\" /><path clip-path=\"url(#clip650)\" d=\"M269.373 1544.91 L277.012 1544.91 L277.012 1518.55 L268.702 1520.21 L268.702 1515.95 L276.966 1514.29 L281.642 1514.29 L281.642 1544.91 L289.28 1544.91 L289.28 1548.85 L269.373 1548.85 L269.373 1544.91 Z\" fill=\"#000000\" fill-rule=\"evenodd\" fill-opacity=\"1\" /><path clip-path=\"url(#clip650)\" d=\"M299.535 1544.91 L307.174 1544.91 L307.174 1518.55 L298.864 1520.21 L298.864 1515.95 L307.128 1514.29 L311.803 1514.29 L311.803 1544.91 L319.442 1544.91 L319.442 1548.85 L299.535 1548.85 L299.535 1544.91 Z\" fill=\"#000000\" fill-rule=\"evenodd\" fill-opacity=\"1\" /><path clip-path=\"url(#clip650)\" d=\"M738.692 1522.92 L729.317 1535.54 L739.178 1548.85 L734.155 1548.85 L726.609 1538.66 L719.062 1548.85 L714.039 1548.85 L724.109 1535.28 L714.896 1522.92 L719.919 1522.92 L726.794 1532.16 L733.669 1522.92 L738.692 1522.92 Z\" fill=\"#000000\" fill-rule=\"evenodd\" fill-opacity=\"1\" /><path clip-path=\"url(#clip650)\" d=\"M755.798 1517.37 Q752.187 1517.37 750.358 1520.93 Q748.553 1524.47 748.553 1531.6 Q748.553 1538.71 750.358 1542.27 Q752.187 1545.82 755.798 1545.82 Q759.433 1545.82 761.238 1542.27 Q763.067 1538.71 763.067 1531.6 Q763.067 1524.47 761.238 1520.93 Q759.433 1517.37 755.798 1517.37 M755.798 1513.66 Q761.608 1513.66 764.664 1518.27 Q767.743 1522.85 767.743 1531.6 Q767.743 1540.33 764.664 1544.94 Q761.608 1549.52 755.798 1549.52 Q749.988 1549.52 746.909 1544.94 Q743.854 1540.33 743.854 1531.6 Q743.854 1522.85 746.909 1518.27 Q749.988 1513.66 755.798 1513.66 Z\" fill=\"#000000\" fill-rule=\"evenodd\" fill-opacity=\"1\" /><path clip-path=\"url(#clip650)\" d=\"M776.77 1544.91 L784.409 1544.91 L784.409 1518.55 L776.099 1520.21 L776.099 1515.95 L784.363 1514.29 L789.039 1514.29 L789.039 1544.91 L796.678 1544.91 L796.678 1548.85 L776.77 1548.85 L776.77 1544.91 Z\" fill=\"#000000\" fill-rule=\"evenodd\" fill-opacity=\"1\" /><path clip-path=\"url(#clip650)\" d=\"M810.15 1544.91 L826.469 1544.91 L826.469 1548.85 L804.525 1548.85 L804.525 1544.91 Q807.187 1542.16 811.77 1537.53 Q816.377 1532.88 817.557 1531.53 Q819.803 1529.01 820.682 1527.27 Q821.585 1525.51 821.585 1523.82 Q821.585 1521.07 819.641 1519.33 Q817.719 1517.6 814.617 1517.6 Q812.418 1517.6 809.965 1518.36 Q807.534 1519.13 804.756 1520.68 L804.756 1515.95 Q807.58 1514.82 810.034 1514.24 Q812.488 1513.66 814.525 1513.66 Q819.895 1513.66 823.09 1516.35 Q826.284 1519.03 826.284 1523.52 Q826.284 1525.65 825.474 1527.57 Q824.687 1529.47 822.58 1532.07 Q822.002 1532.74 818.9 1535.95 Q815.798 1539.15 810.15 1544.91 Z\" fill=\"#000000\" fill-rule=\"evenodd\" fill-opacity=\"1\" /><path clip-path=\"url(#clip650)\" d=\"M1245.72 1522.92 L1236.34 1535.54 L1246.2 1548.85 L1241.18 1548.85 L1233.64 1538.66 L1226.09 1548.85 L1221.07 1548.85 L1231.14 1535.28 L1221.92 1522.92 L1226.95 1522.92 L1233.82 1532.16 L1240.7 1522.92 L1245.72 1522.92 Z\" fill=\"#000000\" fill-rule=\"evenodd\" fill-opacity=\"1\" /><path clip-path=\"url(#clip650)\" d=\"M1262.83 1517.37 Q1259.21 1517.37 1257.39 1520.93 Q1255.58 1524.47 1255.58 1531.6 Q1255.58 1538.71 1257.39 1542.27 Q1259.21 1545.82 1262.83 1545.82 Q1266.46 1545.82 1268.26 1542.27 Q1270.09 1538.71 1270.09 1531.6 Q1270.09 1524.47 1268.26 1520.93 Q1266.46 1517.37 1262.83 1517.37 M1262.83 1513.66 Q1268.64 1513.66 1271.69 1518.27 Q1274.77 1522.85 1274.77 1531.6 Q1274.77 1540.33 1271.69 1544.94 Q1268.64 1549.52 1262.83 1549.52 Q1257.02 1549.52 1253.94 1544.94 Q1250.88 1540.33 1250.88 1531.6 Q1250.88 1522.85 1253.94 1518.27 Q1257.02 1513.66 1262.83 1513.66 Z\" fill=\"#000000\" fill-rule=\"evenodd\" fill-opacity=\"1\" /><path clip-path=\"url(#clip650)\" d=\"M1287.01 1544.91 L1303.33 1544.91 L1303.33 1548.85 L1281.39 1548.85 L1281.39 1544.91 Q1284.05 1542.16 1288.64 1537.53 Q1293.24 1532.88 1294.42 1531.53 Q1296.67 1529.01 1297.55 1527.27 Q1298.45 1525.51 1298.45 1523.82 Q1298.45 1521.07 1296.51 1519.33 Q1294.58 1517.6 1291.48 1517.6 Q1289.28 1517.6 1286.83 1518.36 Q1284.4 1519.13 1281.62 1520.68 L1281.62 1515.95 Q1284.45 1514.82 1286.9 1514.24 Q1289.35 1513.66 1291.39 1513.66 Q1296.76 1513.66 1299.95 1516.35 Q1303.15 1519.03 1303.15 1523.52 Q1303.15 1525.65 1302.34 1527.57 Q1301.55 1529.47 1299.45 1532.07 Q1298.87 1532.74 1295.76 1535.95 Q1292.66 1539.15 1287.01 1544.91 Z\" fill=\"#000000\" fill-rule=\"evenodd\" fill-opacity=\"1\" /><path clip-path=\"url(#clip650)\" d=\"M1313.96 1544.91 L1321.6 1544.91 L1321.6 1518.55 L1313.29 1520.21 L1313.29 1515.95 L1321.55 1514.29 L1326.23 1514.29 L1326.23 1544.91 L1333.87 1544.91 L1333.87 1548.85 L1313.96 1548.85 L1313.96 1544.91 Z\" fill=\"#000000\" fill-rule=\"evenodd\" fill-opacity=\"1\" /><path clip-path=\"url(#clip650)\" d=\"M1753.12 1522.92 L1743.74 1535.54 L1753.6 1548.85 L1748.58 1548.85 L1741.03 1538.66 L1733.49 1548.85 L1728.46 1548.85 L1738.53 1535.28 L1729.32 1522.92 L1734.34 1522.92 L1741.22 1532.16 L1748.09 1522.92 L1753.12 1522.92 Z\" fill=\"#000000\" fill-rule=\"evenodd\" fill-opacity=\"1\" /><path clip-path=\"url(#clip650)\" d=\"M1770.22 1517.37 Q1766.61 1517.37 1764.78 1520.93 Q1762.98 1524.47 1762.98 1531.6 Q1762.98 1538.71 1764.78 1542.27 Q1766.61 1545.82 1770.22 1545.82 Q1773.86 1545.82 1775.66 1542.27 Q1777.49 1538.71 1777.49 1531.6 Q1777.49 1524.47 1775.66 1520.93 Q1773.86 1517.37 1770.22 1517.37 M1770.22 1513.66 Q1776.03 1513.66 1779.09 1518.27 Q1782.17 1522.85 1782.17 1531.6 Q1782.17 1540.33 1779.09 1544.94 Q1776.03 1549.52 1770.22 1549.52 Q1764.41 1549.52 1761.33 1544.94 Q1758.28 1540.33 1758.28 1531.6 Q1758.28 1522.85 1761.33 1518.27 Q1764.41 1513.66 1770.22 1513.66 Z\" fill=\"#000000\" fill-rule=\"evenodd\" fill-opacity=\"1\" /><path clip-path=\"url(#clip650)\" d=\"M1794.41 1544.91 L1810.73 1544.91 L1810.73 1548.85 L1788.79 1548.85 L1788.79 1544.91 Q1791.45 1542.16 1796.03 1537.53 Q1800.64 1532.88 1801.82 1531.53 Q1804.06 1529.01 1804.94 1527.27 Q1805.85 1525.51 1805.85 1523.82 Q1805.85 1521.07 1803.9 1519.33 Q1801.98 1517.6 1798.88 1517.6 Q1796.68 1517.6 1794.23 1518.36 Q1791.8 1519.13 1789.02 1520.68 L1789.02 1515.95 Q1791.84 1514.82 1794.3 1514.24 Q1796.75 1513.66 1798.79 1513.66 Q1804.16 1513.66 1807.35 1516.35 Q1810.55 1519.03 1810.55 1523.52 Q1810.55 1525.65 1809.74 1527.57 Q1808.95 1529.47 1806.84 1532.07 Q1806.26 1532.74 1803.16 1535.95 Q1800.06 1539.15 1794.41 1544.91 Z\" fill=\"#000000\" fill-rule=\"evenodd\" fill-opacity=\"1\" /><path clip-path=\"url(#clip650)\" d=\"M1824.57 1544.91 L1840.89 1544.91 L1840.89 1548.85 L1818.95 1548.85 L1818.95 1544.91 Q1821.61 1542.16 1826.19 1537.53 Q1830.8 1532.88 1831.98 1531.53 Q1834.23 1529.01 1835.11 1527.27 Q1836.01 1525.51 1836.01 1523.82 Q1836.01 1521.07 1834.06 1519.33 Q1832.14 1517.6 1829.04 1517.6 Q1826.84 1517.6 1824.39 1518.36 Q1821.96 1519.13 1819.18 1520.68 L1819.18 1515.95 Q1822 1514.82 1824.46 1514.24 Q1826.91 1513.66 1828.95 1513.66 Q1834.32 1513.66 1837.51 1516.35 Q1840.71 1519.03 1840.71 1523.52 Q1840.71 1525.65 1839.9 1527.57 Q1839.11 1529.47 1837 1532.07 Q1836.43 1532.74 1833.32 1535.95 Q1830.22 1539.15 1824.57 1544.91 Z\" fill=\"#000000\" fill-rule=\"evenodd\" fill-opacity=\"1\" /><path clip-path=\"url(#clip650)\" d=\"M2259.85 1522.92 L2250.48 1535.54 L2260.34 1548.85 L2255.32 1548.85 L2247.77 1538.66 L2240.22 1548.85 L2235.2 1548.85 L2245.27 1535.28 L2236.06 1522.92 L2241.08 1522.92 L2247.96 1532.16 L2254.83 1522.92 L2259.85 1522.92 Z\" fill=\"#000000\" fill-rule=\"evenodd\" fill-opacity=\"1\" /><path clip-path=\"url(#clip650)\" d=\"M2276.96 1517.37 Q2273.35 1517.37 2271.52 1520.93 Q2269.71 1524.47 2269.71 1531.6 Q2269.71 1538.71 2271.52 1542.27 Q2273.35 1545.82 2276.96 1545.82 Q2280.59 1545.82 2282.4 1542.27 Q2284.23 1538.71 2284.23 1531.6 Q2284.23 1524.47 2282.4 1520.93 Q2280.59 1517.37 2276.96 1517.37 M2276.96 1513.66 Q2282.77 1513.66 2285.83 1518.27 Q2288.9 1522.85 2288.9 1531.6 Q2288.9 1540.33 2285.83 1544.94 Q2282.77 1549.52 2276.96 1549.52 Q2271.15 1549.52 2268.07 1544.94 Q2265.02 1540.33 2265.02 1531.6 Q2265.02 1522.85 2268.07 1518.27 Q2271.15 1513.66 2276.96 1513.66 Z\" fill=\"#000000\" fill-rule=\"evenodd\" fill-opacity=\"1\" /><path clip-path=\"url(#clip650)\" d=\"M2301.15 1544.91 L2317.47 1544.91 L2317.47 1548.85 L2295.52 1548.85 L2295.52 1544.91 Q2298.19 1542.16 2302.77 1537.53 Q2307.38 1532.88 2308.56 1531.53 Q2310.8 1529.01 2311.68 1527.27 Q2312.58 1525.51 2312.58 1523.82 Q2312.58 1521.07 2310.64 1519.33 Q2308.72 1517.6 2305.62 1517.6 Q2303.42 1517.6 2300.96 1518.36 Q2298.53 1519.13 2295.76 1520.68 L2295.76 1515.95 Q2298.58 1514.82 2301.03 1514.24 Q2303.49 1513.66 2305.52 1513.66 Q2310.89 1513.66 2314.09 1516.35 Q2317.28 1519.03 2317.28 1523.52 Q2317.28 1525.65 2316.47 1527.57 Q2315.69 1529.47 2313.58 1532.07 Q2313 1532.74 2309.9 1535.95 Q2306.8 1539.15 2301.15 1544.91 Z\" fill=\"#000000\" fill-rule=\"evenodd\" fill-opacity=\"1\" /><path clip-path=\"url(#clip650)\" d=\"M2341.45 1530.21 Q2344.81 1530.93 2346.68 1533.2 Q2348.58 1535.47 2348.58 1538.8 Q2348.58 1543.92 2345.06 1546.72 Q2341.54 1549.52 2335.06 1549.52 Q2332.89 1549.52 2330.57 1549.08 Q2328.28 1548.66 2325.83 1547.81 L2325.83 1543.29 Q2327.77 1544.43 2330.08 1545.01 Q2332.4 1545.58 2334.92 1545.58 Q2339.32 1545.58 2341.61 1543.85 Q2343.93 1542.11 2343.93 1538.8 Q2343.93 1535.75 2341.77 1534.03 Q2339.64 1532.3 2335.83 1532.3 L2331.8 1532.3 L2331.8 1528.45 L2336.01 1528.45 Q2339.46 1528.45 2341.29 1527.09 Q2343.12 1525.7 2343.12 1523.11 Q2343.12 1520.45 2341.22 1519.03 Q2339.34 1517.6 2335.83 1517.6 Q2333.9 1517.6 2331.71 1518.01 Q2329.51 1518.43 2326.87 1519.31 L2326.87 1515.14 Q2329.53 1514.4 2331.84 1514.03 Q2334.18 1513.66 2336.24 1513.66 Q2341.57 1513.66 2344.67 1516.09 Q2347.77 1518.5 2347.77 1522.62 Q2347.77 1525.49 2346.13 1527.48 Q2344.48 1529.45 2341.45 1530.21 Z\" fill=\"#000000\" fill-rule=\"evenodd\" fill-opacity=\"1\" /><polyline clip-path=\"url(#clip652)\" style=\"stroke:#000000; stroke-linecap:round; stroke-linejoin:round; stroke-width:2; stroke-opacity:0.1; fill:none\" points=\"\n",
       "  202.177,1448.2 2352.76,1448.2 \n",
       "  \"/>\n",
       "<polyline clip-path=\"url(#clip652)\" style=\"stroke:#000000; stroke-linecap:round; stroke-linejoin:round; stroke-width:2; stroke-opacity:0.1; fill:none\" points=\"\n",
       "  202.177,1125.69 2352.76,1125.69 \n",
       "  \"/>\n",
       "<polyline clip-path=\"url(#clip652)\" style=\"stroke:#000000; stroke-linecap:round; stroke-linejoin:round; stroke-width:2; stroke-opacity:0.1; fill:none\" points=\"\n",
       "  202.177,803.186 2352.76,803.186 \n",
       "  \"/>\n",
       "<polyline clip-path=\"url(#clip652)\" style=\"stroke:#000000; stroke-linecap:round; stroke-linejoin:round; stroke-width:2; stroke-opacity:0.1; fill:none\" points=\"\n",
       "  202.177,480.682 2352.76,480.682 \n",
       "  \"/>\n",
       "<polyline clip-path=\"url(#clip652)\" style=\"stroke:#000000; stroke-linecap:round; stroke-linejoin:round; stroke-width:2; stroke-opacity:0.1; fill:none\" points=\"\n",
       "  202.177,158.177 2352.76,158.177 \n",
       "  \"/>\n",
       "<polyline clip-path=\"url(#clip650)\" style=\"stroke:#000000; stroke-linecap:round; stroke-linejoin:round; stroke-width:4; stroke-opacity:1; fill:none\" points=\"\n",
       "  202.177,1486.45 202.177,123.472 \n",
       "  \"/>\n",
       "<polyline clip-path=\"url(#clip650)\" style=\"stroke:#000000; stroke-linecap:round; stroke-linejoin:round; stroke-width:4; stroke-opacity:1; fill:none\" points=\"\n",
       "  202.177,1448.2 221.074,1448.2 \n",
       "  \"/>\n",
       "<polyline clip-path=\"url(#clip650)\" style=\"stroke:#000000; stroke-linecap:round; stroke-linejoin:round; stroke-width:4; stroke-opacity:1; fill:none\" points=\"\n",
       "  202.177,1125.69 221.074,1125.69 \n",
       "  \"/>\n",
       "<polyline clip-path=\"url(#clip650)\" style=\"stroke:#000000; stroke-linecap:round; stroke-linejoin:round; stroke-width:4; stroke-opacity:1; fill:none\" points=\"\n",
       "  202.177,803.186 221.074,803.186 \n",
       "  \"/>\n",
       "<polyline clip-path=\"url(#clip650)\" style=\"stroke:#000000; stroke-linecap:round; stroke-linejoin:round; stroke-width:4; stroke-opacity:1; fill:none\" points=\"\n",
       "  202.177,480.682 221.074,480.682 \n",
       "  \"/>\n",
       "<polyline clip-path=\"url(#clip650)\" style=\"stroke:#000000; stroke-linecap:round; stroke-linejoin:round; stroke-width:4; stroke-opacity:1; fill:none\" points=\"\n",
       "  202.177,158.177 221.074,158.177 \n",
       "  \"/>\n",
       "<path clip-path=\"url(#clip650)\" d=\"M154.232 1433.99 Q150.621 1433.99 148.793 1437.56 Q146.987 1441.1 146.987 1448.23 Q146.987 1455.34 148.793 1458.9 Q150.621 1462.44 154.232 1462.44 Q157.867 1462.44 159.672 1458.9 Q161.501 1455.34 161.501 1448.23 Q161.501 1441.1 159.672 1437.56 Q157.867 1433.99 154.232 1433.99 M154.232 1430.29 Q160.042 1430.29 163.098 1434.9 Q166.177 1439.48 166.177 1448.23 Q166.177 1456.96 163.098 1461.56 Q160.042 1466.15 154.232 1466.15 Q148.422 1466.15 145.343 1461.56 Q142.288 1456.96 142.288 1448.23 Q142.288 1439.48 145.343 1434.9 Q148.422 1430.29 154.232 1430.29 Z\" fill=\"#000000\" fill-rule=\"evenodd\" fill-opacity=\"1\" /><path clip-path=\"url(#clip650)\" d=\"M54.5569 1139.04 L62.1958 1139.04 L62.1958 1112.67 L53.8856 1114.34 L53.8856 1110.08 L62.1495 1108.41 L66.8254 1108.41 L66.8254 1139.04 L74.4642 1139.04 L74.4642 1142.97 L54.5569 1142.97 L54.5569 1139.04 Z\" fill=\"#000000\" fill-rule=\"evenodd\" fill-opacity=\"1\" /><path clip-path=\"url(#clip650)\" d=\"M93.9086 1111.49 Q90.2975 1111.49 88.4688 1115.05 Q86.6632 1118.6 86.6632 1125.73 Q86.6632 1132.83 88.4688 1136.4 Q90.2975 1139.94 93.9086 1139.94 Q97.5428 1139.94 99.3483 1136.4 Q101.177 1132.83 101.177 1125.73 Q101.177 1118.6 99.3483 1115.05 Q97.5428 1111.49 93.9086 1111.49 M93.9086 1107.79 Q99.7187 1107.79 102.774 1112.39 Q105.853 1116.98 105.853 1125.73 Q105.853 1134.45 102.774 1139.06 Q99.7187 1143.64 93.9086 1143.64 Q88.0984 1143.64 85.0197 1139.06 Q81.9642 1134.45 81.9642 1125.73 Q81.9642 1116.98 85.0197 1112.39 Q88.0984 1107.79 93.9086 1107.79 Z\" fill=\"#000000\" fill-rule=\"evenodd\" fill-opacity=\"1\" /><path clip-path=\"url(#clip650)\" d=\"M124.07 1111.49 Q120.459 1111.49 118.631 1115.05 Q116.825 1118.6 116.825 1125.73 Q116.825 1132.83 118.631 1136.4 Q120.459 1139.94 124.07 1139.94 Q127.705 1139.94 129.51 1136.4 Q131.339 1132.83 131.339 1125.73 Q131.339 1118.6 129.51 1115.05 Q127.705 1111.49 124.07 1111.49 M124.07 1107.79 Q129.881 1107.79 132.936 1112.39 Q136.015 1116.98 136.015 1125.73 Q136.015 1134.45 132.936 1139.06 Q129.881 1143.64 124.07 1143.64 Q118.26 1143.64 115.182 1139.06 Q112.126 1134.45 112.126 1125.73 Q112.126 1116.98 115.182 1112.39 Q118.26 1107.79 124.07 1107.79 Z\" fill=\"#000000\" fill-rule=\"evenodd\" fill-opacity=\"1\" /><path clip-path=\"url(#clip650)\" d=\"M154.232 1111.49 Q150.621 1111.49 148.793 1115.05 Q146.987 1118.6 146.987 1125.73 Q146.987 1132.83 148.793 1136.4 Q150.621 1139.94 154.232 1139.94 Q157.867 1139.94 159.672 1136.4 Q161.501 1132.83 161.501 1125.73 Q161.501 1118.6 159.672 1115.05 Q157.867 1111.49 154.232 1111.49 M154.232 1107.79 Q160.042 1107.79 163.098 1112.39 Q166.177 1116.98 166.177 1125.73 Q166.177 1134.45 163.098 1139.06 Q160.042 1143.64 154.232 1143.64 Q148.422 1143.64 145.343 1139.06 Q142.288 1134.45 142.288 1125.73 Q142.288 1116.98 145.343 1112.39 Q148.422 1107.79 154.232 1107.79 Z\" fill=\"#000000\" fill-rule=\"evenodd\" fill-opacity=\"1\" /><path clip-path=\"url(#clip650)\" d=\"M57.7745 816.531 L74.0939 816.531 L74.0939 820.466 L52.1495 820.466 L52.1495 816.531 Q54.8115 813.776 59.3949 809.147 Q64.0013 804.494 65.1819 803.152 Q67.4272 800.628 68.3068 798.892 Q69.2096 797.133 69.2096 795.443 Q69.2096 792.689 67.2652 790.952 Q65.3439 789.216 62.2421 789.216 Q60.043 789.216 57.5893 789.98 Q55.1588 790.744 52.381 792.295 L52.381 787.573 Q55.2051 786.439 57.6588 785.86 Q60.1124 785.281 62.1495 785.281 Q67.5198 785.281 70.7142 787.966 Q73.9087 790.652 73.9087 795.142 Q73.9087 797.272 73.0985 799.193 Q72.3115 801.091 70.205 803.684 Q69.6263 804.355 66.5245 807.573 Q63.4226 810.767 57.7745 816.531 Z\" fill=\"#000000\" fill-rule=\"evenodd\" fill-opacity=\"1\" /><path clip-path=\"url(#clip650)\" d=\"M93.9086 788.985 Q90.2975 788.985 88.4688 792.55 Q86.6632 796.091 86.6632 803.221 Q86.6632 810.327 88.4688 813.892 Q90.2975 817.434 93.9086 817.434 Q97.5428 817.434 99.3483 813.892 Q101.177 810.327 101.177 803.221 Q101.177 796.091 99.3483 792.55 Q97.5428 788.985 93.9086 788.985 M93.9086 785.281 Q99.7187 785.281 102.774 789.888 Q105.853 794.471 105.853 803.221 Q105.853 811.948 102.774 816.554 Q99.7187 821.138 93.9086 821.138 Q88.0984 821.138 85.0197 816.554 Q81.9642 811.948 81.9642 803.221 Q81.9642 794.471 85.0197 789.888 Q88.0984 785.281 93.9086 785.281 Z\" fill=\"#000000\" fill-rule=\"evenodd\" fill-opacity=\"1\" /><path clip-path=\"url(#clip650)\" d=\"M124.07 788.985 Q120.459 788.985 118.631 792.55 Q116.825 796.091 116.825 803.221 Q116.825 810.327 118.631 813.892 Q120.459 817.434 124.07 817.434 Q127.705 817.434 129.51 813.892 Q131.339 810.327 131.339 803.221 Q131.339 796.091 129.51 792.55 Q127.705 788.985 124.07 788.985 M124.07 785.281 Q129.881 785.281 132.936 789.888 Q136.015 794.471 136.015 803.221 Q136.015 811.948 132.936 816.554 Q129.881 821.138 124.07 821.138 Q118.26 821.138 115.182 816.554 Q112.126 811.948 112.126 803.221 Q112.126 794.471 115.182 789.888 Q118.26 785.281 124.07 785.281 Z\" fill=\"#000000\" fill-rule=\"evenodd\" fill-opacity=\"1\" /><path clip-path=\"url(#clip650)\" d=\"M154.232 788.985 Q150.621 788.985 148.793 792.55 Q146.987 796.091 146.987 803.221 Q146.987 810.327 148.793 813.892 Q150.621 817.434 154.232 817.434 Q157.867 817.434 159.672 813.892 Q161.501 810.327 161.501 803.221 Q161.501 796.091 159.672 792.55 Q157.867 788.985 154.232 788.985 M154.232 785.281 Q160.042 785.281 163.098 789.888 Q166.177 794.471 166.177 803.221 Q166.177 811.948 163.098 816.554 Q160.042 821.138 154.232 821.138 Q148.422 821.138 145.343 816.554 Q142.288 811.948 142.288 803.221 Q142.288 794.471 145.343 789.888 Q148.422 785.281 154.232 785.281 Z\" fill=\"#000000\" fill-rule=\"evenodd\" fill-opacity=\"1\" /><path clip-path=\"url(#clip650)\" d=\"M67.9133 479.327 Q71.2698 480.045 73.1448 482.313 Q75.0429 484.582 75.0429 487.915 Q75.0429 493.031 71.5244 495.832 Q68.0059 498.633 61.5245 498.633 Q59.3486 498.633 57.0338 498.193 Q54.7421 497.776 52.2884 496.92 L52.2884 492.406 Q54.2328 493.54 56.5477 494.119 Q58.8625 494.698 61.3856 494.698 Q65.7837 494.698 68.0754 492.962 Q70.3902 491.225 70.3902 487.915 Q70.3902 484.86 68.2374 483.147 Q66.1078 481.411 62.2884 481.411 L58.2606 481.411 L58.2606 477.568 L62.4735 477.568 Q65.9226 477.568 67.7513 476.202 Q69.58 474.814 69.58 472.221 Q69.58 469.559 67.6819 468.147 Q65.8069 466.712 62.2884 466.712 Q60.3671 466.712 58.168 467.128 Q55.969 467.545 53.3301 468.425 L53.3301 464.258 Q55.9921 463.517 58.3069 463.147 Q60.6449 462.777 62.705 462.777 Q68.0291 462.777 71.1309 465.207 Q74.2327 467.614 74.2327 471.735 Q74.2327 474.605 72.5892 476.596 Q70.9457 478.563 67.9133 479.327 Z\" fill=\"#000000\" fill-rule=\"evenodd\" fill-opacity=\"1\" /><path clip-path=\"url(#clip650)\" d=\"M93.9086 466.48 Q90.2975 466.48 88.4688 470.045 Q86.6632 473.587 86.6632 480.716 Q86.6632 487.823 88.4688 491.388 Q90.2975 494.929 93.9086 494.929 Q97.5428 494.929 99.3483 491.388 Q101.177 487.823 101.177 480.716 Q101.177 473.587 99.3483 470.045 Q97.5428 466.48 93.9086 466.48 M93.9086 462.777 Q99.7187 462.777 102.774 467.383 Q105.853 471.966 105.853 480.716 Q105.853 489.443 102.774 494.05 Q99.7187 498.633 93.9086 498.633 Q88.0984 498.633 85.0197 494.05 Q81.9642 489.443 81.9642 480.716 Q81.9642 471.966 85.0197 467.383 Q88.0984 462.777 93.9086 462.777 Z\" fill=\"#000000\" fill-rule=\"evenodd\" fill-opacity=\"1\" /><path clip-path=\"url(#clip650)\" d=\"M124.07 466.48 Q120.459 466.48 118.631 470.045 Q116.825 473.587 116.825 480.716 Q116.825 487.823 118.631 491.388 Q120.459 494.929 124.07 494.929 Q127.705 494.929 129.51 491.388 Q131.339 487.823 131.339 480.716 Q131.339 473.587 129.51 470.045 Q127.705 466.48 124.07 466.48 M124.07 462.777 Q129.881 462.777 132.936 467.383 Q136.015 471.966 136.015 480.716 Q136.015 489.443 132.936 494.05 Q129.881 498.633 124.07 498.633 Q118.26 498.633 115.182 494.05 Q112.126 489.443 112.126 480.716 Q112.126 471.966 115.182 467.383 Q118.26 462.777 124.07 462.777 Z\" fill=\"#000000\" fill-rule=\"evenodd\" fill-opacity=\"1\" /><path clip-path=\"url(#clip650)\" d=\"M154.232 466.48 Q150.621 466.48 148.793 470.045 Q146.987 473.587 146.987 480.716 Q146.987 487.823 148.793 491.388 Q150.621 494.929 154.232 494.929 Q157.867 494.929 159.672 491.388 Q161.501 487.823 161.501 480.716 Q161.501 473.587 159.672 470.045 Q157.867 466.48 154.232 466.48 M154.232 462.777 Q160.042 462.777 163.098 467.383 Q166.177 471.966 166.177 480.716 Q166.177 489.443 163.098 494.05 Q160.042 498.633 154.232 498.633 Q148.422 498.633 145.343 494.05 Q142.288 489.443 142.288 480.716 Q142.288 471.966 145.343 467.383 Q148.422 462.777 154.232 462.777 Z\" fill=\"#000000\" fill-rule=\"evenodd\" fill-opacity=\"1\" /><path clip-path=\"url(#clip650)\" d=\"M66.5939 144.971 L54.7884 163.42 L66.5939 163.42 L66.5939 144.971 M65.367 140.897 L71.2466 140.897 L71.2466 163.42 L76.1772 163.42 L76.1772 167.309 L71.2466 167.309 L71.2466 175.457 L66.5939 175.457 L66.5939 167.309 L50.9921 167.309 L50.9921 162.795 L65.367 140.897 Z\" fill=\"#000000\" fill-rule=\"evenodd\" fill-opacity=\"1\" /><path clip-path=\"url(#clip650)\" d=\"M93.9086 143.976 Q90.2975 143.976 88.4688 147.54 Q86.6632 151.082 86.6632 158.212 Q86.6632 165.318 88.4688 168.883 Q90.2975 172.424 93.9086 172.424 Q97.5428 172.424 99.3483 168.883 Q101.177 165.318 101.177 158.212 Q101.177 151.082 99.3483 147.54 Q97.5428 143.976 93.9086 143.976 M93.9086 140.272 Q99.7187 140.272 102.774 144.878 Q105.853 149.462 105.853 158.212 Q105.853 166.938 102.774 171.545 Q99.7187 176.128 93.9086 176.128 Q88.0984 176.128 85.0197 171.545 Q81.9642 166.938 81.9642 158.212 Q81.9642 149.462 85.0197 144.878 Q88.0984 140.272 93.9086 140.272 Z\" fill=\"#000000\" fill-rule=\"evenodd\" fill-opacity=\"1\" /><path clip-path=\"url(#clip650)\" d=\"M124.07 143.976 Q120.459 143.976 118.631 147.54 Q116.825 151.082 116.825 158.212 Q116.825 165.318 118.631 168.883 Q120.459 172.424 124.07 172.424 Q127.705 172.424 129.51 168.883 Q131.339 165.318 131.339 158.212 Q131.339 151.082 129.51 147.54 Q127.705 143.976 124.07 143.976 M124.07 140.272 Q129.881 140.272 132.936 144.878 Q136.015 149.462 136.015 158.212 Q136.015 166.938 132.936 171.545 Q129.881 176.128 124.07 176.128 Q118.26 176.128 115.182 171.545 Q112.126 166.938 112.126 158.212 Q112.126 149.462 115.182 144.878 Q118.26 140.272 124.07 140.272 Z\" fill=\"#000000\" fill-rule=\"evenodd\" fill-opacity=\"1\" /><path clip-path=\"url(#clip650)\" d=\"M154.232 143.976 Q150.621 143.976 148.793 147.54 Q146.987 151.082 146.987 158.212 Q146.987 165.318 148.793 168.883 Q150.621 172.424 154.232 172.424 Q157.867 172.424 159.672 168.883 Q161.501 165.318 161.501 158.212 Q161.501 151.082 159.672 147.54 Q157.867 143.976 154.232 143.976 M154.232 140.272 Q160.042 140.272 163.098 144.878 Q166.177 149.462 166.177 158.212 Q166.177 166.938 163.098 171.545 Q160.042 176.128 154.232 176.128 Q148.422 176.128 145.343 171.545 Q142.288 166.938 142.288 158.212 Q142.288 149.462 145.343 144.878 Q148.422 140.272 154.232 140.272 Z\" fill=\"#000000\" fill-rule=\"evenodd\" fill-opacity=\"1\" /><path clip-path=\"url(#clip650)\" d=\"M794.639 18.8205 L794.639 65.8515 L804.523 65.8515 Q817.041 65.8515 822.833 60.1802 Q828.667 54.509 828.667 42.2752 Q828.667 30.1225 822.833 24.4918 Q817.041 18.8205 804.523 18.8205 L794.639 18.8205 M786.456 12.096 L803.267 12.096 Q820.848 12.096 829.072 19.4281 Q837.295 26.7198 837.295 42.2752 Q837.295 57.9117 829.031 65.2439 Q820.767 72.576 803.267 72.576 L786.456 72.576 L786.456 12.096 Z\" fill=\"#000000\" fill-rule=\"evenodd\" fill-opacity=\"1\" /><path clip-path=\"url(#clip650)\" d=\"M888.823 48.0275 L888.823 51.6733 L854.552 51.6733 Q855.038 59.3701 859.17 63.421 Q863.342 67.4314 870.756 67.4314 Q875.049 67.4314 879.06 66.3781 Q883.111 65.3249 887.081 63.2184 L887.081 70.267 Q883.07 71.9684 878.857 72.8596 Q874.644 73.7508 870.31 73.7508 Q859.453 73.7508 853.094 67.4314 Q846.774 61.1119 846.774 50.3365 Q846.774 39.1965 852.77 32.6746 Q858.805 26.1121 869.014 26.1121 Q878.169 26.1121 883.475 32.0264 Q888.823 37.9003 888.823 48.0275 M881.369 45.84 Q881.288 39.7232 877.926 36.0774 Q874.604 32.4315 869.095 32.4315 Q862.856 32.4315 859.089 35.9558 Q855.362 39.4801 854.795 45.8805 L881.369 45.84 M874.199 6.22219 L882.26 6.22219 L869.054 21.4536 L862.856 21.4536 L874.199 6.22219 Z\" fill=\"#000000\" fill-rule=\"evenodd\" fill-opacity=\"1\" /><path clip-path=\"url(#clip650)\" d=\"M933.707 28.9478 L933.707 35.9153 Q930.547 34.1734 927.347 33.3227 Q924.187 32.4315 920.946 32.4315 Q913.695 32.4315 909.685 37.0496 Q905.674 41.6271 905.674 49.9314 Q905.674 58.2358 909.685 62.8538 Q913.695 67.4314 920.946 67.4314 Q924.187 67.4314 927.347 66.5807 Q930.547 65.6895 933.707 63.9476 L933.707 70.8341 Q930.587 72.2924 927.225 73.0216 Q923.903 73.7508 920.136 73.7508 Q909.887 73.7508 903.851 67.3098 Q897.816 60.8689 897.816 49.9314 Q897.816 38.832 903.892 32.472 Q910.009 26.1121 920.622 26.1121 Q924.065 26.1121 927.347 26.8413 Q930.628 27.5299 933.707 28.9478 Z\" fill=\"#000000\" fill-rule=\"evenodd\" fill-opacity=\"1\" /><path clip-path=\"url(#clip650)\" d=\"M972.96 34.1734 Q971.704 33.4443 970.205 33.1202 Q968.747 32.7556 966.964 32.7556 Q960.645 32.7556 957.242 36.8875 Q953.88 40.9789 953.88 48.6757 L953.88 72.576 L946.386 72.576 L946.386 27.2059 L953.88 27.2059 L953.88 34.2544 Q956.23 30.1225 959.997 28.1376 Q963.764 26.1121 969.152 26.1121 Q969.922 26.1121 970.853 26.2337 Q971.785 26.3147 972.919 26.5172 L972.96 34.1734 Z\" fill=\"#000000\" fill-rule=\"evenodd\" fill-opacity=\"1\" /><path clip-path=\"url(#clip650)\" d=\"M996.536 32.4315 Q990.541 32.4315 987.057 37.1306 Q983.573 41.7891 983.573 49.9314 Q983.573 58.0738 987.016 62.7728 Q990.5 67.4314 996.536 67.4314 Q1002.49 67.4314 1005.97 62.7323 Q1009.46 58.0333 1009.46 49.9314 Q1009.46 41.8701 1005.97 37.1711 Q1002.49 32.4315 996.536 32.4315 M996.536 26.1121 Q1006.26 26.1121 1011.81 32.4315 Q1017.36 38.7509 1017.36 49.9314 Q1017.36 61.0714 1011.81 67.4314 Q1006.26 73.7508 996.536 73.7508 Q986.773 73.7508 981.224 67.4314 Q975.714 61.0714 975.714 49.9314 Q975.714 38.7509 981.224 32.4315 Q986.773 26.1121 996.536 26.1121 Z\" fill=\"#000000\" fill-rule=\"evenodd\" fill-opacity=\"1\" /><path clip-path=\"url(#clip650)\" d=\"M1029.71 27.2059 L1037.17 27.2059 L1037.17 72.576 L1029.71 72.576 L1029.71 27.2059 M1029.71 9.54393 L1037.17 9.54393 L1037.17 18.9825 L1029.71 18.9825 L1029.71 9.54393 Z\" fill=\"#000000\" fill-rule=\"evenodd\" fill-opacity=\"1\" /><path clip-path=\"url(#clip650)\" d=\"M1081.69 28.5427 L1081.69 35.5912 Q1078.53 33.9709 1075.12 33.1607 Q1071.72 32.3505 1068.08 32.3505 Q1062.53 32.3505 1059.73 34.0519 Q1056.98 35.7533 1056.98 39.156 Q1056.98 41.7486 1058.96 43.2475 Q1060.95 44.7058 1066.94 46.0426 L1069.49 46.6097 Q1077.43 48.3111 1080.75 51.4303 Q1084.12 54.509 1084.12 60.0587 Q1084.12 66.3781 1079.09 70.0644 Q1074.11 73.7508 1065.36 73.7508 Q1061.72 73.7508 1057.75 73.0216 Q1053.82 72.3329 1049.44 70.9151 L1049.44 63.2184 Q1053.57 65.3654 1057.58 66.4591 Q1061.59 67.5124 1065.52 67.5124 Q1070.79 67.5124 1073.62 65.73 Q1076.46 63.9071 1076.46 60.6258 Q1076.46 57.5877 1074.39 55.9673 Q1072.37 54.3469 1065.44 52.8481 L1062.85 52.2405 Q1055.92 50.7821 1052.84 47.7845 Q1049.76 44.7463 1049.76 39.4801 Q1049.76 33.0797 1054.3 29.5959 Q1058.84 26.1121 1067.18 26.1121 Q1071.32 26.1121 1074.96 26.7198 Q1078.61 27.3274 1081.69 28.5427 Z\" fill=\"#000000\" fill-rule=\"evenodd\" fill-opacity=\"1\" /><path clip-path=\"url(#clip650)\" d=\"M1124.91 28.5427 L1124.91 35.5912 Q1121.75 33.9709 1118.35 33.1607 Q1114.94 32.3505 1111.3 32.3505 Q1105.75 32.3505 1102.95 34.0519 Q1100.2 35.7533 1100.2 39.156 Q1100.2 41.7486 1102.18 43.2475 Q1104.17 44.7058 1110.16 46.0426 L1112.72 46.6097 Q1120.66 48.3111 1123.98 51.4303 Q1127.34 54.509 1127.34 60.0587 Q1127.34 66.3781 1122.32 70.0644 Q1117.33 73.7508 1108.58 73.7508 Q1104.94 73.7508 1100.97 73.0216 Q1097.04 72.3329 1092.66 70.9151 L1092.66 63.2184 Q1096.8 65.3654 1100.81 66.4591 Q1104.82 67.5124 1108.75 67.5124 Q1114.01 67.5124 1116.85 65.73 Q1119.68 63.9071 1119.68 60.6258 Q1119.68 57.5877 1117.62 55.9673 Q1115.59 54.3469 1108.67 52.8481 L1106.07 52.2405 Q1099.15 50.7821 1096.07 47.7845 Q1092.99 44.7463 1092.99 39.4801 Q1092.99 33.0797 1097.53 29.5959 Q1102.06 26.1121 1110.41 26.1121 Q1114.54 26.1121 1118.18 26.7198 Q1121.83 27.3274 1124.91 28.5427 Z\" fill=\"#000000\" fill-rule=\"evenodd\" fill-opacity=\"1\" /><path clip-path=\"url(#clip650)\" d=\"M1159.83 49.7694 Q1150.79 49.7694 1147.31 51.8354 Q1143.83 53.9013 1143.83 58.8839 Q1143.83 62.8538 1146.42 65.2034 Q1149.05 67.5124 1153.55 67.5124 Q1159.75 67.5124 1163.47 63.1374 Q1167.24 58.7219 1167.24 51.4303 L1167.24 49.7694 L1159.83 49.7694 M1174.69 46.6907 L1174.69 72.576 L1167.24 72.576 L1167.24 65.6895 Q1164.69 69.8214 1160.88 71.8063 Q1157.07 73.7508 1151.56 73.7508 Q1144.6 73.7508 1140.46 69.8619 Q1136.37 65.9325 1136.37 59.3701 Q1136.37 51.7138 1141.48 47.825 Q1146.62 43.9361 1156.79 43.9361 L1167.24 43.9361 L1167.24 43.2069 Q1167.24 38.0623 1163.84 35.2672 Q1160.48 32.4315 1154.36 32.4315 Q1150.47 32.4315 1146.78 33.3632 Q1143.1 34.295 1139.7 36.1584 L1139.7 29.2718 Q1143.79 27.692 1147.63 26.9223 Q1151.48 26.1121 1155.13 26.1121 Q1164.97 26.1121 1169.83 31.2163 Q1174.69 36.3204 1174.69 46.6907 Z\" fill=\"#000000\" fill-rule=\"evenodd\" fill-opacity=\"1\" /><path clip-path=\"url(#clip650)\" d=\"M1227.76 45.1919 L1227.76 72.576 L1220.31 72.576 L1220.31 45.4349 Q1220.31 38.994 1217.8 35.7938 Q1215.28 32.5936 1210.26 32.5936 Q1204.23 32.5936 1200.74 36.4419 Q1197.26 40.2903 1197.26 46.9338 L1197.26 72.576 L1189.76 72.576 L1189.76 27.2059 L1197.26 27.2059 L1197.26 34.2544 Q1199.93 30.163 1203.54 28.1376 Q1207.18 26.1121 1211.92 26.1121 Q1219.74 26.1121 1223.75 30.9732 Q1227.76 35.7938 1227.76 45.1919 Z\" fill=\"#000000\" fill-rule=\"evenodd\" fill-opacity=\"1\" /><path clip-path=\"url(#clip650)\" d=\"M1275.28 28.9478 L1275.28 35.9153 Q1272.12 34.1734 1268.92 33.3227 Q1265.76 32.4315 1262.52 32.4315 Q1255.27 32.4315 1251.26 37.0496 Q1247.25 41.6271 1247.25 49.9314 Q1247.25 58.2358 1251.26 62.8538 Q1255.27 67.4314 1262.52 67.4314 Q1265.76 67.4314 1268.92 66.5807 Q1272.12 65.6895 1275.28 63.9476 L1275.28 70.8341 Q1272.16 72.2924 1268.8 73.0216 Q1265.48 73.7508 1261.71 73.7508 Q1251.46 73.7508 1245.42 67.3098 Q1239.39 60.8689 1239.39 49.9314 Q1239.39 38.832 1245.46 32.472 Q1251.58 26.1121 1262.19 26.1121 Q1265.64 26.1121 1268.92 26.8413 Q1272.2 27.5299 1275.28 28.9478 Z\" fill=\"#000000\" fill-rule=\"evenodd\" fill-opacity=\"1\" /><path clip-path=\"url(#clip650)\" d=\"M1327.05 48.0275 L1327.05 51.6733 L1292.78 51.6733 Q1293.26 59.3701 1297.4 63.421 Q1301.57 67.4314 1308.98 67.4314 Q1313.28 67.4314 1317.29 66.3781 Q1321.34 65.3249 1325.31 63.2184 L1325.31 70.267 Q1321.3 71.9684 1317.08 72.8596 Q1312.87 73.7508 1308.54 73.7508 Q1297.68 73.7508 1291.32 67.4314 Q1285 61.1119 1285 50.3365 Q1285 39.1965 1291 32.6746 Q1297.03 26.1121 1307.24 26.1121 Q1316.4 26.1121 1321.7 32.0264 Q1327.05 37.9003 1327.05 48.0275 M1319.6 45.84 Q1319.51 39.7232 1316.15 36.0774 Q1312.83 32.4315 1307.32 32.4315 Q1301.08 32.4315 1297.32 35.9558 Q1293.59 39.4801 1293.02 45.8805 L1319.6 45.84 Z\" fill=\"#000000\" fill-rule=\"evenodd\" fill-opacity=\"1\" /><path clip-path=\"url(#clip650)\" d=\"M1398.3 28.9478 L1398.3 35.9153 Q1395.15 34.1734 1391.94 33.3227 Q1388.79 32.4315 1385.54 32.4315 Q1378.29 32.4315 1374.28 37.0496 Q1370.27 41.6271 1370.27 49.9314 Q1370.27 58.2358 1374.28 62.8538 Q1378.29 67.4314 1385.54 67.4314 Q1388.79 67.4314 1391.94 66.5807 Q1395.15 65.6895 1398.3 63.9476 L1398.3 70.8341 Q1395.19 72.2924 1391.82 73.0216 Q1388.5 73.7508 1384.73 73.7508 Q1374.49 73.7508 1368.45 67.3098 Q1362.41 60.8689 1362.41 49.9314 Q1362.41 38.832 1368.49 32.472 Q1374.61 26.1121 1385.22 26.1121 Q1388.66 26.1121 1391.94 26.8413 Q1395.23 27.5299 1398.3 28.9478 Z\" fill=\"#000000\" fill-rule=\"evenodd\" fill-opacity=\"1\" /><path clip-path=\"url(#clip650)\" d=\"M1428.85 32.4315 Q1422.85 32.4315 1419.37 37.1306 Q1415.89 41.7891 1415.89 49.9314 Q1415.89 58.0738 1419.33 62.7728 Q1422.81 67.4314 1428.85 67.4314 Q1434.8 67.4314 1438.29 62.7323 Q1441.77 58.0333 1441.77 49.9314 Q1441.77 41.8701 1438.29 37.1711 Q1434.8 32.4315 1428.85 32.4315 M1428.85 26.1121 Q1438.57 26.1121 1444.12 32.4315 Q1449.67 38.7509 1449.67 49.9314 Q1449.67 61.0714 1444.12 67.4314 Q1438.57 73.7508 1428.85 73.7508 Q1419.09 73.7508 1413.54 67.4314 Q1408.03 61.0714 1408.03 49.9314 Q1408.03 38.7509 1413.54 32.4315 Q1419.09 26.1121 1428.85 26.1121 Z\" fill=\"#000000\" fill-rule=\"evenodd\" fill-opacity=\"1\" /><path clip-path=\"url(#clip650)\" d=\"M1497.35 35.9153 Q1500.14 30.8922 1504.03 28.5022 Q1507.92 26.1121 1513.19 26.1121 Q1520.28 26.1121 1524.13 31.0947 Q1527.97 36.0368 1527.97 45.1919 L1527.97 72.576 L1520.48 72.576 L1520.48 45.4349 Q1520.48 38.913 1518.17 35.7533 Q1515.86 32.5936 1511.12 32.5936 Q1505.33 32.5936 1501.97 36.4419 Q1498.61 40.2903 1498.61 46.9338 L1498.61 72.576 L1491.11 72.576 L1491.11 45.4349 Q1491.11 38.8725 1488.8 35.7533 Q1486.49 32.5936 1481.67 32.5936 Q1475.96 32.5936 1472.6 36.4824 Q1469.24 40.3308 1469.24 46.9338 L1469.24 72.576 L1461.74 72.576 L1461.74 27.2059 L1469.24 27.2059 L1469.24 34.2544 Q1471.79 30.082 1475.35 28.0971 Q1478.92 26.1121 1483.82 26.1121 Q1488.76 26.1121 1492.2 28.6237 Q1495.69 31.1352 1497.35 35.9153 Z\" fill=\"#000000\" fill-rule=\"evenodd\" fill-opacity=\"1\" /><path clip-path=\"url(#clip650)\" d=\"M1550.05 65.7705 L1550.05 89.8329 L1542.56 89.8329 L1542.56 27.2059 L1550.05 27.2059 L1550.05 34.0924 Q1552.4 30.0415 1555.97 28.0971 Q1559.57 26.1121 1564.55 26.1121 Q1572.82 26.1121 1577.96 32.6746 Q1583.15 39.2371 1583.15 49.9314 Q1583.15 60.6258 1577.96 67.1883 Q1572.82 73.7508 1564.55 73.7508 Q1559.57 73.7508 1555.97 71.8063 Q1552.4 69.8214 1550.05 65.7705 M1575.41 49.9314 Q1575.41 41.7081 1572.01 37.0496 Q1568.65 32.3505 1562.73 32.3505 Q1556.82 32.3505 1553.41 37.0496 Q1550.05 41.7081 1550.05 49.9314 Q1550.05 58.1548 1553.41 62.8538 Q1556.82 67.5124 1562.73 67.5124 Q1568.65 67.5124 1572.01 62.8538 Q1575.41 58.1548 1575.41 49.9314 Z\" fill=\"#000000\" fill-rule=\"evenodd\" fill-opacity=\"1\" /><path clip-path=\"url(#clip650)\" d=\"M1616.12 49.7694 Q1607.09 49.7694 1603.6 51.8354 Q1600.12 53.9013 1600.12 58.8839 Q1600.12 62.8538 1602.71 65.2034 Q1605.35 67.5124 1609.84 67.5124 Q1616.04 67.5124 1619.77 63.1374 Q1623.54 58.7219 1623.54 51.4303 L1623.54 49.7694 L1616.12 49.7694 M1630.99 46.6907 L1630.99 72.576 L1623.54 72.576 L1623.54 65.6895 Q1620.98 69.8214 1617.18 71.8063 Q1613.37 73.7508 1607.86 73.7508 Q1600.89 73.7508 1596.76 69.8619 Q1592.67 65.9325 1592.67 59.3701 Q1592.67 51.7138 1597.77 47.825 Q1602.92 43.9361 1613.08 43.9361 L1623.54 43.9361 L1623.54 43.2069 Q1623.54 38.0623 1620.13 35.2672 Q1616.77 32.4315 1610.65 32.4315 Q1606.76 32.4315 1603.08 33.3632 Q1599.39 34.295 1595.99 36.1584 L1595.99 29.2718 Q1600.08 27.692 1603.93 26.9223 Q1607.78 26.1121 1611.42 26.1121 Q1621.27 26.1121 1626.13 31.2163 Q1630.99 36.3204 1630.99 46.6907 Z\" fill=\"#000000\" fill-rule=\"evenodd\" fill-opacity=\"1\" /><path clip-path=\"url(#clip650)\" d=\"M1672.63 34.1734 Q1671.38 33.4443 1669.88 33.1202 Q1668.42 32.7556 1666.64 32.7556 Q1660.32 32.7556 1656.91 36.8875 Q1653.55 40.9789 1653.55 48.6757 L1653.55 72.576 L1646.06 72.576 L1646.06 27.2059 L1653.55 27.2059 L1653.55 34.2544 Q1655.9 30.1225 1659.67 28.1376 Q1663.44 26.1121 1668.82 26.1121 Q1669.59 26.1121 1670.53 26.2337 Q1671.46 26.3147 1672.59 26.5172 L1672.63 34.1734 Z\" fill=\"#000000\" fill-rule=\"evenodd\" fill-opacity=\"1\" /><path clip-path=\"url(#clip650)\" d=\"M1717.44 48.0275 L1717.44 51.6733 L1683.16 51.6733 Q1683.65 59.3701 1687.78 63.421 Q1691.95 67.4314 1699.37 67.4314 Q1703.66 67.4314 1707.67 66.3781 Q1711.72 65.3249 1715.69 63.2184 L1715.69 70.267 Q1711.68 71.9684 1707.47 72.8596 Q1703.26 73.7508 1698.92 73.7508 Q1688.07 73.7508 1681.71 67.4314 Q1675.39 61.1119 1675.39 50.3365 Q1675.39 39.1965 1681.38 32.6746 Q1687.42 26.1121 1697.63 26.1121 Q1706.78 26.1121 1712.09 32.0264 Q1717.44 37.9003 1717.44 48.0275 M1709.98 45.84 Q1709.9 39.7232 1706.54 36.0774 Q1703.22 32.4315 1697.71 32.4315 Q1691.47 32.4315 1687.7 35.9558 Q1683.97 39.4801 1683.41 45.8805 L1709.98 45.84 M1702.81 6.22219 L1710.87 6.22219 L1697.67 21.4536 L1691.47 21.4536 L1702.81 6.22219 Z\" fill=\"#000000\" fill-rule=\"evenodd\" fill-opacity=\"1\" /><path clip-path=\"url(#clip650)\" d=\"M1768.48 48.0275 L1768.48 51.6733 L1734.21 51.6733 Q1734.69 59.3701 1738.82 63.421 Q1743 67.4314 1750.41 67.4314 Q1754.7 67.4314 1758.71 66.3781 Q1762.76 65.3249 1766.73 63.2184 L1766.73 70.267 Q1762.72 71.9684 1758.51 72.8596 Q1754.3 73.7508 1749.96 73.7508 Q1739.11 73.7508 1732.75 67.4314 Q1726.43 61.1119 1726.43 50.3365 Q1726.43 39.1965 1732.42 32.6746 Q1738.46 26.1121 1748.67 26.1121 Q1757.82 26.1121 1763.13 32.0264 Q1768.48 37.9003 1768.48 48.0275 M1761.02 45.84 Q1760.94 39.7232 1757.58 36.0774 Q1754.26 32.4315 1748.75 32.4315 Q1742.51 32.4315 1738.74 35.9558 Q1735.02 39.4801 1734.45 45.8805 L1761.02 45.84 Z\" fill=\"#000000\" fill-rule=\"evenodd\" fill-opacity=\"1\" /><polyline clip-path=\"url(#clip652)\" style=\"stroke:#009af9; stroke-linecap:round; stroke-linejoin:round; stroke-width:4; stroke-opacity:1; fill:none\" points=\"\n",
       "  263.042,1439.81 770.254,1439.17 1277.47,162.047 1784.68,1169.55 2291.89,416.826 \n",
       "  \"/>\n",
       "<polyline clip-path=\"url(#clip652)\" style=\"stroke:#e26f46; stroke-linecap:round; stroke-linejoin:round; stroke-width:4; stroke-opacity:1; fill:none\" points=\"\n",
       "  263.042,1447.87 770.254,1447.23 1277.47,1438.2 1784.68,1434.01 2291.89,1442.07 \n",
       "  \"/>\n",
       "<path clip-path=\"url(#clip650)\" d=\"\n",
       "M1564.56 324.425 L2281.07 324.425 L2281.07 168.905 L1564.56 168.905  Z\n",
       "  \" fill=\"#ffffff\" fill-rule=\"evenodd\" fill-opacity=\"1\"/>\n",
       "<polyline clip-path=\"url(#clip650)\" style=\"stroke:#000000; stroke-linecap:round; stroke-linejoin:round; stroke-width:4; stroke-opacity:1; fill:none\" points=\"\n",
       "  1564.56,324.425 2281.07,324.425 2281.07,168.905 1564.56,168.905 1564.56,324.425 \n",
       "  \"/>\n",
       "<polyline clip-path=\"url(#clip650)\" style=\"stroke:#009af9; stroke-linecap:round; stroke-linejoin:round; stroke-width:4; stroke-opacity:1; fill:none\" points=\"\n",
       "  1588.45,220.745 1731.82,220.745 \n",
       "  \"/>\n",
       "<path clip-path=\"url(#clip650)\" d=\"M1760.39 207.307 L1760.39 234.182 L1766.04 234.182 Q1773.2 234.182 1776.51 230.941 Q1779.84 227.701 1779.84 220.71 Q1779.84 213.766 1776.51 210.548 Q1773.2 207.307 1766.04 207.307 L1760.39 207.307 M1755.72 203.465 L1765.33 203.465 Q1775.37 203.465 1780.07 207.654 Q1784.77 211.821 1784.77 220.71 Q1784.77 229.645 1780.05 233.835 Q1775.33 238.025 1765.33 238.025 L1755.72 238.025 L1755.72 203.465 Z\" fill=\"#000000\" fill-rule=\"evenodd\" fill-opacity=\"1\" /><path clip-path=\"url(#clip650)\" d=\"M1814.21 223.997 L1814.21 226.08 L1794.63 226.08 Q1794.91 230.478 1797.27 232.793 Q1799.65 235.085 1803.89 235.085 Q1806.34 235.085 1808.64 234.483 Q1810.95 233.881 1813.22 232.677 L1813.22 236.705 Q1810.93 237.677 1808.52 238.187 Q1806.11 238.696 1803.64 238.696 Q1797.43 238.696 1793.8 235.085 Q1790.19 231.474 1790.19 225.316 Q1790.19 218.951 1793.61 215.224 Q1797.06 211.474 1802.89 211.474 Q1808.13 211.474 1811.16 214.853 Q1814.21 218.21 1814.21 223.997 M1809.95 222.747 Q1809.91 219.252 1807.99 217.168 Q1806.09 215.085 1802.94 215.085 Q1799.38 215.085 1797.22 217.099 Q1795.09 219.113 1794.77 222.77 L1809.95 222.747 M1805.86 200.108 L1810.46 200.108 L1802.92 208.812 L1799.38 208.812 L1805.86 200.108 Z\" fill=\"#000000\" fill-rule=\"evenodd\" fill-opacity=\"1\" /><path clip-path=\"url(#clip650)\" d=\"M1839.86 213.094 L1839.86 217.076 Q1838.06 216.08 1836.23 215.594 Q1834.42 215.085 1832.57 215.085 Q1828.43 215.085 1826.14 217.724 Q1823.84 220.34 1823.84 225.085 Q1823.84 229.83 1826.14 232.469 Q1828.43 235.085 1832.57 235.085 Q1834.42 235.085 1836.23 234.599 Q1838.06 234.089 1839.86 233.094 L1839.86 237.029 Q1838.08 237.863 1836.16 238.279 Q1834.26 238.696 1832.11 238.696 Q1826.25 238.696 1822.8 235.015 Q1819.35 231.335 1819.35 225.085 Q1819.35 218.742 1822.83 215.108 Q1826.32 211.474 1832.39 211.474 Q1834.35 211.474 1836.23 211.891 Q1838.1 212.284 1839.86 213.094 Z\" fill=\"#000000\" fill-rule=\"evenodd\" fill-opacity=\"1\" /><path clip-path=\"url(#clip650)\" d=\"M1862.29 216.08 Q1861.57 215.664 1860.72 215.478 Q1859.89 215.27 1858.87 215.27 Q1855.26 215.27 1853.31 217.631 Q1851.39 219.969 1851.39 224.367 L1851.39 238.025 L1847.11 238.025 L1847.11 212.099 L1851.39 212.099 L1851.39 216.127 Q1852.73 213.766 1854.89 212.631 Q1857.04 211.474 1860.12 211.474 Q1860.56 211.474 1861.09 211.543 Q1861.62 211.59 1862.27 211.705 L1862.29 216.08 Z\" fill=\"#000000\" fill-rule=\"evenodd\" fill-opacity=\"1\" /><path clip-path=\"url(#clip650)\" d=\"M1875.76 215.085 Q1872.34 215.085 1870.35 217.77 Q1868.36 220.432 1868.36 225.085 Q1868.36 229.738 1870.32 232.423 Q1872.32 235.085 1875.76 235.085 Q1879.17 235.085 1881.16 232.4 Q1883.15 229.715 1883.15 225.085 Q1883.15 220.478 1881.16 217.793 Q1879.17 215.085 1875.76 215.085 M1875.76 211.474 Q1881.32 211.474 1884.49 215.085 Q1887.66 218.696 1887.66 225.085 Q1887.66 231.451 1884.49 235.085 Q1881.32 238.696 1875.76 238.696 Q1870.19 238.696 1867.01 235.085 Q1863.87 231.451 1863.87 225.085 Q1863.87 218.696 1867.01 215.085 Q1870.19 211.474 1875.76 211.474 Z\" fill=\"#000000\" fill-rule=\"evenodd\" fill-opacity=\"1\" /><path clip-path=\"url(#clip650)\" d=\"M1894.72 212.099 L1898.98 212.099 L1898.98 238.025 L1894.72 238.025 L1894.72 212.099 M1894.72 202.006 L1898.98 202.006 L1898.98 207.4 L1894.72 207.4 L1894.72 202.006 Z\" fill=\"#000000\" fill-rule=\"evenodd\" fill-opacity=\"1\" /><path clip-path=\"url(#clip650)\" d=\"M1924.42 212.863 L1924.42 216.891 Q1922.62 215.965 1920.67 215.502 Q1918.73 215.039 1916.64 215.039 Q1913.47 215.039 1911.88 216.011 Q1910.3 216.983 1910.3 218.928 Q1910.3 220.409 1911.44 221.265 Q1912.57 222.099 1916 222.863 L1917.45 223.187 Q1921.99 224.159 1923.89 225.941 Q1925.81 227.701 1925.81 230.872 Q1925.81 234.483 1922.94 236.589 Q1920.09 238.696 1915.09 238.696 Q1913.01 238.696 1910.74 238.279 Q1908.5 237.886 1906 237.076 L1906 232.677 Q1908.36 233.904 1910.65 234.529 Q1912.94 235.131 1915.19 235.131 Q1918.19 235.131 1919.82 234.113 Q1921.44 233.071 1921.44 231.196 Q1921.44 229.46 1920.26 228.534 Q1919.1 227.608 1915.14 226.752 L1913.66 226.404 Q1909.7 225.571 1907.94 223.858 Q1906.18 222.122 1906.18 219.113 Q1906.18 215.455 1908.77 213.465 Q1911.37 211.474 1916.13 211.474 Q1918.5 211.474 1920.58 211.821 Q1922.66 212.168 1924.42 212.863 Z\" fill=\"#000000\" fill-rule=\"evenodd\" fill-opacity=\"1\" /><path clip-path=\"url(#clip650)\" d=\"M1949.12 212.863 L1949.12 216.891 Q1947.32 215.965 1945.37 215.502 Q1943.43 215.039 1941.34 215.039 Q1938.17 215.039 1936.57 216.011 Q1935 216.983 1935 218.928 Q1935 220.409 1936.13 221.265 Q1937.27 222.099 1940.69 222.863 L1942.15 223.187 Q1946.69 224.159 1948.59 225.941 Q1950.51 227.701 1950.51 230.872 Q1950.51 234.483 1947.64 236.589 Q1944.79 238.696 1939.79 238.696 Q1937.71 238.696 1935.44 238.279 Q1933.19 237.886 1930.69 237.076 L1930.69 232.677 Q1933.06 233.904 1935.35 234.529 Q1937.64 235.131 1939.88 235.131 Q1942.89 235.131 1944.51 234.113 Q1946.13 233.071 1946.13 231.196 Q1946.13 229.46 1944.95 228.534 Q1943.8 227.608 1939.84 226.752 L1938.36 226.404 Q1934.4 225.571 1932.64 223.858 Q1930.88 222.122 1930.88 219.113 Q1930.88 215.455 1933.47 213.465 Q1936.07 211.474 1940.83 211.474 Q1943.19 211.474 1945.28 211.821 Q1947.36 212.168 1949.12 212.863 Z\" fill=\"#000000\" fill-rule=\"evenodd\" fill-opacity=\"1\" /><path clip-path=\"url(#clip650)\" d=\"M1969.07 224.992 Q1963.91 224.992 1961.92 226.173 Q1959.93 227.353 1959.93 230.201 Q1959.93 232.469 1961.41 233.812 Q1962.92 235.131 1965.49 235.131 Q1969.03 235.131 1971.16 232.631 Q1973.31 230.108 1973.31 225.941 L1973.31 224.992 L1969.07 224.992 M1977.57 223.233 L1977.57 238.025 L1973.31 238.025 L1973.31 234.089 Q1971.85 236.451 1969.68 237.585 Q1967.5 238.696 1964.35 238.696 Q1960.37 238.696 1958.01 236.474 Q1955.67 234.228 1955.67 230.478 Q1955.67 226.103 1958.59 223.881 Q1961.53 221.659 1967.34 221.659 L1973.31 221.659 L1973.31 221.242 Q1973.31 218.303 1971.37 216.705 Q1969.44 215.085 1965.95 215.085 Q1963.73 215.085 1961.62 215.617 Q1959.51 216.15 1957.57 217.215 L1957.57 213.279 Q1959.91 212.377 1962.11 211.937 Q1964.31 211.474 1966.39 211.474 Q1972.01 211.474 1974.79 214.391 Q1977.57 217.307 1977.57 223.233 Z\" fill=\"#000000\" fill-rule=\"evenodd\" fill-opacity=\"1\" /><path clip-path=\"url(#clip650)\" d=\"M2007.89 222.377 L2007.89 238.025 L2003.63 238.025 L2003.63 222.515 Q2003.63 218.835 2002.2 217.006 Q2000.76 215.178 1997.89 215.178 Q1994.44 215.178 1992.45 217.377 Q1990.46 219.576 1990.46 223.372 L1990.46 238.025 L1986.18 238.025 L1986.18 212.099 L1990.46 212.099 L1990.46 216.127 Q1991.99 213.789 1994.05 212.631 Q1996.13 211.474 1998.84 211.474 Q2003.31 211.474 2005.6 214.252 Q2007.89 217.006 2007.89 222.377 Z\" fill=\"#000000\" fill-rule=\"evenodd\" fill-opacity=\"1\" /><path clip-path=\"url(#clip650)\" d=\"M2035.05 213.094 L2035.05 217.076 Q2033.24 216.08 2031.41 215.594 Q2029.61 215.085 2027.75 215.085 Q2023.61 215.085 2021.32 217.724 Q2019.03 220.34 2019.03 225.085 Q2019.03 229.83 2021.32 232.469 Q2023.61 235.085 2027.75 235.085 Q2029.61 235.085 2031.41 234.599 Q2033.24 234.089 2035.05 233.094 L2035.05 237.029 Q2033.26 237.863 2031.34 238.279 Q2029.44 238.696 2027.29 238.696 Q2021.44 238.696 2017.99 235.015 Q2014.54 231.335 2014.54 225.085 Q2014.54 218.742 2018.01 215.108 Q2021.5 211.474 2027.57 211.474 Q2029.54 211.474 2031.41 211.891 Q2033.29 212.284 2035.05 213.094 Z\" fill=\"#000000\" fill-rule=\"evenodd\" fill-opacity=\"1\" /><path clip-path=\"url(#clip650)\" d=\"M2064.63 223.997 L2064.63 226.08 L2045.05 226.08 Q2045.32 230.478 2047.68 232.793 Q2050.07 235.085 2054.31 235.085 Q2056.76 235.085 2059.05 234.483 Q2061.37 233.881 2063.63 232.677 L2063.63 236.705 Q2061.34 237.677 2058.93 238.187 Q2056.53 238.696 2054.05 238.696 Q2047.85 238.696 2044.21 235.085 Q2040.6 231.474 2040.6 225.316 Q2040.6 218.951 2044.03 215.224 Q2047.48 211.474 2053.31 211.474 Q2058.54 211.474 2061.57 214.853 Q2064.63 218.21 2064.63 223.997 M2060.37 222.747 Q2060.32 219.252 2058.4 217.168 Q2056.5 215.085 2053.36 215.085 Q2049.79 215.085 2047.64 217.099 Q2045.51 219.113 2045.19 222.77 L2060.37 222.747 Z\" fill=\"#000000\" fill-rule=\"evenodd\" fill-opacity=\"1\" /><path clip-path=\"url(#clip650)\" d=\"M2112.75 206.127 L2112.75 211.057 Q2110.39 208.858 2107.71 207.77 Q2105.05 206.682 2102.04 206.682 Q2096.11 206.682 2092.96 210.316 Q2089.81 213.928 2089.81 220.779 Q2089.81 227.608 2092.96 231.242 Q2096.11 234.853 2102.04 234.853 Q2105.05 234.853 2107.71 233.765 Q2110.39 232.677 2112.75 230.478 L2112.75 235.363 Q2110.3 237.029 2107.55 237.863 Q2104.81 238.696 2101.76 238.696 Q2093.91 238.696 2089.4 233.904 Q2084.88 229.09 2084.88 220.779 Q2084.88 212.446 2089.4 207.654 Q2093.91 202.84 2101.76 202.84 Q2104.86 202.84 2107.59 203.673 Q2110.35 204.483 2112.75 206.127 Z\" fill=\"#000000\" fill-rule=\"evenodd\" fill-opacity=\"1\" /><path clip-path=\"url(#clip650)\" d=\"M2131.57 224.992 Q2126.41 224.992 2124.42 226.173 Q2122.43 227.353 2122.43 230.201 Q2122.43 232.469 2123.91 233.812 Q2125.42 235.131 2127.99 235.131 Q2131.53 235.131 2133.66 232.631 Q2135.81 230.108 2135.81 225.941 L2135.81 224.992 L2131.57 224.992 M2140.07 223.233 L2140.07 238.025 L2135.81 238.025 L2135.81 234.089 Q2134.35 236.451 2132.18 237.585 Q2130 238.696 2126.85 238.696 Q2122.87 238.696 2120.51 236.474 Q2118.17 234.228 2118.17 230.478 Q2118.17 226.103 2121.09 223.881 Q2124.03 221.659 2129.84 221.659 L2135.81 221.659 L2135.81 221.242 Q2135.81 218.303 2133.87 216.705 Q2131.94 215.085 2128.45 215.085 Q2126.23 215.085 2124.12 215.617 Q2122.01 216.15 2120.07 217.215 L2120.07 213.279 Q2122.41 212.377 2124.61 211.937 Q2126.8 211.474 2128.89 211.474 Q2134.51 211.474 2137.29 214.391 Q2140.07 217.307 2140.07 223.233 Z\" fill=\"#000000\" fill-rule=\"evenodd\" fill-opacity=\"1\" /><path clip-path=\"url(#clip650)\" d=\"M2148.4 227.793 L2148.4 212.099 L2152.66 212.099 L2152.66 227.631 Q2152.66 231.312 2154.1 233.164 Q2155.53 234.992 2158.4 234.992 Q2161.85 234.992 2163.84 232.793 Q2165.86 230.594 2165.86 226.798 L2165.86 212.099 L2170.11 212.099 L2170.11 238.025 L2165.86 238.025 L2165.86 234.043 Q2164.3 236.404 2162.24 237.562 Q2160.21 238.696 2157.5 238.696 Q2153.03 238.696 2150.72 235.918 Q2148.4 233.14 2148.4 227.793 M2159.12 211.474 L2159.12 211.474 Z\" fill=\"#000000\" fill-rule=\"evenodd\" fill-opacity=\"1\" /><path clip-path=\"url(#clip650)\" d=\"M2197.55 213.094 L2197.55 217.076 Q2195.74 216.08 2193.91 215.594 Q2192.11 215.085 2190.25 215.085 Q2186.11 215.085 2183.82 217.724 Q2181.53 220.34 2181.53 225.085 Q2181.53 229.83 2183.82 232.469 Q2186.11 235.085 2190.25 235.085 Q2192.11 235.085 2193.91 234.599 Q2195.74 234.089 2197.55 233.094 L2197.55 237.029 Q2195.76 237.863 2193.84 238.279 Q2191.94 238.696 2189.79 238.696 Q2183.93 238.696 2180.49 235.015 Q2177.04 231.335 2177.04 225.085 Q2177.04 218.742 2180.51 215.108 Q2184 211.474 2190.07 211.474 Q2192.04 211.474 2193.91 211.891 Q2195.79 212.284 2197.55 213.094 Z\" fill=\"#000000\" fill-rule=\"evenodd\" fill-opacity=\"1\" /><path clip-path=\"url(#clip650)\" d=\"M2226.5 222.377 L2226.5 238.025 L2222.24 238.025 L2222.24 222.515 Q2222.24 218.835 2220.81 217.006 Q2219.37 215.178 2216.5 215.178 Q2213.05 215.178 2211.06 217.377 Q2209.07 219.576 2209.07 223.372 L2209.07 238.025 L2204.79 238.025 L2204.79 202.006 L2209.07 202.006 L2209.07 216.127 Q2210.6 213.789 2212.66 212.631 Q2214.74 211.474 2217.45 211.474 Q2221.92 211.474 2224.21 214.252 Q2226.5 217.006 2226.5 222.377 Z\" fill=\"#000000\" fill-rule=\"evenodd\" fill-opacity=\"1\" /><path clip-path=\"url(#clip650)\" d=\"M2245.79 240.432 Q2243.98 245.062 2242.27 246.474 Q2240.55 247.886 2237.68 247.886 L2234.28 247.886 L2234.28 244.321 L2236.78 244.321 Q2238.54 244.321 2239.51 243.488 Q2240.48 242.654 2241.67 239.552 L2242.43 237.608 L2231.94 212.099 L2236.46 212.099 L2244.56 232.377 L2252.66 212.099 L2257.17 212.099 L2245.79 240.432 Z\" fill=\"#000000\" fill-rule=\"evenodd\" fill-opacity=\"1\" /><polyline clip-path=\"url(#clip650)\" style=\"stroke:#e26f46; stroke-linecap:round; stroke-linejoin:round; stroke-width:4; stroke-opacity:1; fill:none\" points=\"\n",
       "  1588.45,272.585 1731.82,272.585 \n",
       "  \"/>\n",
       "<path clip-path=\"url(#clip650)\" d=\"M1760.39 259.147 L1760.39 286.022 L1766.04 286.022 Q1773.2 286.022 1776.51 282.781 Q1779.84 279.541 1779.84 272.55 Q1779.84 265.606 1776.51 262.388 Q1773.2 259.147 1766.04 259.147 L1760.39 259.147 M1755.72 255.305 L1765.33 255.305 Q1775.37 255.305 1780.07 259.494 Q1784.77 263.661 1784.77 272.55 Q1784.77 281.485 1780.05 285.675 Q1775.33 289.865 1765.33 289.865 L1755.72 289.865 L1755.72 255.305 Z\" fill=\"#000000\" fill-rule=\"evenodd\" fill-opacity=\"1\" /><path clip-path=\"url(#clip650)\" d=\"M1814.21 275.837 L1814.21 277.92 L1794.63 277.92 Q1794.91 282.318 1797.27 284.633 Q1799.65 286.925 1803.89 286.925 Q1806.34 286.925 1808.64 286.323 Q1810.95 285.721 1813.22 284.517 L1813.22 288.545 Q1810.93 289.517 1808.52 290.027 Q1806.11 290.536 1803.64 290.536 Q1797.43 290.536 1793.8 286.925 Q1790.19 283.314 1790.19 277.156 Q1790.19 270.791 1793.61 267.064 Q1797.06 263.314 1802.89 263.314 Q1808.13 263.314 1811.16 266.693 Q1814.21 270.05 1814.21 275.837 M1809.95 274.587 Q1809.91 271.092 1807.99 269.008 Q1806.09 266.925 1802.94 266.925 Q1799.38 266.925 1797.22 268.939 Q1795.09 270.953 1794.77 274.61 L1809.95 274.587 M1805.86 251.948 L1810.46 251.948 L1802.92 260.652 L1799.38 260.652 L1805.86 251.948 Z\" fill=\"#000000\" fill-rule=\"evenodd\" fill-opacity=\"1\" /><path clip-path=\"url(#clip650)\" d=\"M1839.86 264.934 L1839.86 268.916 Q1838.06 267.92 1836.23 267.434 Q1834.42 266.925 1832.57 266.925 Q1828.43 266.925 1826.14 269.564 Q1823.84 272.18 1823.84 276.925 Q1823.84 281.67 1826.14 284.309 Q1828.43 286.925 1832.57 286.925 Q1834.42 286.925 1836.23 286.439 Q1838.06 285.929 1839.86 284.934 L1839.86 288.869 Q1838.08 289.703 1836.16 290.119 Q1834.26 290.536 1832.11 290.536 Q1826.25 290.536 1822.8 286.855 Q1819.35 283.175 1819.35 276.925 Q1819.35 270.582 1822.83 266.948 Q1826.32 263.314 1832.39 263.314 Q1834.35 263.314 1836.23 263.731 Q1838.1 264.124 1839.86 264.934 Z\" fill=\"#000000\" fill-rule=\"evenodd\" fill-opacity=\"1\" /><path clip-path=\"url(#clip650)\" d=\"M1862.29 267.92 Q1861.57 267.504 1860.72 267.318 Q1859.89 267.11 1858.87 267.11 Q1855.26 267.11 1853.31 269.471 Q1851.39 271.809 1851.39 276.207 L1851.39 289.865 L1847.11 289.865 L1847.11 263.939 L1851.39 263.939 L1851.39 267.967 Q1852.73 265.606 1854.89 264.471 Q1857.04 263.314 1860.12 263.314 Q1860.56 263.314 1861.09 263.383 Q1861.62 263.43 1862.27 263.545 L1862.29 267.92 Z\" fill=\"#000000\" fill-rule=\"evenodd\" fill-opacity=\"1\" /><path clip-path=\"url(#clip650)\" d=\"M1875.76 266.925 Q1872.34 266.925 1870.35 269.61 Q1868.36 272.272 1868.36 276.925 Q1868.36 281.578 1870.32 284.263 Q1872.32 286.925 1875.76 286.925 Q1879.17 286.925 1881.16 284.24 Q1883.15 281.555 1883.15 276.925 Q1883.15 272.318 1881.16 269.633 Q1879.17 266.925 1875.76 266.925 M1875.76 263.314 Q1881.32 263.314 1884.49 266.925 Q1887.66 270.536 1887.66 276.925 Q1887.66 283.291 1884.49 286.925 Q1881.32 290.536 1875.76 290.536 Q1870.19 290.536 1867.01 286.925 Q1863.87 283.291 1863.87 276.925 Q1863.87 270.536 1867.01 266.925 Q1870.19 263.314 1875.76 263.314 Z\" fill=\"#000000\" fill-rule=\"evenodd\" fill-opacity=\"1\" /><path clip-path=\"url(#clip650)\" d=\"M1894.72 263.939 L1898.98 263.939 L1898.98 289.865 L1894.72 289.865 L1894.72 263.939 M1894.72 253.846 L1898.98 253.846 L1898.98 259.24 L1894.72 259.24 L1894.72 253.846 Z\" fill=\"#000000\" fill-rule=\"evenodd\" fill-opacity=\"1\" /><path clip-path=\"url(#clip650)\" d=\"M1924.42 264.703 L1924.42 268.731 Q1922.62 267.805 1920.67 267.342 Q1918.73 266.879 1916.64 266.879 Q1913.47 266.879 1911.88 267.851 Q1910.3 268.823 1910.3 270.768 Q1910.3 272.249 1911.44 273.105 Q1912.57 273.939 1916 274.703 L1917.45 275.027 Q1921.99 275.999 1923.89 277.781 Q1925.81 279.541 1925.81 282.712 Q1925.81 286.323 1922.94 288.429 Q1920.09 290.536 1915.09 290.536 Q1913.01 290.536 1910.74 290.119 Q1908.5 289.726 1906 288.916 L1906 284.517 Q1908.36 285.744 1910.65 286.369 Q1912.94 286.971 1915.19 286.971 Q1918.19 286.971 1919.82 285.953 Q1921.44 284.911 1921.44 283.036 Q1921.44 281.3 1920.26 280.374 Q1919.1 279.448 1915.14 278.592 L1913.66 278.244 Q1909.7 277.411 1907.94 275.698 Q1906.18 273.962 1906.18 270.953 Q1906.18 267.295 1908.77 265.305 Q1911.37 263.314 1916.13 263.314 Q1918.5 263.314 1920.58 263.661 Q1922.66 264.008 1924.42 264.703 Z\" fill=\"#000000\" fill-rule=\"evenodd\" fill-opacity=\"1\" /><path clip-path=\"url(#clip650)\" d=\"M1949.12 264.703 L1949.12 268.731 Q1947.32 267.805 1945.37 267.342 Q1943.43 266.879 1941.34 266.879 Q1938.17 266.879 1936.57 267.851 Q1935 268.823 1935 270.768 Q1935 272.249 1936.13 273.105 Q1937.27 273.939 1940.69 274.703 L1942.15 275.027 Q1946.69 275.999 1948.59 277.781 Q1950.51 279.541 1950.51 282.712 Q1950.51 286.323 1947.64 288.429 Q1944.79 290.536 1939.79 290.536 Q1937.71 290.536 1935.44 290.119 Q1933.19 289.726 1930.69 288.916 L1930.69 284.517 Q1933.06 285.744 1935.35 286.369 Q1937.64 286.971 1939.88 286.971 Q1942.89 286.971 1944.51 285.953 Q1946.13 284.911 1946.13 283.036 Q1946.13 281.3 1944.95 280.374 Q1943.8 279.448 1939.84 278.592 L1938.36 278.244 Q1934.4 277.411 1932.64 275.698 Q1930.88 273.962 1930.88 270.953 Q1930.88 267.295 1933.47 265.305 Q1936.07 263.314 1940.83 263.314 Q1943.19 263.314 1945.28 263.661 Q1947.36 264.008 1949.12 264.703 Z\" fill=\"#000000\" fill-rule=\"evenodd\" fill-opacity=\"1\" /><path clip-path=\"url(#clip650)\" d=\"M1969.07 276.832 Q1963.91 276.832 1961.92 278.013 Q1959.93 279.193 1959.93 282.041 Q1959.93 284.309 1961.41 285.652 Q1962.92 286.971 1965.49 286.971 Q1969.03 286.971 1971.16 284.471 Q1973.31 281.948 1973.31 277.781 L1973.31 276.832 L1969.07 276.832 M1977.57 275.073 L1977.57 289.865 L1973.31 289.865 L1973.31 285.929 Q1971.85 288.291 1969.68 289.425 Q1967.5 290.536 1964.35 290.536 Q1960.37 290.536 1958.01 288.314 Q1955.67 286.068 1955.67 282.318 Q1955.67 277.943 1958.59 275.721 Q1961.53 273.499 1967.34 273.499 L1973.31 273.499 L1973.31 273.082 Q1973.31 270.143 1971.37 268.545 Q1969.44 266.925 1965.95 266.925 Q1963.73 266.925 1961.62 267.457 Q1959.51 267.99 1957.57 269.055 L1957.57 265.119 Q1959.91 264.217 1962.11 263.777 Q1964.31 263.314 1966.39 263.314 Q1972.01 263.314 1974.79 266.231 Q1977.57 269.147 1977.57 275.073 Z\" fill=\"#000000\" fill-rule=\"evenodd\" fill-opacity=\"1\" /><path clip-path=\"url(#clip650)\" d=\"M2007.89 274.217 L2007.89 289.865 L2003.63 289.865 L2003.63 274.355 Q2003.63 270.675 2002.2 268.846 Q2000.76 267.018 1997.89 267.018 Q1994.44 267.018 1992.45 269.217 Q1990.46 271.416 1990.46 275.212 L1990.46 289.865 L1986.18 289.865 L1986.18 263.939 L1990.46 263.939 L1990.46 267.967 Q1991.99 265.629 1994.05 264.471 Q1996.13 263.314 1998.84 263.314 Q2003.31 263.314 2005.6 266.092 Q2007.89 268.846 2007.89 274.217 Z\" fill=\"#000000\" fill-rule=\"evenodd\" fill-opacity=\"1\" /><path clip-path=\"url(#clip650)\" d=\"M2035.05 264.934 L2035.05 268.916 Q2033.24 267.92 2031.41 267.434 Q2029.61 266.925 2027.75 266.925 Q2023.61 266.925 2021.32 269.564 Q2019.03 272.18 2019.03 276.925 Q2019.03 281.67 2021.32 284.309 Q2023.61 286.925 2027.75 286.925 Q2029.61 286.925 2031.41 286.439 Q2033.24 285.929 2035.05 284.934 L2035.05 288.869 Q2033.26 289.703 2031.34 290.119 Q2029.44 290.536 2027.29 290.536 Q2021.44 290.536 2017.99 286.855 Q2014.54 283.175 2014.54 276.925 Q2014.54 270.582 2018.01 266.948 Q2021.5 263.314 2027.57 263.314 Q2029.54 263.314 2031.41 263.731 Q2033.29 264.124 2035.05 264.934 Z\" fill=\"#000000\" fill-rule=\"evenodd\" fill-opacity=\"1\" /><path clip-path=\"url(#clip650)\" d=\"M2064.63 275.837 L2064.63 277.92 L2045.05 277.92 Q2045.32 282.318 2047.68 284.633 Q2050.07 286.925 2054.31 286.925 Q2056.76 286.925 2059.05 286.323 Q2061.37 285.721 2063.63 284.517 L2063.63 288.545 Q2061.34 289.517 2058.93 290.027 Q2056.53 290.536 2054.05 290.536 Q2047.85 290.536 2044.21 286.925 Q2040.6 283.314 2040.6 277.156 Q2040.6 270.791 2044.03 267.064 Q2047.48 263.314 2053.31 263.314 Q2058.54 263.314 2061.57 266.693 Q2064.63 270.05 2064.63 275.837 M2060.37 274.587 Q2060.32 271.092 2058.4 269.008 Q2056.5 266.925 2053.36 266.925 Q2049.79 266.925 2047.64 268.939 Q2045.51 270.953 2045.19 274.61 L2060.37 274.587 Z\" fill=\"#000000\" fill-rule=\"evenodd\" fill-opacity=\"1\" /><path clip-path=\"url(#clip650)\" d=\"M2110.44 284.934 L2110.44 275.652 L2102.8 275.652 L2102.8 271.809 L2115.07 271.809 L2115.07 286.647 Q2112.36 288.568 2109.1 289.564 Q2105.83 290.536 2102.13 290.536 Q2094.03 290.536 2089.44 285.814 Q2084.88 281.068 2084.88 272.619 Q2084.88 264.147 2089.44 259.425 Q2094.03 254.68 2102.13 254.68 Q2105.51 254.68 2108.54 255.513 Q2111.6 256.346 2114.17 257.967 L2114.17 262.943 Q2111.57 260.744 2108.66 259.633 Q2105.74 258.522 2102.52 258.522 Q2096.18 258.522 2092.99 262.064 Q2089.81 265.606 2089.81 272.619 Q2089.81 279.61 2092.99 283.152 Q2096.18 286.693 2102.52 286.693 Q2105 286.693 2106.94 286.277 Q2108.89 285.837 2110.44 284.934 Z\" fill=\"#000000\" fill-rule=\"evenodd\" fill-opacity=\"1\" /><path clip-path=\"url(#clip650)\" d=\"M2149.49 257.967 L2149.49 262.897 Q2147.13 260.698 2144.44 259.61 Q2141.78 258.522 2138.77 258.522 Q2132.85 258.522 2129.7 262.156 Q2126.55 265.768 2126.55 272.619 Q2126.55 279.448 2129.7 283.082 Q2132.85 286.693 2138.77 286.693 Q2141.78 286.693 2144.44 285.605 Q2147.13 284.517 2149.49 282.318 L2149.49 287.203 Q2147.04 288.869 2144.28 289.703 Q2141.55 290.536 2138.49 290.536 Q2130.65 290.536 2126.13 285.744 Q2121.62 280.93 2121.62 272.619 Q2121.62 264.286 2126.13 259.494 Q2130.65 254.68 2138.49 254.68 Q2141.6 254.68 2144.33 255.513 Q2147.08 256.323 2149.49 257.967 Z\" fill=\"#000000\" fill-rule=\"evenodd\" fill-opacity=\"1\" /><path clip-path=\"url(#clip650)\" d=\"M2151.92 255.305 L2181.16 255.305 L2181.16 259.24 L2168.89 259.24 L2168.89 289.865 L2164.19 289.865 L2164.19 259.24 L2151.92 259.24 L2151.92 255.305 Z\" fill=\"#000000\" fill-rule=\"evenodd\" fill-opacity=\"1\" /></svg>\n"
      ]
     },
     "execution_count": 13,
     "metadata": {},
     "output_type": "execute_result"
    }
   ],
   "source": [
    "using Plots \n",
    "\n",
    "x_min11, fmin11, flag11, nb_iters11 = Regions_De_Confiance(\"cauchy\",fct1,grad_fct1,hess_fct1,pts1.x011,options1)\n",
    "x_min12, fmin12, flag12, nb_iters12  = Regions_De_Confiance(\"cauchy\",fct1,grad_fct1,hess_fct1,pts1.x012,options1)\n",
    "x_min21, fmin21, flag21, nb_iters21,  = Regions_De_Confiance(\"cauchy\",fct2,grad_fct2,hess_fct2,pts1.x021,options2)\n",
    "x_min22, fmin22, flag22, nb_iters22 = Regions_De_Confiance(\"cauchy\",fct2,grad_fct2,hess_fct2,pts1.x022,options2)\n",
    "x_min23, fmin23, flag23, nb_iters23 = Regions_De_Confiance(\"cauchy\",fct2,grad_fct2,hess_fct2,pts1.x023,options2)\n",
    "\n",
    "cauchy = [nb_iters11, nb_iters12, nb_iters21, nb_iters22, nb_iters23]\n",
    "print(cauchy)\n",
    "\n",
    "x_min11, fmin11, flag11, nb_iters11 = Regions_De_Confiance(\"gct\",fct1,grad_fct1,hess_fct1,pts1.x011,options1)\n",
    "x_min12, fmin12, flag12, nb_iters12  = Regions_De_Confiance(\"gct\",fct1,grad_fct1,hess_fct1,pts1.x012,options1)\n",
    "x_min21, fmin21, flag21, nb_iters21,  = Regions_De_Confiance(\"gct\",fct2,grad_fct2,hess_fct2,pts1.x021,options2)\n",
    "x_min22, fmin22, flag22, nb_iters22 = Regions_De_Confiance(\"gct\",fct2,grad_fct2,hess_fct2,pts1.x022,options2)\n",
    "x_min23, fmin23, flag23, nb_iters23 = Regions_De_Confiance(\"gct\",fct2,grad_fct2,hess_fct2,pts1.x023,options2)\n",
    "\n",
    "gct = [nb_iters11, nb_iters12, nb_iters21, nb_iters22, nb_iters23]\n",
    "print(gct)\n",
    "\n",
    "plot([\"x011\",\"x012\",\"x021\",\"x022\",\"x023\"], [cauchy, gct], title=\"Décroissance comparée\", label=[\"Décroissance Cauchy\" \"Décroissance GCT\"])\n",
    "plot!(legend=:topright)\n"
   ]
  },
  {
   "cell_type": "markdown",
   "metadata": {},
   "source": [
    "\n",
    "\n",
    "    Question 2.\n",
    "    \n",
    "La méthode du Gradient Conjugué Tronqué est bien plus performante car il converge beaucoup plus vite, ce qui est très efficace quand les gradients et les hessiennes sont lourdes à calculer. Il renvoit une solution plus proche de la solution exacte que celle renvoyée par Cauchy en beaucoup moins d'itérations.\n",
    "\n",
    "Quant à l'algorithme du Pas de Cauchy, il est plus simple à programmer et le calcul est direct donc il est plus efficace en temps de calcul mais la solution est moins précise et il faut donc faire plus d'itérations.\n",
    "\n",
    "Au final, si on fait peu d'itérations, le Pas de Cauchy suffit et peut même renvoyer une solution plus précise.\n",
    "Mais si on fait beaucoup d'itérations, le Gradient conjugué permet d'obtenir une meilleure solution, en moins d'itération que le Pas de Cauchy. "
   ]
  }
 ],
 "metadata": {
  "kernelspec": {
   "display_name": "Julia 1.8.2",
   "language": "julia",
   "name": "julia-1.8"
  },
  "language_info": {
   "file_extension": ".jl",
   "mimetype": "application/julia",
   "name": "julia",
   "version": "1.8.2"
  }
 },
 "nbformat": 4,
 "nbformat_minor": 4
}

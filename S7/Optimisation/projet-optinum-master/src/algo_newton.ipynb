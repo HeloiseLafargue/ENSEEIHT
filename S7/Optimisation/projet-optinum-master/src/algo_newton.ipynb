{
 "cells": [
  {
   "cell_type": "markdown",
   "metadata": {},
   "source": [
    "<center>\n",
    "<h1> TP-Projet d'optimisation numérique </h1>\n",
    "<h1> Algorithme de Newton </h1>\n",
    "</center>"
   ]
  },
  {
   "cell_type": "markdown",
   "metadata": {},
   "source": [
    "## Implémentation \n",
    " \n",
    "1. Coder l’algorithme de Newton local en respectant la spécification ci-dessous (fichier `Algorithme_De_Newton.jl`)\n"
   ]
  },
  {
   "cell_type": "code",
   "execution_count": 1,
   "metadata": {},
   "outputs": [
    {
     "data": {
      "text/plain": [
       "Algorithme_De_Newton"
      ]
     },
     "execution_count": 1,
     "metadata": {},
     "output_type": "execute_result"
    }
   ],
   "source": [
    "using LinearAlgebra\n",
    "using Documenter\n",
    "using Markdown  \n",
    "include(\"Algorithme_De_Newton.jl\")\n",
    "# @doc Algorithme_De_Newton"
   ]
  },
  {
   "cell_type": "markdown",
   "metadata": {},
   "source": [
    "2. Vérifier que les tests ci-dessous passent."
   ]
  },
  {
   "cell_type": "code",
   "execution_count": 2,
   "metadata": {},
   "outputs": [
    {
     "name": "stdout",
     "output_type": "stream",
     "text": [
      "\u001b[0m\u001b[1mTest Summary:    | \u001b[22m\u001b[32m\u001b[1mPass  \u001b[22m\u001b[39m\u001b[36m\u001b[1mTotal  \u001b[22m\u001b[39m\u001b[0m\u001b[1mTime\u001b[22m\n",
      "Test algo newton | \u001b[32m  22  \u001b[39m\u001b[36m   22  \u001b[39m\u001b[0m6.1s\n"
     ]
    }
   ],
   "source": [
    "using Test\n",
    "\n",
    "# Tolérance pour les tests d'égalité\n",
    "tol_erreur = sqrt(eps())\n",
    "\n",
    "## ajouter les fonctions de test\n",
    "include(\"../test/fonctions_de_tests.jl\")\n",
    "include(\"../test/tester_algo_newton.jl\")\n",
    "include(\"../src/Algorithme_De_Newton.jl\")\n",
    "\n",
    "affiche = false\n",
    "\n",
    "@testset \"Test algo newton\" begin\n",
    "\t# Tester l'algorithme de Newton\n",
    "\ttester_algo_newton(affiche,Algorithme_De_Newton)\n",
    "end;"
   ]
  },
  {
   "cell_type": "code",
   "execution_count": 3,
   "metadata": {
    "scrolled": true
   },
   "outputs": [
    {
     "name": "stdout",
     "output_type": "stream",
     "text": [
      "-------------------------------------------------------------------------\n",
      "\u001b[34m\u001b[1mRésultats de : Newton appliqué à f0 au point initial -1.5707963267948966:\u001b[22m\u001b[39m\n",
      "  * xsol = -1.5707963267948966\n",
      "  * f(xsol) = -1.0\n",
      "  * nb_iters = 0\n",
      "  * flag = 0\n",
      "  * sol_exacte : -1.5707963267948966\n",
      "-------------------------------------------------------------------------\n",
      "\u001b[34m\u001b[1mRésultats de : Newton appliqué à f0 au point initial -1.0707963267948966:\u001b[22m\u001b[39m\n",
      "  * xsol = -1.5707963267949088\n",
      "  * f(xsol) = -1.0\n",
      "  * nb_iters = 3\n",
      "  * flag = 0\n",
      "  * sol_exacte : -1.5707963267948966\n",
      "-------------------------------------------------------------------------\n",
      "\u001b[34m\u001b[1mRésultats de : Newton appliqué à f0 au point initial 1.5707963267948966:\u001b[22m\u001b[39m\n",
      "  * xsol = 1.5707963267948966\n",
      "  * f(xsol) = 1.0\n",
      "  * nb_iters = 0\n",
      "  * flag = 0\n",
      "  * sol_exacte : -1.5707963267948966\n"
     ]
    }
   ],
   "source": [
    "#using Pkg; Pkg.add(\"LinearAlgebra\"); Pkg.add(\"Markdown\")\n",
    "# using Documenter\n",
    "using LinearAlgebra\n",
    "using Markdown                             # Pour que les docstrings en début des fonctions ne posent\n",
    "                                           # pas de soucis. Ces docstrings sont utiles pour générer \n",
    "                                           # la documentation sous GitHub\n",
    "include(\"Algorithme_De_Newton.jl\")\n",
    "\n",
    "# Affichage les sorties de l'algorithme des Régions de confiance\n",
    "function my_afficher_resultats(algo,nom_fct,point_init,xmin,fxmin,flag,sol_exacte,nbiters)\n",
    "\tprintln(\"-------------------------------------------------------------------------\")\n",
    "\tprintstyled(\"Résultats de : \",algo, \" appliqué à \",nom_fct, \" au point initial \", point_init, \":\\n\",bold=true,color=:blue)\n",
    "\tprintln(\"  * xsol = \",xmin)\n",
    "\tprintln(\"  * f(xsol) = \",fxmin)\n",
    "\tprintln(\"  * nb_iters = \",nbiters)\n",
    "\tprintln(\"  * flag = \",flag)\n",
    "\tprintln(\"  * sol_exacte : \", sol_exacte)\n",
    "end\n",
    "\n",
    "# Fonction f0\n",
    "# -----------\n",
    "f0(x) =  sin(x)\n",
    "# la gradient de la fonction f0\n",
    "grad_f0(x) = cos(x)\n",
    "# la hessienne de la fonction f0\n",
    "hess_f0(x) = -sin(x)\n",
    "sol_exacte = -pi/2\n",
    "options = []\n",
    "\n",
    "x0 = sol_exacte\n",
    "xmin,f_min,flag,nb_iters = Algorithme_De_Newton(f0,grad_f0,hess_f0,x0,options)\n",
    "my_afficher_resultats(\"Newton\",\"f0\",x0,xmin,f_min,flag,sol_exacte,nb_iters)\n",
    "x0 = -pi/2+0.5\n",
    "xmin,f_min,flag,nb_iters = Algorithme_De_Newton(f0,grad_f0,hess_f0,x0,options)\n",
    "my_afficher_resultats(\"Newton\",\"f0\",x0,xmin,f_min,flag,sol_exacte,nb_iters)\n",
    "x0 = pi/2\n",
    "xmin,f_min,flag,nb_iters = Algorithme_De_Newton(f0,grad_f0,hess_f0,x0,options)\n",
    "my_afficher_resultats(\"Newton\",\"f0\",x0,xmin,f_min,flag,sol_exacte,nb_iters)\n",
    "\n"
   ]
  },
  {
   "cell_type": "markdown",
   "metadata": {},
   "source": [
    "## Interprétation \n",
    "\n",
    "1. Justifier les résultats obtenus pour l'exemple $f_0$ ci-dessus;\n",
    "\n",
    "2. Soit \n",
    "$$ f_{1} : \\mathbb{R}^3 \\rightarrow \\mathbb{R}$$ $$ (x_1,x_2, x_3) \\mapsto  2 (x_1 +x_2 + x_3 -3)^2 + (x_1-x_2)^2 + (x_2 - x_3)^2$$ \n",
    "\n",
    "Justifier que l’algorithme implémenté converge en une itération pour $f_{1}$;\n",
    "\n",
    "3. Soit \n",
    "$$ f_{2} : \\mathbb{R}^2 \\rightarrow \\mathbb{R}$$ $$ (x_1,x_2) \\mapsto 100(x_2-x_1^2)^2 + (1-x_1)^2 $$ \n",
    "\n",
    "Justifier que l’algorithme puisse ne pas converger pour $f_{2}$ avec certains points initiaux.\n",
    "\n"
   ]
  },
  {
   "cell_type": "markdown",
   "metadata": {},
   "source": [
    "## Réponse\n",
    "\n",
    "    Question 1.\n",
    "\n",
    "Pour le premier cas, l'algorithme est initialisé directement avec la solution exacte, $xsol = sol\\_exacte = -pi/2$.\n",
    "Ainsi,le gradient $\\nabla f(x) = cox(x)$ s'annule aussitôt, on ne fait pas d'itération et on a bien la solution exacte.\n",
    "\n",
    "Pour le deuxième cas, l'algorithme est initialisé avec une valeur proche de la solution exacte. Ainsi, 3 itérations suffisent pour trouver une solution suffisament proche (critère de convergence) de la solution exacte.\n",
    "\n",
    "Pour le troisième cas, l'algorithme est initialisé avec la valeur opposée à la solution exacte. Mais avec la fonction $f_0$, le gradient s'annule aussi dès l'initalisation donc il n'y pas d'itération. Or c'est un maximum et non un minimum que l'algorithme retourne."
   ]
  },
  {
   "cell_type": "markdown",
   "metadata": {},
   "source": [
    "    Question 2.\n",
    "\n",
    "La fonction $f_1$ est quadratique, de la forme $f(x) = \\frac{1}{2} x^T H x + g^T x + b$. Le gradient vaut $\\nabla f(x_k) = Hx_k + g$, or le pas est $d_k = - \\nabla ^2 f(x_k)^{-1} \\nabla f(x_k) = - H^{-1} (Hx_k + g) = -x_k - H^{-1}g $, ainsi $x_{k+1} = x_k + d_k = - H^{-1}g $ et donc $x_{k+1}$ annule le gradient. \n",
    "\n",
    "Ainsi, lors de la première itération, on obtient le point minimal pour tout point initial grâce au pas utilisé.\n",
    "\n",
    "On retrouve bien ce résultat numériquement avec $x_{11}$ et $x_{12}$ par exemple."
   ]
  },
  {
   "cell_type": "code",
   "execution_count": 4,
   "metadata": {},
   "outputs": [
    {
     "name": "stdout",
     "output_type": "stream",
     "text": [
      "-------------------------------------------------------------------------\n",
      "\u001b[34m\u001b[1mRésultats de : Newton appliqué à f1 au point initial [1, 0, 0]:\u001b[22m\u001b[39m\n",
      "  * xsol = [1.0, 1.0, 0.9999999999999999]\n",
      "  * f(xsol) = 1.232595164407831e-32\n",
      "  * nb_iters = 1\n",
      "  * flag = 0\n",
      "  * sol_exacte : [1, 1, 1]\n",
      "-------------------------------------------------------------------------\n",
      "\u001b[34m\u001b[1mRésultats de : Newton appliqué à f1 au point initial [10.0, 3.0, -2.2]:\u001b[22m\u001b[39m\n",
      "  * xsol = [1.0, 0.9999999999999996, 0.9999999999999987]\n",
      "  * f(xsol) = 7.296963373294359e-30\n",
      "  * nb_iters = 1\n",
      "  * flag = 0\n",
      "  * sol_exacte : [1, 1, 1]\n"
     ]
    }
   ],
   "source": [
    "include(\"../test/fonctions_de_tests.jl\")\n",
    "\n",
    "xmin,f_min,flag,nb_iters = Algorithme_De_Newton(fct1,grad_fct1,hess_fct1,x011,options)\n",
    "my_afficher_resultats(\"Newton\",\"f1\",x011,xmin,f_min,flag,sol_exacte_fct1,nb_iters)\n",
    "\n",
    "xmin,f_min,flag,nb_iters = Algorithme_De_Newton(fct1,grad_fct1,hess_fct1,x012,options)\n",
    "my_afficher_resultats(\"Newton\",\"f1\",x012,xmin,f_min,flag,sol_exacte_fct1,nb_iters)"
   ]
  },
  {
   "cell_type": "markdown",
   "metadata": {},
   "source": [
    "    Question 3.\n",
    "Pour la fonction $f_2$, la hessienne dépend de x (à cause du carré sur $x_1$), il peut donc arriver que l'on ne puisse pas inverser la hessienne dans le calcul du pas. On ne peut plus calculer la direction de Newton.\n",
    "\n",
    "Par exemple, pour les points initiaux $x_{21}$ et $x_{22}$, l'algorithme converge bien mais pour $x_{23}$ non. \n",
    "\n",
    "L'algorithme ne converge pas en particulier pour les points très proches de [0,0] comme $x_{23}$."
   ]
  },
  {
   "cell_type": "code",
   "execution_count": 5,
   "metadata": {},
   "outputs": [
    {
     "name": "stdout",
     "output_type": "stream",
     "text": [
      "-------------------------------------------------------------------------\n",
      "\u001b[34m\u001b[1mRésultats de : Newton appliqué à f2 au point initial [-1.2, 1.0]:\u001b[22m\u001b[39m\n",
      "  * xsol = [0.9999999999999999, 0.9999999999814724]\n",
      "  * f(xsol) = 3.4326461875363225e-20\n",
      "  * nb_iters = 6\n",
      "  * flag = 0\n",
      "  * sol_exacte : [1, 1]\n",
      "-------------------------------------------------------------------------\n",
      "\u001b[34m\u001b[1mRésultats de : Newton appliqué à f2 au point initial [10, 0]:\u001b[22m\u001b[39m\n",
      "  * xsol = [1.0, 1.0]\n",
      "  * f(xsol) = 0.0\n",
      "  * nb_iters = 5\n",
      "  * flag = 0\n",
      "  * sol_exacte : [1, 1]\n"
     ]
    },
    {
     "ename": "LoadError",
     "evalue": "SingularException(2)",
     "output_type": "error",
     "traceback": [
      "SingularException(2)",
      "",
      "Stacktrace:",
      "  [1] checknonsingular",
      "    @ /snap/julia/62/share/julia/stdlib/v1.8/LinearAlgebra/src/factorization.jl:19 [inlined]",
      "  [2] checknonsingular",
      "    @ /snap/julia/62/share/julia/stdlib/v1.8/LinearAlgebra/src/factorization.jl:21 [inlined]",
      "  [3] #lu!#170",
      "    @ /snap/julia/62/share/julia/stdlib/v1.8/LinearAlgebra/src/lu.jl:82 [inlined]",
      "  [4] #lu#177",
      "    @ /snap/julia/62/share/julia/stdlib/v1.8/LinearAlgebra/src/lu.jl:279 [inlined]",
      "  [5] lu (repeats 2 times)",
      "    @ /snap/julia/62/share/julia/stdlib/v1.8/LinearAlgebra/src/lu.jl:278 [inlined]",
      "  [6] \\(A::Matrix{Float64}, B::Vector{Float64})",
      "    @ LinearAlgebra /snap/julia/62/share/julia/stdlib/v1.8/LinearAlgebra/src/generic.jl:1110",
      "  [7] Algorithme_De_Newton(f::typeof(fct2), gradf::typeof(grad_fct2), hessf::typeof(hess_fct2), x0::Vector{Float64}, options::Vector{Any})",
      "    @ Main ~/Desktop/Optimisation/projet-optinum-master/src/Algorithme_De_Newton.jl:76",
      "  [8] top-level scope",
      "    @ In[5]:9",
      "  [9] eval",
      "    @ ./boot.jl:368 [inlined]",
      " [10] include_string(mapexpr::typeof(REPL.softscope), mod::Module, code::String, filename::String)",
      "    @ Base ./loading.jl:1428"
     ]
    }
   ],
   "source": [
    "include(\"../test/fonctions_de_tests.jl\")\n",
    "\n",
    "xmin,f_min,flag,nb_iters = Algorithme_De_Newton(fct2,grad_fct2,hess_fct2,x021,options)\n",
    "my_afficher_resultats(\"Newton\",\"f2\",x021,xmin,f_min,flag,sol_exacte_fct2,nb_iters)\n",
    "\n",
    "xmin,f_min,flag,nb_iters = Algorithme_De_Newton(fct2,grad_fct2,hess_fct2,x022,options)\n",
    "my_afficher_resultats(\"Newton\",\"f2\",x022,xmin,f_min,flag,sol_exacte_fct2,nb_iters)\n",
    "\n",
    "xmin,f_min,flag,nb_iters = Algorithme_De_Newton(fct2,grad_fct2,hess_fct2,x023,options)\n",
    "my_afficher_resultats(\"Newton\",\"f2\",x023,xmin,f_min,flag,sol_exacte_fct2,nb_iters)"
   ]
  }
 ],
 "metadata": {
  "kernelspec": {
   "display_name": "Julia 1.8.2",
   "language": "julia",
   "name": "julia-1.8"
  },
  "language_info": {
   "file_extension": ".jl",
   "mimetype": "application/julia",
   "name": "julia",
   "version": "1.8.2"
  }
 },
 "nbformat": 4,
 "nbformat_minor": 4
}

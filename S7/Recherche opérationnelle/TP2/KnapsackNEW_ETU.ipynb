{
 "cells": [
  {
   "cell_type": "markdown",
   "metadata": {},
   "source": [
    "# TP 2-3 : Branch-and-bound applied to a knapsack problem"
   ]
  },
  {
   "cell_type": "markdown",
   "metadata": {},
   "source": [
    "## Questions préliminaires\n",
    "\n",
    "    1. Quelle est la règle de séparation ? \n",
    "\n",
    "La règle de séparation se situe dans la fonction « SeparerNoeud_lexicographic_depthfirst! ». On va choisir la 1ère variable fractionnaire xk dans l’ordre croissant de ratio. On crée un nœud sur le premier nœud rencontré, non fixé. Et après séparation, on se retrouve avec 2 nouvelles branches xk = 0 & xk = 1.\n",
    "\n",
    "    2. Quelle est la méthode de calcul de borne supérieure ? \n",
    "\n",
    "La méthode de calcul de la borne supérieur réside dans les fonctions set_lower_bound & set_upper_bound. Le but du TP est d’ailleurs de modifier ces fonctions pour ajouter de nouveaux calculs de la borne supérieure. En effet, on ne sait pas précisément comment ces fonctions calculs la borne supérieure.\n",
    "\n",
    "Pour calculer l'upperbound, le programme somme les objets déjà dans le sac même s’ils ne sont pas entièrement mis dans le sac (ratio d'objets possible).\n",
    "   \n",
    "    3. Quels sont les tests de sondabilité TA, TO, TR ? \n",
    "\n",
    "Les tests de sondabilité sont dans la fonction « TestsSondabilite_LP ». \n",
    "-\tLe test d’admissibilité (TA) qui vérifie que la capacité restante est bien positive avec la fonction « termination_status ».\n",
    "-\tLe test d’admissibilité (TO) qui vérifie que la borne supérieure est mieux que la meilleure solution connue du problème d’optimisation avec la fonction « objective value » .\n",
    "-\tLe test de résolution (TR) qui vérifie que la solution optimale n’est pas entière avec la fonction. \n",
    "\n",
    "    4. Quelle est la stratégie d’exploration ? \n",
    "\n",
    "On priorise l’exploration de l’enfant gauche, puis, on revient sur le père et sur l’enfant droit. C’est ce que l’on appelle une stratégie PSES qui a pour avantage d’utiliser moins d’espace mémoire et de trouver plus vite la solution réalisable."
   ]
  },
  {
   "cell_type": "markdown",
   "metadata": {},
   "source": [
    "## Analyse du code\n",
    "\n",
    "    1. Donner les points clés de votre implémentation.\n",
    "\n",
    "La règle de séparation est la même qu'avant, on va choisir la 1ère variable fractionnaire xk dans l’ordre croissant de ratio. On crée un nœud sur le premier nœud rencontré, non fixé. Et après séparation, on se retrouve avec 2 nouvelles branches xk = 1 & xk = 0.\n",
    "\n",
    "Le calcul de la borne supérieure est lui bien différent. Il existe 2 méthodes différentes de calcul.\n",
    "\n",
    "- La borne 1 (\"simple\"), la lowerbound est le profit du sous-problème. Pour calculer la upper bound, on ajoute à la lowerbound à la capacité courrante multipliée par le ratio de la variable courante.\n",
    "- La borne 2 (\"methode2\"), la upperbound est l'évaluation de la fonction objectif du sous problème.\n",
    "\n",
    "Les tests de sondabilité sont dans la fonction TestSondabilite. TA réussi si la capacité restante est négative, TR réussi si la solution optimale est entière pour la méthode avec la borne 1, et TO réussi si la borne supérieure est pire que la meilleure solution connue.\n",
    "\n",
    "La règle d'exploration est la même qu'avant. On priorise l’exploration du fils gauche, puis, on retourne à la racine et on explore le fils droit. C’est ce que l’on appelle une stratégie PSES qui a pour avantage d’utiliser moins d’espace mémoire et de trouver plus vite la solution réalisable.\n",
    "\n",
    "    2. Expliquer votre choix de structure de données.\n",
    "\n",
    "Pour le modèle on a créé un constructeur \"model\", on a instancié plusieurs attributs à model dont x qui est défini par le constructeur \"variable\". L'utilisation de cette structure de données nous permet d'accéder et de modifier facilement les différentes variables du problème.\n",
    "\n",
    "    3. Comparer les performances du Branch-and-Bound en utilisant la borne 1 ou la borne 2.\n",
    "\n",
    "La méthode 2 semble plus performante que la methode simple car il y a moins de noeuds. \n",
    "\n",
    "Pour la solution finale il faut prendre en compte qu'elle est donnée en ayant classé les variables par ordre décroissant de ratio, ainsi pour l'exemple test on obtient $BestProfit = 65$ et $x=[0,1,0,1]$."
   ]
  },
  {
   "cell_type": "markdown",
   "metadata": {},
   "source": [
    "### Initialisation (à faire une seule fois)"
   ]
  },
  {
   "cell_type": "code",
   "execution_count": 1,
   "metadata": {},
   "outputs": [
    {
     "name": "stderr",
     "output_type": "stream",
     "text": [
      "\u001b[32m\u001b[1m    Updating\u001b[22m\u001b[39m registry at `~/.julia/registries/General.toml`\n",
      "\u001b[32m\u001b[1m   Resolving\u001b[22m\u001b[39m package versions...\n",
      "\u001b[32m\u001b[1m  No Changes\u001b[22m\u001b[39m to `~/.julia/environments/v1.8/Project.toml`\n",
      "\u001b[32m\u001b[1m  No Changes\u001b[22m\u001b[39m to `~/.julia/environments/v1.8/Manifest.toml`\n",
      "\u001b[32m\u001b[1m   Resolving\u001b[22m\u001b[39m package versions...\n",
      "\u001b[32m\u001b[1m  No Changes\u001b[22m\u001b[39m to `~/.julia/environments/v1.8/Project.toml`\n",
      "\u001b[32m\u001b[1m  No Changes\u001b[22m\u001b[39m to `~/.julia/environments/v1.8/Manifest.toml`\n"
     ]
    }
   ],
   "source": [
    "import Pkg; \n",
    "Pkg.add(\"GraphRecipes\"); Pkg.add(\"Plots\"); \n",
    "using GraphRecipes, Plots #only used to visualize the search tree at the end of the branch-and-bound"
   ]
  },
  {
   "cell_type": "markdown",
   "metadata": {},
   "source": [
    "### Récupération des données"
   ]
  },
  {
   "cell_type": "code",
   "execution_count": 2,
   "metadata": {},
   "outputs": [
    {
     "data": {
      "text/plain": [
       "readKnaptxtInstance (generic function with 1 method)"
      ]
     },
     "execution_count": 2,
     "metadata": {},
     "output_type": "execute_result"
    }
   ],
   "source": [
    "function readKnaptxtInstance(filename)\n",
    "    price=[]\n",
    "    weight=[]\n",
    "    KnapCap=[]\n",
    "    open(filename) do f\n",
    "        for i in 1:3\n",
    "            tok = split(readline(f))\n",
    "            if(tok[1] == \"ListPrices=\")\n",
    "                for i in 2:(length(tok)-1)\n",
    "                    push!(price,parse(Int64, tok[i]))\n",
    "                end\n",
    "            elseif(tok[1] == \"ListWeights=\")\n",
    "                for i in 2:(length(tok)-1)\n",
    "                    push!(weight,parse(Int64, tok[i]))\n",
    "                end\n",
    "            elseif(tok[1] == \"Capacity=\")\n",
    "                push!(KnapCap, parse(Int64, tok[2]))\n",
    "            else\n",
    "                println(\"Unknown read :\", tok)\n",
    "            end \n",
    "        end\n",
    "    end\n",
    "    capacity=KnapCap[1]\n",
    "    return price, weight, capacity\n",
    "end"
   ]
  },
  {
   "cell_type": "markdown",
   "metadata": {},
   "source": [
    "### Tests de sondabilités TA, TO et TR basés sur le modèle linéaire"
   ]
  },
  {
   "cell_type": "code",
   "execution_count": 3,
   "metadata": {},
   "outputs": [
    {
     "data": {
      "text/plain": [
       "TestsSondabilite (generic function with 1 method)"
      ]
     },
     "execution_count": 3,
     "metadata": {},
     "output_type": "execute_result"
    }
   ],
   "source": [
    "function TestsSondabilite(model, BestProfit, Bestsol)\n",
    "    TA, TO, TR = false, false, false\n",
    "    \n",
    "    #Test de faisabilite\n",
    "    if(!model.feasable) # réussi si la capacité restante est négative\n",
    "        TA=true\n",
    "        println(\"TA\")\n",
    "        \n",
    "    #Test d'optimalite\n",
    "    elseif(model.UpBound <= BestProfit) # réussi si la borne supérieure est pire que la meilleure solution connue\n",
    "        TO=true\n",
    "        println(\"TO\")\n",
    "        \n",
    "    #Test de resolution\n",
    "    elseif(Resolution(model)) # réussi si la solution optimale est entière\n",
    "        TR=true\n",
    "        println(\"TR\")\n",
    "        if (objective(model) >= BestProfit)\n",
    "            Bestsol = [var.value for var in model.x]\n",
    "            BestProfit = objective(model)\n",
    "            println(\"\\nNew Solution memorized \", Bestsol, \" with bestprofit \", BestProfit, \"\\n\")\n",
    "        end\n",
    "    else\n",
    "        println(\"Noeud non sondable\")\n",
    "    end\n",
    "    TA, TO, TR, Bestsol, BestProfit\n",
    "end"
   ]
  },
  {
   "cell_type": "code",
   "execution_count": 4,
   "metadata": {},
   "outputs": [
    {
     "data": {
      "text/plain": [
       "Resolution (generic function with 1 method)"
      ]
     },
     "execution_count": 4,
     "metadata": {},
     "output_type": "execute_result"
    }
   ],
   "source": [
    "function Resolution(model)\n",
    "    resolution = false\n",
    "    current_capacity = model.capacity\n",
    "    \n",
    "    if model.method == \"simple\"\n",
    "        for (index, var) in enumerate(model.x)\n",
    "            if var.free\n",
    "                current_capacity = model.capacity - sum(var.value * model.weight[var.index] for var in model.x)\n",
    "                weight = model.weight[var.index]\n",
    "                var.value = weight <=  current_capacity  ? 1.0 : 0.0\n",
    "                if (var.value == 0.0) # valeur binaire et non fractionnaire\n",
    "                    resolution = true\n",
    "                else\n",
    "                    resolution = false\n",
    "                end\n",
    "                break\n",
    "            end\n",
    "        end\n",
    "        \n",
    "    elseif model.method == \"methode2\"\n",
    "        resolution = prod(abs.([round.(var.value, digits=0) for var in model.x]-[var.value for var in model.x]) .<= fill(10^-5, size(model.x))) \n",
    "\n",
    "    end\n",
    "        \n",
    "    return resolution\n",
    "end"
   ]
  },
  {
   "cell_type": "markdown",
   "metadata": {},
   "source": [
    "## Procédure de séparation (branching) et stratégie d'exploration permettant de se placer au prochain noeud à traiter"
   ]
  },
  {
   "cell_type": "code",
   "execution_count": 5,
   "metadata": {},
   "outputs": [
    {
     "data": {
      "text/plain": [
       "ExplorerAutreNoeud (generic function with 1 method)"
      ]
     },
     "execution_count": 5,
     "metadata": {},
     "output_type": "execute_result"
    }
   ],
   "source": [
    "function SeparerNoeud(model, listx, listvals)\n",
    "    # ce noeud n'est pas sondable. Appliquer le critère de séparation pour le séparer en deux sous-nœuds\n",
    "    # et choisir le noeud-fils de gauche  \n",
    "\n",
    "    new_x = Array{variable, 1} # la variable du futur noeud-fils de gauche\n",
    "    \n",
    "    if model.method == \"simple\"\n",
    "        for (i, var) in enumerate(model.x)\n",
    "            if var.free # si la variable var est libre (disponible dans le sac)\n",
    "                # set var\n",
    "                var = model.x[i]\n",
    "                var.free = false # cette var n'est plus disponible dans la suite\n",
    "                var.value = 1.0\n",
    "\n",
    "                new_x = var\n",
    "                break\n",
    "            end\n",
    "        end\n",
    "        \n",
    "    elseif model.method == \"methode2\"\n",
    "        for (i, var) in enumerate(model.x)\n",
    "            if var.free && (abs(round(var.value, digits=0) - var.value ) >= 10^-5)\n",
    "                # set var\n",
    "                var = model.x[i]\n",
    "                var.free = false # cette var n'est plus disponible dans la suite\n",
    "                var.value = 1.0\n",
    "            \n",
    "                new_x = var\n",
    "            break\n",
    "        end\n",
    "    end\n",
    "\n",
    "        \n",
    "    end\n",
    "    \n",
    "    #println(\"\\nbranch on variable \", new_x, \"\\n\")\n",
    "\n",
    "    # depthfirst exploration strategy: the node selected will be the most left of the child-nodes just created\n",
    "    push!(listx,new_x) #save the identity of the object selected for branching\n",
    "    push!(listvals,1.0) #save the node selected, identified by the value assigned to the variable/object chosen\n",
    "    return listx, listvals\n",
    "end\n",
    "\n",
    "\n",
    "function ExplorerAutreNoeud(model, listx, listvals, listnodes)\n",
    "    #ce noeud est sondable, retourner au noeud parent puis au fils droit si possible.\n",
    "    \n",
    "    stop=false\n",
    "    #check if we are not at the root node\n",
    "    if (length(listx)>= 1)\n",
    "        #go back to parent node\n",
    "        var=pop!(listx)\n",
    "        theval=pop!(listvals)\n",
    "        tmp=pop!(listnodes)\n",
    "            \n",
    "        # Le noeud parent est à nouveau sondable\n",
    "        var.free = true\n",
    "        \n",
    "        #go to right child if possible, otherwise go back to parent\n",
    "        while( (theval==0.0) && (length(listx)>= 1))\n",
    "            var=pop!(listx)\n",
    "            theval=pop!(listvals)\n",
    "            tmp=pop!(listnodes)\n",
    "                \n",
    "            # Le nouveau noeud-fils est sondable\n",
    "            var.free = true\n",
    "            var.value = 0.0 # pour le fils droit\n",
    "                \n",
    "        end\n",
    "        if theval==1.0\n",
    "            \n",
    "            # Set la var avec la valeur 0.0\n",
    "            var.free = false\n",
    "            var.value = 0.0\n",
    "            \n",
    "            push!(listx,var)\n",
    "            push!(listvals,0.0)\n",
    "        else\n",
    "            println(\"\\nFINISHED\")\n",
    "            stop=true\n",
    "        end\n",
    "    else\n",
    "        #the root node was sondable\n",
    "        println(\"\\nFINISHED\")\n",
    "        stop=true\n",
    "    end\n",
    "    return listx, listvals, listnodes, stop  \n",
    "end"
   ]
  },
  {
   "cell_type": "markdown",
   "metadata": {},
   "source": [
    "###  Création de la relaxation linéaire (= modèle associé au noeud 0): <span style=\"color:red\"> SECTION A SUPPRIMER !!!! </span>\n",
    "\n",
    "<span style=\"color:red\"> Cette section est à commenter/supprimer et remplacer par vos propres calculs de bornes supérieures et autres, par exemple basées sur les bornes 1 et 2 vues en cours, ou d'autres calculs de bornes de votre choix/conception validés au préalable par votre encadrant/e de TP </span>"
   ]
  },
  {
   "cell_type": "code",
   "execution_count": 6,
   "metadata": {},
   "outputs": [
    {
     "data": {
      "text/plain": [
       "objective (generic function with 1 method)"
      ]
     },
     "execution_count": 6,
     "metadata": {},
     "output_type": "execute_result"
    }
   ],
   "source": [
    "# Constructeur pour les variables xi, dont l'instance peut être modifiée grâce à mutable\n",
    "mutable struct variable\n",
    "    index::Int64\n",
    "    value::Float64\n",
    "    free::Bool # pour savoir si c'est une variable décisionnelle qu'on a pas encore explorée\n",
    "end\n",
    "\n",
    "# Constructeur du modèle\n",
    "mutable struct Model\n",
    "    x::Array{variable, 1}\n",
    "    price::Array{Int64, 1}\n",
    "    weight::Array{Int64, 1}\n",
    "    capacity::Int64\n",
    "    feasable::Bool # pour le TA\n",
    "    UpBound::Float64\n",
    "    LowBound::Float64\n",
    "    method::String # pour les 2 méthodes\n",
    "end\n",
    "\n",
    "function objective(model)\n",
    "    return sum([var.value * model.price[var.index] for var in model.x])\n",
    "end\n"
   ]
  },
  {
   "cell_type": "code",
   "execution_count": 7,
   "metadata": {},
   "outputs": [
    {
     "data": {
      "text/plain": [
       "CreationModel (generic function with 1 method)"
      ]
     },
     "execution_count": 7,
     "metadata": {},
     "output_type": "execute_result"
    }
   ],
   "source": [
    "function CreationModel(price, weight, capacity, method)\n",
    "    n=length(price)\n",
    "    \n",
    "    # Règle de séparation\n",
    "    # choix de la variable fractionnaire dans l'ordre décroissant du ratio\n",
    "    ratio = price./weight\n",
    "    order = sortperm(ratio, rev=true) # renvoie la liste des indices par ordre décroissant de ratio\n",
    "    \n",
    "    # Initialisation du modèle\n",
    "    x = Array{variable, 1}(undef, n)\n",
    "    for i = 1:n\n",
    "        x[i] = variable(i ,0.0 ,true) # valeur initialisée à 0\n",
    "    end\n",
    "    feasable = true\n",
    "\n",
    "    UpBound = capacity * ratio[order][1]\n",
    "    LowBound = 0\n",
    "    \n",
    "    model = Model(x, price[order], weight[order], capacity, feasable, UpBound, LowBound, method)\n",
    "    \n",
    "    return model\n",
    "end"
   ]
  },
  {
   "cell_type": "code",
   "execution_count": 8,
   "metadata": {},
   "outputs": [
    {
     "data": {
      "text/plain": [
       "solve (generic function with 1 method)"
      ]
     },
     "execution_count": 8,
     "metadata": {},
     "output_type": "execute_result"
    }
   ],
   "source": [
    "function solve(model)\n",
    "    \n",
    "    current_capacity = model.capacity\n",
    "    current_capacity -= sum(var.value * model.weight[var.index] for var in model.x)\n",
    "    UpBound = 0\n",
    "    feasable = current_capacity >= 10^-5 # TA : Q positif   \n",
    "    \n",
    "    if feasable\n",
    "        if model.method == \"simple\"\n",
    "\n",
    "            # Calcul de la borne inférieure (profit du (sous-)problème)\n",
    "            LowBound = sum(var.value * model.price[var.index] for var in model.x) \n",
    "\n",
    "            UpBound = LowBound\n",
    "            for var in model.x\n",
    "                if var.free\n",
    "                    # Calcul de la borne supérieure\n",
    "                    ratio = (model.price[var.index] / model.weight[var.index])\n",
    "                    UpBound += current_capacity * ratio\n",
    "                    break\n",
    "                end\n",
    "            end\n",
    "\n",
    "    elseif model.method == \"methode2\"\n",
    "            # Parcourir les variables dans l'ordre décroissant du ratio\n",
    "            for (index, var) in enumerate(model.x) \n",
    "\n",
    "                # Si var n'a pas été explorée comme variable de séparation\n",
    "                if var.free\n",
    "\n",
    "                    current_capacity -= sum(var.value * model.weight[var.index] for var in model.x)\n",
    "\n",
    "                    if current_capacity <= 10^-5 # si le sac est plein\n",
    "                        var.value = 0.0 \n",
    "                    else  # si on peut encore remplir le sac\n",
    "                        weight = model.weight[var.index]\n",
    "                        if weight <= current_capacity # si on peut mettre l'objet en entier\n",
    "                            var.value = 1.0\n",
    "                            current_capacity -= weight\n",
    "                        else  # si on peut mettre une fraction de l'objet\n",
    "                            var.value = current_capacity / weight\n",
    "                            current_capacity = 0.0 # on a rempli le sac au maximum\n",
    "                        end\n",
    "                    end\n",
    "                end \n",
    "            end\n",
    "            UpBound = objective(model)\n",
    "\n",
    "        end\n",
    "    end\n",
    "    \n",
    "    model.feasable = feasable\n",
    "    #model.LowBound = LowBound\n",
    "    model.UpBound = UpBound\n",
    "end"
   ]
  },
  {
   "cell_type": "markdown",
   "metadata": {},
   "source": [
    "### Boucle principale : résoudre une relaxation, appliquer les tests de sondabilité, identifier le prochain noeud, répéter."
   ]
  },
  {
   "cell_type": "code",
   "execution_count": 9,
   "metadata": {},
   "outputs": [
    {
     "data": {
      "text/plain": [
       "SolveKnapInstance (generic function with 1 method)"
      ]
     },
     "execution_count": 9,
     "metadata": {},
     "output_type": "execute_result"
    }
   ],
   "source": [
    "function SolveKnapInstance(filename)\n",
    "    \n",
    "    price, weight, capacity = readKnaptxtInstance(filename)\n",
    "    model = CreationModel(price, weight, capacity, \"methode2\")\n",
    "\n",
    "    #create the structure to memorize the search tree for visualization at the end\n",
    "    trParentnodes=Int64[] #will store orig node of arc in search tree\n",
    "    trChildnodes=Int64[] #will store destination node of arc in search tree\n",
    "    trNamenodes=[] #will store names of nodes in search tree\n",
    "\n",
    "    #intermediate structure to navigate in the search tree\n",
    "    listx=[]\n",
    "    listvals=[]\n",
    "    listnodes=[]\n",
    "\n",
    "    BestProfit=-1\n",
    "    Bestsol=[]\n",
    "\n",
    "    current_node_number=0\n",
    "    stop = false\n",
    "    \n",
    "    while(!stop)\n",
    "\n",
    "        println(\"\\nNoeud n°\", current_node_number, \": \\n---------------\\n\")\n",
    "\n",
    "        #Update the graphical tree\n",
    "        push!(trNamenodes,current_node_number+1) \n",
    "        if(length(trNamenodes)>=2)\n",
    "            push!(trParentnodes,listnodes[end]+1) # +1 because the 1st node is \"node 0\"\n",
    "            push!(trChildnodes, current_node_number+1) # +1 because the 1st node is \"node 0\"\n",
    "        end\n",
    "        push!(listnodes, current_node_number)\n",
    "\n",
    "\n",
    "        print(\"Solution : \")\n",
    "        if(!model.feasable)\n",
    "            println(\" NOT AVAILABLE (probably infeasible or ressources limit reached)\")\n",
    "        else\n",
    "            print(\" LB=\", objective(model))\n",
    "            [print(\"     \", \"x\", v.index,\"=\",v.value) for v in model.x] \n",
    "        end\n",
    "        println(\" \"); \n",
    "\n",
    "\n",
    "        #println(\"\\nPrevious Solution memorized \", Bestsol, \" with bestprofit \", BestProfit, \"\\n\")\n",
    "        \n",
    "        solve(model)\n",
    "        \n",
    "        TA, TO, TR, Bestsol, BestProfit = TestsSondabilite(model, BestProfit, Bestsol)\n",
    "\n",
    "        is_node_sondable = TA || TO || TR\n",
    "\n",
    "\n",
    "        if(!is_node_sondable)\n",
    "            #SeparerNoeud_lexicographic_depthfirst!(listobjs, listvals, length(price))\n",
    "            listx, listvals = SeparerNoeud(model, listx, listvals)\n",
    "\n",
    "        else\n",
    "            #stop = ExplorerAutreNoeud_depthfirst!(listobjs, listvals, listnodes)\n",
    "            listx, listvals, listnodes, stop = ExplorerAutreNoeud(model, listx, listvals, listnodes)\n",
    "        end\n",
    "        \n",
    "        #Reset_allLP!(model2, x)\n",
    "\n",
    "        current_node_number = current_node_number + 1\n",
    "    end\n",
    "\n",
    "    return BestProfit, Bestsol, trParentnodes, trChildnodes, trNamenodes\n",
    "\n",
    "end\n"
   ]
  },
  {
   "cell_type": "markdown",
   "metadata": {},
   "source": [
    "### Affichage du résultat final"
   ]
  },
  {
   "cell_type": "code",
   "execution_count": 10,
   "metadata": {},
   "outputs": [
    {
     "name": "stdout",
     "output_type": "stream",
     "text": [
      "\n",
      "Noeud n°0: \n",
      "---------------\n",
      "\n",
      "Solution :  LB=0.0     x1=0.0     x2=0.0     x3=0.0     x4=0.0 \n",
      "Noeud non sondable\n",
      "\n",
      "Noeud n°1: \n",
      "---------------\n",
      "\n",
      "Solution :  LB=82.0     x1=1.0     x2=1.0     x3=0.0     x4=0.0 \n",
      "TA\n",
      "\n",
      "Noeud n°2: \n",
      "---------------\n",
      "\n",
      "Solution :  NOT AVAILABLE (probably infeasible or ressources limit reached)\n",
      " \n",
      "Noeud non sondable\n",
      "\n",
      "Noeud n°3: \n",
      "---------------\n",
      "\n",
      "Solution :  LB=40.0     x1=1.0     x2=0.0     x3=0.0     x4=0.0 \n",
      "Noeud non sondable\n",
      "\n",
      "Noeud n°4: \n",
      "---------------\n",
      "\n",
      "Solution :  LB=65.0     x1=1.0     x2=0.0     x3=1.0     x4=0.0 \n",
      "TR\n",
      "\n",
      "New Solution memorized [1.0, 0.0, 1.0, 0.0] with bestprofit 65.0\n",
      "\n",
      "\n",
      "Noeud n°5: \n",
      "---------------\n",
      "\n",
      "Solution :  LB=40.0     x1=1.0     x2=0.0     x3=0.0     x4=0.0 \n",
      "TO\n",
      "\n",
      "Noeud n°6: \n",
      "---------------\n",
      "\n",
      "Solution :  LB=8.0     x1=0.0     x2=0.0     x3=0.0     x4=0.6666666666666666 \n",
      "TO\n",
      "\n",
      "FINISHED\n",
      "\n",
      "******\n",
      "\n",
      "Optimal value = 65.0\n",
      "\n",
      "Optimal x=[1.0, 0.0, 1.0, 0.0]\n"
     ]
    },
    {
     "data": {
      "image/svg+xml": [
       "<?xml version=\"1.0\" encoding=\"utf-8\"?>\n",
       "<svg xmlns=\"http://www.w3.org/2000/svg\" xmlns:xlink=\"http://www.w3.org/1999/xlink\" width=\"600\" height=\"400\" viewBox=\"0 0 2400 1600\">\n",
       "<defs>\n",
       "  <clipPath id=\"clip030\">\n",
       "    <rect x=\"0\" y=\"0\" width=\"2400\" height=\"1600\"/>\n",
       "  </clipPath>\n",
       "</defs>\n",
       "<path clip-path=\"url(#clip030)\" d=\"\n",
       "M0 1600 L2400 1600 L2400 0 L0 0  Z\n",
       "  \" fill=\"#ffffff\" fill-rule=\"evenodd\" fill-opacity=\"1\"/>\n",
       "<defs>\n",
       "  <clipPath id=\"clip031\">\n",
       "    <rect x=\"480\" y=\"0\" width=\"1681\" height=\"1600\"/>\n",
       "  </clipPath>\n",
       "</defs>\n",
       "<path clip-path=\"url(#clip030)\" d=\"\n",
       "M447.244 1552.76 L1952.76 1552.76 L1952.76 47.2441 L447.244 47.2441  Z\n",
       "  \" fill=\"#ffffff\" fill-rule=\"evenodd\" fill-opacity=\"1\"/>\n",
       "<defs>\n",
       "  <clipPath id=\"clip032\">\n",
       "    <rect x=\"447\" y=\"47\" width=\"1507\" height=\"1507\"/>\n",
       "  </clipPath>\n",
       "</defs>\n",
       "<polyline clip-path=\"url(#clip032)\" style=\"stroke:#000000; stroke-linecap:round; stroke-linejoin:round; stroke-width:4; stroke-opacity:1; fill:none\" points=\"\n",
       "  1301.46,262.317 1302.98,271.706 1307.39,280.471 1314.49,288.658 1324.06,296.313 1335.89,303.484 1349.75,310.215 1365.43,316.554 1382.73,322.546 1401.42,328.238 \n",
       "  1421.29,333.675 1442.13,338.905 1463.72,343.973 1485.84,348.925 1508.29,353.808 1530.85,358.668 1553.29,363.551 1575.42,368.503 1597.01,373.571 1617.85,378.801 \n",
       "  1637.72,384.238 1656.41,389.93 1673.7,395.922 1689.39,402.261 1703.25,408.992 1715.07,416.163 1724.64,423.818 1731.74,432.006 1736.16,440.77 1737.68,450.159 \n",
       "  \n",
       "  \"/>\n",
       "<polyline clip-path=\"url(#clip032)\" style=\"stroke:#000000; stroke-linecap:round; stroke-linejoin:round; stroke-width:4; stroke-opacity:1; fill:none\" points=\"\n",
       "  1301.46,262.317 1300.38,275.414 1297.24,287.928 1292.2,299.903 1285.41,311.381 1277.01,322.407 1267.17,333.023 1256.04,343.272 1243.76,353.198 1230.49,362.843 \n",
       "  1216.38,372.251 1201.59,381.465 1186.26,390.528 1170.56,399.483 1154.62,408.373 1138.61,417.242 1122.68,426.132 1106.97,435.087 1091.64,444.15 1076.85,453.364 \n",
       "  1062.74,462.772 1049.47,472.417 1037.2,482.343 1026.06,492.592 1016.22,503.208 1007.83,514.234 1001.03,525.712 995.993,537.687 992.856,550.201 991.777,563.298 \n",
       "  \n",
       "  \"/>\n",
       "<polyline clip-path=\"url(#clip032)\" style=\"stroke:#000000; stroke-linecap:round; stroke-linejoin:round; stroke-width:4; stroke-opacity:1; fill:none\" points=\"\n",
       "  991.777,563.298 992.732,576.686 995.505,589.725 999.962,602.44 1005.97,614.857 1013.39,627.003 1022.09,638.903 1031.94,650.582 1042.8,662.067 1054.53,673.384 \n",
       "  1067.01,684.559 1080.09,695.617 1093.64,706.584 1107.53,717.487 1121.62,728.351 1135.78,739.202 1149.87,750.065 1163.76,760.968 1177.31,771.936 1190.39,782.994 \n",
       "  1202.86,794.168 1214.6,805.485 1225.46,816.97 1235.3,828.65 1244,840.549 1251.43,852.695 1257.43,865.112 1261.89,877.827 1264.66,890.866 1265.62,904.254 \n",
       "  \n",
       "  \"/>\n",
       "<polyline clip-path=\"url(#clip032)\" style=\"stroke:#000000; stroke-linecap:round; stroke-linejoin:round; stroke-width:4; stroke-opacity:1; fill:none\" points=\"\n",
       "  1265.62,904.254 1266.48,919.683 1268.98,935.008 1273,950.238 1278.42,965.379 1285.12,980.44 1292.97,995.428 1301.85,1010.35 1311.65,1025.22 1322.23,1040.03 \n",
       "  1333.49,1054.8 1345.29,1069.54 1357.52,1084.26 1370.05,1098.95 1382.76,1113.63 1395.53,1128.31 1408.25,1142.99 1420.78,1157.68 1433,1172.39 1444.8,1187.13 \n",
       "  1456.06,1201.91 1466.64,1216.72 1476.44,1231.59 1485.32,1246.51 1493.17,1261.5 1499.87,1276.56 1505.29,1291.7 1509.31,1306.93 1511.81,1322.25 1512.67,1337.68 \n",
       "  \n",
       "  \"/>\n",
       "<polyline clip-path=\"url(#clip032)\" style=\"stroke:#000000; stroke-linecap:round; stroke-linejoin:round; stroke-width:4; stroke-opacity:1; fill:none\" points=\"\n",
       "  1265.62,904.254 1264.79,917.528 1262.38,930.611 1258.5,943.517 1253.27,956.261 1246.82,968.856 1239.25,981.317 1230.68,993.658 1221.24,1005.89 1211.03,1018.04 \n",
       "  1200.18,1030.1 1188.8,1042.1 1177.01,1054.05 1164.93,1065.97 1152.67,1077.87 1140.35,1089.75 1128.1,1101.65 1116.01,1113.57 1104.22,1125.52 1092.85,1137.52 \n",
       "  1081.99,1149.58 1071.79,1161.73 1062.34,1173.96 1053.78,1186.3 1046.21,1198.76 1039.75,1211.36 1034.53,1224.1 1030.65,1237.01 1028.24,1250.09 1027.41,1263.37 \n",
       "  \n",
       "  \"/>\n",
       "<polyline clip-path=\"url(#clip032)\" style=\"stroke:#000000; stroke-linecap:round; stroke-linejoin:round; stroke-width:4; stroke-opacity:1; fill:none\" points=\"\n",
       "  991.777,563.298 990.629,579.404 987.292,595.089 981.929,610.385 974.702,625.322 965.773,639.932 955.304,654.246 943.457,668.296 930.394,682.111 916.278,695.724 \n",
       "  901.27,709.166 885.532,722.467 869.228,735.66 852.518,748.774 835.564,761.842 818.53,774.894 801.577,787.962 784.867,801.076 768.562,814.268 752.824,827.57 \n",
       "  737.816,841.011 723.7,854.625 710.637,868.44 698.79,882.489 688.321,896.803 679.392,911.414 672.165,926.351 666.802,941.647 663.465,957.332 662.317,973.438 \n",
       "  \n",
       "  \"/>\n",
       "<path clip-path=\"url(#clip032)\" d=\"\n",
       "M1323.39 262.317 L1312.42 243.319 L1290.49 243.319 L1279.52 262.317 L1290.49 281.316 L1312.42 281.316 L1323.39 262.317 L1323.39 262.317  Z\n",
       "  \" fill=\"#009af9\" fill-rule=\"evenodd\" fill-opacity=\"1\"/>\n",
       "<polyline clip-path=\"url(#clip032)\" style=\"stroke:#000000; stroke-linecap:round; stroke-linejoin:round; stroke-width:4; stroke-opacity:1; fill:none\" points=\"\n",
       "  1323.39,262.317 1312.42,243.319 1290.49,243.319 1279.52,262.317 1290.49,281.316 1312.42,281.316 1323.39,262.317 \n",
       "  \"/>\n",
       "<path clip-path=\"url(#clip032)\" d=\"\n",
       "M1759.62 450.159 L1748.65 431.161 L1726.71 431.161 L1715.75 450.159 L1726.71 469.157 L1748.65 469.157 L1759.62 450.159 L1759.62 450.159  Z\n",
       "  \" fill=\"#009af9\" fill-rule=\"evenodd\" fill-opacity=\"1\"/>\n",
       "<polyline clip-path=\"url(#clip032)\" style=\"stroke:#000000; stroke-linecap:round; stroke-linejoin:round; stroke-width:4; stroke-opacity:1; fill:none\" points=\"\n",
       "  1759.62,450.159 1748.65,431.161 1726.71,431.161 1715.75,450.159 1726.71,469.157 1748.65,469.157 1759.62,450.159 \n",
       "  \"/>\n",
       "<path clip-path=\"url(#clip032)\" d=\"\n",
       "M1013.71 563.298 L1002.75 544.3 L980.808 544.3 L969.84 563.298 L980.808 582.296 L1002.75 582.296 L1013.71 563.298 L1013.71 563.298  Z\n",
       "  \" fill=\"#009af9\" fill-rule=\"evenodd\" fill-opacity=\"1\"/>\n",
       "<polyline clip-path=\"url(#clip032)\" style=\"stroke:#000000; stroke-linecap:round; stroke-linejoin:round; stroke-width:4; stroke-opacity:1; fill:none\" points=\"\n",
       "  1013.71,563.298 1002.75,544.3 980.808,544.3 969.84,563.298 980.808,582.296 1002.75,582.296 1013.71,563.298 \n",
       "  \"/>\n",
       "<path clip-path=\"url(#clip032)\" d=\"\n",
       "M1287.56 904.254 L1276.59 885.256 L1254.65 885.256 L1243.68 904.254 L1254.65 923.253 L1276.59 923.253 L1287.56 904.254 L1287.56 904.254  Z\n",
       "  \" fill=\"#009af9\" fill-rule=\"evenodd\" fill-opacity=\"1\"/>\n",
       "<polyline clip-path=\"url(#clip032)\" style=\"stroke:#000000; stroke-linecap:round; stroke-linejoin:round; stroke-width:4; stroke-opacity:1; fill:none\" points=\"\n",
       "  1287.56,904.254 1276.59,885.256 1254.65,885.256 1243.68,904.254 1254.65,923.253 1276.59,923.253 1287.56,904.254 \n",
       "  \"/>\n",
       "<path clip-path=\"url(#clip032)\" d=\"\n",
       "M1534.61 1337.68 L1523.64 1318.68 L1501.71 1318.68 L1490.74 1337.68 L1501.71 1356.68 L1523.64 1356.68 L1534.61 1337.68 L1534.61 1337.68  Z\n",
       "  \" fill=\"#009af9\" fill-rule=\"evenodd\" fill-opacity=\"1\"/>\n",
       "<polyline clip-path=\"url(#clip032)\" style=\"stroke:#000000; stroke-linecap:round; stroke-linejoin:round; stroke-width:4; stroke-opacity:1; fill:none\" points=\"\n",
       "  1534.61,1337.68 1523.64,1318.68 1501.71,1318.68 1490.74,1337.68 1501.71,1356.68 1523.64,1356.68 1534.61,1337.68 \n",
       "  \"/>\n",
       "<path clip-path=\"url(#clip032)\" d=\"\n",
       "M1049.34 1263.37 L1038.37 1244.37 L1016.44 1244.37 L1005.47 1263.37 L1016.44 1282.36 L1038.37 1282.36 L1049.34 1263.37 L1049.34 1263.37  Z\n",
       "  \" fill=\"#009af9\" fill-rule=\"evenodd\" fill-opacity=\"1\"/>\n",
       "<polyline clip-path=\"url(#clip032)\" style=\"stroke:#000000; stroke-linecap:round; stroke-linejoin:round; stroke-width:4; stroke-opacity:1; fill:none\" points=\"\n",
       "  1049.34,1263.37 1038.37,1244.37 1016.44,1244.37 1005.47,1263.37 1016.44,1282.36 1038.37,1282.36 1049.34,1263.37 \n",
       "  \"/>\n",
       "<path clip-path=\"url(#clip032)\" d=\"\n",
       "M684.255 973.438 L673.286 954.439 L651.348 954.439 L640.38 973.438 L651.348 992.436 L673.286 992.436 L684.255 973.438 L684.255 973.438  Z\n",
       "  \" fill=\"#009af9\" fill-rule=\"evenodd\" fill-opacity=\"1\"/>\n",
       "<polyline clip-path=\"url(#clip032)\" style=\"stroke:#000000; stroke-linecap:round; stroke-linejoin:round; stroke-width:4; stroke-opacity:1; fill:none\" points=\"\n",
       "  684.255,973.438 673.286,954.439 651.348,954.439 640.38,973.438 651.348,992.436 673.286,992.436 684.255,973.438 \n",
       "  \"/>\n",
       "<path clip-path=\"url(#clip032)\" d=\"M1301.46 262.717 L1301.11 262.517 L1301.11 262.117 L1301.46 261.917 L1301.8 262.117 L1301.8 262.517 Z\" fill=\"#009af9\" fill-rule=\"evenodd\" fill-opacity=\"1\" stroke=\"#000000\" stroke-opacity=\"1\" stroke-width=\"3.2\"/>\n",
       "<path clip-path=\"url(#clip032)\" d=\"M1737.68 450.559 L1737.34 450.359 L1737.34 449.959 L1737.68 449.759 L1738.03 449.959 L1738.03 450.359 Z\" fill=\"#009af9\" fill-rule=\"evenodd\" fill-opacity=\"1\" stroke=\"#000000\" stroke-opacity=\"1\" stroke-width=\"3.2\"/>\n",
       "<path clip-path=\"url(#clip032)\" d=\"M991.777 563.698 L991.431 563.498 L991.431 563.098 L991.777 562.898 L992.124 563.098 L992.124 563.498 Z\" fill=\"#009af9\" fill-rule=\"evenodd\" fill-opacity=\"1\" stroke=\"#000000\" stroke-opacity=\"1\" stroke-width=\"3.2\"/>\n",
       "<path clip-path=\"url(#clip032)\" d=\"M1265.62 904.654 L1265.27 904.454 L1265.27 904.054 L1265.62 903.854 L1265.97 904.054 L1265.97 904.454 Z\" fill=\"#009af9\" fill-rule=\"evenodd\" fill-opacity=\"1\" stroke=\"#000000\" stroke-opacity=\"1\" stroke-width=\"3.2\"/>\n",
       "<path clip-path=\"url(#clip032)\" d=\"M1512.67 1338.08 L1512.33 1337.88 L1512.33 1337.48 L1512.67 1337.28 L1513.02 1337.48 L1513.02 1337.88 Z\" fill=\"#009af9\" fill-rule=\"evenodd\" fill-opacity=\"1\" stroke=\"#000000\" stroke-opacity=\"1\" stroke-width=\"3.2\"/>\n",
       "<path clip-path=\"url(#clip032)\" d=\"M1027.41 1263.77 L1027.06 1263.57 L1027.06 1263.17 L1027.41 1262.97 L1027.75 1263.17 L1027.75 1263.57 Z\" fill=\"#009af9\" fill-rule=\"evenodd\" fill-opacity=\"1\" stroke=\"#000000\" stroke-opacity=\"1\" stroke-width=\"3.2\"/>\n",
       "<path clip-path=\"url(#clip032)\" d=\"M662.317 973.838 L661.971 973.638 L661.971 973.238 L662.317 973.038 L662.664 973.238 L662.664 973.638 Z\" fill=\"#009af9\" fill-rule=\"evenodd\" fill-opacity=\"1\" stroke=\"#000000\" stroke-opacity=\"1\" stroke-width=\"3.2\"/>\n",
       "<path clip-path=\"url(#clip030)\" d=\"M1293.04 273.994 L1299.72 273.994 L1299.72 250.924 L1292.45 252.382 L1292.45 248.656 L1299.68 247.197 L1303.77 247.197 L1303.77 273.994 L1310.46 273.994 L1310.46 277.437 L1293.04 277.437 L1293.04 273.994 Z\" fill=\"#000000\" fill-rule=\"evenodd\" fill-opacity=\"1\" /><path clip-path=\"url(#clip030)\" d=\"M1733 461.836 L1747.28 461.836 L1747.28 465.279 L1728.08 465.279 L1728.08 461.836 Q1730.41 459.425 1734.42 455.374 Q1738.45 451.303 1739.49 450.129 Q1741.45 447.921 1742.22 446.402 Q1743.01 444.862 1743.01 443.384 Q1743.01 440.973 1741.31 439.454 Q1739.63 437.935 1736.91 437.935 Q1734.99 437.935 1732.84 438.604 Q1730.72 439.272 1728.28 440.629 L1728.28 436.497 Q1730.76 435.505 1732.9 434.998 Q1735.05 434.492 1736.83 434.492 Q1741.53 434.492 1744.33 436.842 Q1747.12 439.191 1747.12 443.12 Q1747.12 444.984 1746.41 446.665 Q1745.72 448.326 1743.88 450.594 Q1743.37 451.182 1740.66 453.997 Q1737.95 456.792 1733 461.836 Z\" fill=\"#000000\" fill-rule=\"evenodd\" fill-opacity=\"1\" /><path clip-path=\"url(#clip030)\" d=\"M995.494 562.113 Q998.431 562.741 1000.07 564.726 Q1001.73 566.711 1001.73 569.627 Q1001.73 574.104 998.654 576.555 Q995.575 579.005 989.904 579.005 Q988 579.005 985.974 578.62 Q983.969 578.256 981.822 577.506 L981.822 573.557 Q983.523 574.549 985.549 575.056 Q987.574 575.562 989.782 575.562 Q993.63 575.562 995.636 574.043 Q997.661 572.524 997.661 569.627 Q997.661 566.954 995.777 565.455 Q993.914 563.936 990.572 563.936 L987.048 563.936 L987.048 560.574 L990.734 560.574 Q993.752 560.574 995.352 559.379 Q996.952 558.163 996.952 555.895 Q996.952 553.566 995.291 552.33 Q993.651 551.074 990.572 551.074 Q988.891 551.074 986.967 551.439 Q985.042 551.803 982.733 552.573 L982.733 548.927 Q985.063 548.279 987.088 547.955 Q989.134 547.631 990.937 547.631 Q995.595 547.631 998.309 549.758 Q1001.02 551.864 1001.02 555.47 Q1001.02 557.981 999.585 559.723 Q998.147 561.445 995.494 562.113 Z\" fill=\"#000000\" fill-rule=\"evenodd\" fill-opacity=\"1\" /><path clip-path=\"url(#clip030)\" d=\"M1268.25 892.699 L1257.92 908.842 L1268.25 908.842 L1268.25 892.699 M1267.18 889.134 L1272.32 889.134 L1272.32 908.842 L1276.64 908.842 L1276.64 912.245 L1272.32 912.245 L1272.32 919.374 L1268.25 919.374 L1268.25 912.245 L1254.6 912.245 L1254.6 908.295 L1267.18 889.134 Z\" fill=\"#000000\" fill-rule=\"evenodd\" fill-opacity=\"1\" /><path clip-path=\"url(#clip030)\" d=\"M1504.17 1322.56 L1520.23 1322.56 L1520.23 1326.01 L1507.91 1326.01 L1507.91 1333.42 Q1508.81 1333.12 1509.7 1332.97 Q1510.59 1332.81 1511.48 1332.81 Q1516.54 1332.81 1519.5 1335.59 Q1522.46 1338.36 1522.46 1343.1 Q1522.46 1347.98 1519.42 1350.7 Q1516.38 1353.39 1510.85 1353.39 Q1508.95 1353.39 1506.96 1353.07 Q1505 1352.74 1502.89 1352.09 L1502.89 1347.98 Q1504.71 1348.97 1506.66 1349.46 Q1508.6 1349.95 1510.77 1349.95 Q1514.27 1349.95 1516.32 1348.1 Q1518.37 1346.26 1518.37 1343.1 Q1518.37 1339.94 1516.32 1338.1 Q1514.27 1336.25 1510.77 1336.25 Q1509.13 1336.25 1507.49 1336.62 Q1505.87 1336.98 1504.17 1337.75 L1504.17 1322.56 Z\" fill=\"#000000\" fill-rule=\"evenodd\" fill-opacity=\"1\" /><path clip-path=\"url(#clip030)\" d=\"M1027.76 1261.73 Q1025.01 1261.73 1023.39 1263.62 Q1021.78 1265.5 1021.78 1268.78 Q1021.78 1272.04 1023.39 1273.95 Q1025.01 1275.83 1027.76 1275.83 Q1030.51 1275.83 1032.11 1273.95 Q1033.74 1272.04 1033.74 1268.78 Q1033.74 1265.5 1032.11 1263.62 Q1030.51 1261.73 1027.76 1261.73 M1035.88 1248.91 L1035.88 1252.64 Q1034.34 1251.91 1032.76 1251.53 Q1031.2 1251.14 1029.66 1251.14 Q1025.61 1251.14 1023.47 1253.88 Q1021.34 1256.61 1021.04 1262.14 Q1022.23 1260.38 1024.03 1259.45 Q1025.84 1258.49 1028 1258.49 Q1032.56 1258.49 1035.19 1261.27 Q1037.85 1264.02 1037.85 1268.78 Q1037.85 1273.44 1035.09 1276.26 Q1032.34 1279.07 1027.76 1279.07 Q1022.51 1279.07 1019.74 1275.06 Q1016.96 1271.03 1016.96 1263.4 Q1016.96 1256.23 1020.37 1251.97 Q1023.77 1247.7 1029.5 1247.7 Q1031.04 1247.7 1032.6 1248 Q1034.18 1248.31 1035.88 1248.91 Z\" fill=\"#000000\" fill-rule=\"evenodd\" fill-opacity=\"1\" /><path clip-path=\"url(#clip030)\" d=\"M652.595 958.318 L672.039 958.318 L672.039 960.06 L661.061 988.558 L656.788 988.558 L667.118 961.761 L652.595 961.761 L652.595 958.318 Z\" fill=\"#000000\" fill-rule=\"evenodd\" fill-opacity=\"1\" /></svg>\n"
      ]
     },
     "execution_count": 10,
     "metadata": {},
     "output_type": "execute_result"
    }
   ],
   "source": [
    "BestProfit, Bestsol, trParentnodes, trChildnodes, trNamenodes = SolveKnapInstance(\"instancesETU/KNAPnewformat/test.opb.txt\")\n",
    "println(\"\\n******\\n\\nOptimal value = \", BestProfit, \"\\n\\nOptimal x=\", Bestsol)\n",
    "graphplot(trParentnodes, trChildnodes, names=trNamenodes, method=:tree)"
   ]
  },
  {
   "cell_type": "code",
   "execution_count": null,
   "metadata": {},
   "outputs": [],
   "source": []
  }
 ],
 "metadata": {
  "kernelspec": {
   "display_name": "Julia 1.8.4",
   "language": "julia",
   "name": "julia-1.8"
  },
  "language_info": {
   "file_extension": ".jl",
   "mimetype": "application/julia",
   "name": "julia",
   "version": "1.8.4"
  }
 },
 "nbformat": 4,
 "nbformat_minor": 4
}

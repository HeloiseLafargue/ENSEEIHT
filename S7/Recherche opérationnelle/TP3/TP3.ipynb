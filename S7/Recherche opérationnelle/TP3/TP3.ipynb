{
 "cells": [
  {
   "cell_type": "markdown",
   "metadata": {},
   "source": [
    "# TP 3 : Programmation dynamique"
   ]
  },
  {
   "cell_type": "markdown",
   "metadata": {},
   "source": [
    "### Questions\n",
    "\n",
    "    1. Donner une courte argumentation de l'adéquation du résultat avec l'instance résolue.\n",
    "    \n",
    "Avec l'algorithme de programmation dynamique, on doit trouver que le coût maximal est de 65, en mettant les objets 2 et 3 (de 4kg et 5kg). C'est bien ce que l'on retrouve ici.\n",
    "\n",
    "    2. Expliquer le fonctionnement de votre algorithme.\n",
    "\n",
    "Cet algorithme a pour objectif de résoudre le problème du sac à dos, c'est-à-dire de trouver la combinaison d'objets à mettre dans un sac ayant une capacité donnée afin d'obtenir le profit maximum.\n",
    "\n",
    "Pour cela, on crée d'abord deux tableaux : un pour stocker les profits et l'autre pour stocker la liste des objets qui ont été sélectionnés. Ensuite, on classe les objets par ordre croissant de poids. Et on crée une liste où on mettra la solution mémorisée (les objets qu'on met dans le sac).\n",
    "\n",
    "On initialise la première ligne (ie celle pour l'objet de plus faible poids) du tableau des profits en fonction du poids de l'objet : si le poids de l'objet est supérieur à la capacité du sac, alors le profit est nul, sinon, le profit est égal au prix de l'objet et l'objet est ajouté à la liste des objets sélectionnés.\n",
    "\n",
    "Puis, on remplit le reste du tableau en parcourant chaque ligne (correspondant à un objet) et chaque colonne (correspondant à une capacité du sac). Pour chaque case, on compare le profit obtenu en prenant l'objet et celui obtenu en ne le prenant pas. Si le profit est meilleur en prenant l'objet, celui-ci est ajouté à la liste des objets sélectionnés et le profit est mis à jour dans le tableau. Sinon, le profit reste inchangé et la liste des objets sélectionnés est copiée de la ligne précédente.\n",
    "\n",
    "Enfin, l'algorithme affiche le tableau des profits et retourne le profit maximum et la liste des objets sélectionnés.\n",
    "    \n",
    "    3. Tester l'algorithme sur plusieurs instances de tailles différentes fournies dans le TP2, donner les solutions obtenues et les valeurs de fonction-objectif. Comparer avec celles obtenues avec le branch-and-bound implémenté lors du TP2.\n",
    "    \n",
    "Pour l'exemple du TP2 avec les sac à dos, on trouve les mêmes résultats : $BestProfit = 65$ avec les objets de 4kg et 5kg.\n",
    "    \n",
    "Par exemple, pour les fichiers suivant on obtient les bons profits, on en conclut que l'algorithme fonctionne bien.\n",
    "\n",
    "- profit_ceiling/knapPI_15_20_1000_1_-999.opb.txt\n",
    "\n",
    "Optimal value = 999 -> C'est ce qui était attendu\n",
    "\n",
    "Optimal x = Any[\"7\", \"237\", \"334\", \"416\"]\n",
    "\n",
    "- weakly_correlated/knapPI_2_50_1000_1_-1396.opb.txt\n",
    "\n",
    "Optimal value = 1396\n",
    "\n",
    "Optimal x = Any[\"70\", \"72\", \"97\", \"122\", \"213\", \"421\"]\n",
    "\n",
    "- subset_sum/knapPI_6_100_1000_5_-2399.opb.txt\n",
    "\n",
    "Optimal value = 2399\n",
    "\n",
    "Optimal x = Any[\"1\", \"6\", \"6\", \"8\", \"9\", \"9\", \"15\", \"18\", \"20\", \"20\", \"23\", \"27\", \"28\", \"29\", \"32\", \"33\", \"34\", \"35\", \"39\", \"39\", \"43\", \"44\", \"45\", \"46\", \"47\", \"53\", \"57\", \"58\", \"59\", \"59\", \"61\", \"63\", \"64\", \"65\", \"70\", \"70\", \"70\", \"70\", \"72\", \"81\", \"94\", \"94\", \"94\", \"96\", \"97\", \"98\", \"98\", \"100\"]\n",
    "\n",
    "- uncorrelated_span/knapPI_11_50_1000_1_-1428.opb.txt\n",
    "\n",
    "Optimal value = 1428\n",
    "\n",
    "Optimal x = Any[\"66\", \"66\", \"132\", \"198\", \"198\", \"264\"]\n",
    "    "
   ]
  },
  {
   "cell_type": "markdown",
   "metadata": {},
   "source": [
    "### Récupération des données"
   ]
  },
  {
   "cell_type": "code",
   "execution_count": 2,
   "metadata": {},
   "outputs": [
    {
     "data": {
      "text/plain": [
       "readKnaptxtInstance (generic function with 1 method)"
      ]
     },
     "execution_count": 2,
     "metadata": {},
     "output_type": "execute_result"
    }
   ],
   "source": [
    "function readKnaptxtInstance(filename)\n",
    "    price=[]\n",
    "    weight=[]\n",
    "    KnapCap=[]\n",
    "    open(filename) do f\n",
    "        for i in 1:3\n",
    "            tok = split(readline(f))\n",
    "            if(tok[1] == \"ListPrices=\")\n",
    "                for i in 2:(length(tok)-1)\n",
    "                    push!(price,parse(Int64, tok[i]))\n",
    "                end\n",
    "            elseif(tok[1] == \"ListWeights=\")\n",
    "                for i in 2:(length(tok)-1)\n",
    "                    push!(weight,parse(Int64, tok[i]))\n",
    "                end\n",
    "            elseif(tok[1] == \"Capacity=\")\n",
    "                push!(KnapCap, parse(Int64, tok[2]))\n",
    "            else\n",
    "                println(\"Unknown read :\", tok)\n",
    "            end \n",
    "        end\n",
    "    end\n",
    "    capacity=KnapCap[1]\n",
    "    return price, weight, capacity\n",
    "end"
   ]
  },
  {
   "cell_type": "markdown",
   "metadata": {},
   "source": [
    "### Création du tableau"
   ]
  },
  {
   "cell_type": "code",
   "execution_count": 3,
   "metadata": {},
   "outputs": [
    {
     "data": {
      "text/plain": [
       "CreateTab (generic function with 1 method)"
      ]
     },
     "execution_count": 3,
     "metadata": {},
     "output_type": "execute_result"
    }
   ],
   "source": [
    "function CreateTab(price, weight, capacity)\n",
    "    \n",
    "    ### Création des tableaux\n",
    "    n = length(price)\n",
    "    tabPrix = zeros(Int64, n, capacity) \n",
    "    tabPoids = [[] for i=1:n, j=1:capacity]\n",
    "    \n",
    "    ### Classer les objets par ordre croissant de poids\n",
    "    order = sortperm(weight)\n",
    "    weight = weight[order]\n",
    "    price = price[order]\n",
    "    \n",
    "    ### Liste de la solution mémorisée (les objets qu'on met dans le sac)\n",
    "    obj = []\n",
    "    \n",
    "    ### Initialiser la première ligne\n",
    "    for j in 1:capacity\n",
    "        if j < weight[1]\n",
    "            tabPrix[1,j] = 0\n",
    "        else\n",
    "            tabPrix[1,j] = price[1]\n",
    "            tabPoids[1,j] = [string(weight[1])]\n",
    "        end\n",
    "    end\n",
    "    \n",
    "    ### Remplir le tableau à partir de la 2e ligne\n",
    "    for i in 2:n\n",
    "        for j in 1:capacity\n",
    "            if (j-weight[i]) < 0\n",
    "                tabPrix[i,j] = tabPrix[i-1, j]\n",
    "                tabPoids[i,j] = tabPoids[i-1, j]\n",
    "            elseif (j-weight[i]) == 0\n",
    "                tabPrix[i,j] = max(tabPrix[i-1,j], price[i])\n",
    "                if tabPrix[i,j] == price[i]\n",
    "                    tabPoids[i,j] = [string(weight[i])]\n",
    "                else\n",
    "                    tabPoids[i,j] = tabPoids[i-1,j]\n",
    "                end\n",
    "            else \n",
    "                tabPrix[i,j] = max(tabPrix[i-1, j], tabPrix[i-1, j-weight[i]] + price[i])\n",
    "                if tabPrix[i,j] == tabPrix[i-1, j]\n",
    "                    tabPoids[i,j] = tabPoids[i-1,j]\n",
    "                else\n",
    "                    tabPoids[i,j] = append!(copy(tabPoids[i-1,j-weight[i]]),[string(weight[i])])\n",
    "                end\n",
    "            end \n",
    "        end\n",
    "    end\n",
    "    \n",
    "    display(tabPrix)\n",
    "    #show(stdout, \"text/plain\", tabPoids)\n",
    "\n",
    "    BestProfit = tabPrix[n, capacity]\n",
    "    BestSolution = tabPoids[n, capacity]\n",
    "\n",
    "    return BestProfit, BestSolution\n",
    "end"
   ]
  },
  {
   "cell_type": "code",
   "execution_count": 4,
   "metadata": {},
   "outputs": [
    {
     "data": {
      "text/plain": [
       "4×10 Matrix{Int64}:\n",
       " 0  0  12  12  12  12  12  12  12  12\n",
       " 0  0  12  40  40  40  52  52  52  52\n",
       " 0  0  12  40  40  40  52  52  65  65\n",
       " 0  0  12  40  40  40  52  52  65  65"
      ]
     },
     "metadata": {},
     "output_type": "display_data"
    },
    {
     "data": {
      "text/plain": [
       "(65, Any[\"4\", \"5\"])"
      ]
     },
     "execution_count": 4,
     "metadata": {},
     "output_type": "execute_result"
    }
   ],
   "source": [
    "price = [42, 25, 40, 12]\n",
    "weight = [7,5,4,3]\n",
    "capacity = 10\n",
    "\n",
    "CreateTab(price, weight, capacity)"
   ]
  },
  {
   "cell_type": "markdown",
   "metadata": {},
   "source": [
    "### Résolution"
   ]
  },
  {
   "cell_type": "code",
   "execution_count": 5,
   "metadata": {},
   "outputs": [
    {
     "data": {
      "text/plain": [
       "SolveKnapInstance (generic function with 1 method)"
      ]
     },
     "execution_count": 5,
     "metadata": {},
     "output_type": "execute_result"
    }
   ],
   "source": [
    "function SolveKnapInstance(filename)\n",
    "\n",
    "    price, weight, capacity = readKnaptxtInstance(filename)\n",
    "    \n",
    "    BestProfit, BestSolution = CreateTab(price, weight, capacity) \n",
    "    \n",
    "    return BestProfit, BestSolution\n",
    "\n",
    "end"
   ]
  },
  {
   "cell_type": "markdown",
   "metadata": {},
   "source": [
    "### Affichage du résultat final"
   ]
  },
  {
   "cell_type": "code",
   "execution_count": 8,
   "metadata": {},
   "outputs": [
    {
     "data": {
      "text/plain": [
       "4×10 Matrix{Int64}:\n",
       " 0  0  12  12  12  12  12  12  12  12\n",
       " 0  0  12  40  40  40  52  52  52  52\n",
       " 0  0  12  40  40  40  52  52  65  65\n",
       " 0  0  12  40  40  40  52  52  65  65"
      ]
     },
     "metadata": {},
     "output_type": "display_data"
    },
    {
     "name": "stdout",
     "output_type": "stream",
     "text": [
      "\n",
      "******\n",
      "\n",
      "Optimal value = 65\n",
      "\n",
      "Optimal x = Any[\"4\", \"5\"]\n"
     ]
    }
   ],
   "source": [
    "BestProfit, BestSolution = SolveKnapInstance(\"instancesETU/KNAPnewformat/test.opb.txt\")\n",
    "println(\"\\n******\\n\\nOptimal value = \", BestProfit, \"\\n\\nOptimal x = \", BestSolution)"
   ]
  }
 ],
 "metadata": {
  "kernelspec": {
   "display_name": "Julia 1.8.4",
   "language": "julia",
   "name": "julia-1.8"
  },
  "language_info": {
   "file_extension": ".jl",
   "mimetype": "application/julia",
   "name": "julia",
   "version": "1.8.4"
  }
 },
 "nbformat": 4,
 "nbformat_minor": 4
}
